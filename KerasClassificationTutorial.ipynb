{
 "cells": [
  {
   "cell_type": "markdown",
   "metadata": {},
   "source": [
    "## Training a Classification Neural Network Model with Keras in Tensorflow\n",
    "\n",
    "In this exercise, we will implement an artificial neural network used for binary classification with three hidden layers and using stochastic gradient descent.\n",
    "\n",
    "For more information about Keras, consult the [online documentation](https://keras.io/api/).\n",
    "Tensorflow is a general purpose high-performance computing language which Keras is built on top of to allow us to easily define and train neural networks.\n",
    "\n",
    "To get started, let us import Keras, along with other libraries."
   ]
  },
  {
   "cell_type": "code",
   "execution_count": 1,
   "metadata": {},
   "outputs": [],
   "source": [
    "import numpy as np\n",
    "import matplotlib.pyplot as plt\n",
    "import tensorflow.keras as keras\n",
    "from sklearn.model_selection import train_test_split"
   ]
  },
  {
   "cell_type": "markdown",
   "metadata": {},
   "source": [
    "### Create and Visualize a Data Set\n",
    "\n",
    "We will create some data to use for training and testing.\n",
    "\n",
    "Our data set will consist of 600 data points. Each data point contains two features and one label. The label is either 0 or 1. In this example, we created our data set to contain 300 data points belonging to class 0 and 300 data points belonging to class 1."
   ]
  },
  {
   "cell_type": "code",
   "execution_count": 2,
   "metadata": {},
   "outputs": [
    {
     "data": {
      "image/png": "[encoded data removed]",
      "text/plain": [
       "<Figure size 432x288 with 1 Axes>"
      ]
     },
     "metadata": {
      "needs_background": "light"
     },
     "output_type": "display_data"
    }
   ],
   "source": [
    "# The data set contains 600 data points total\n",
    "# 300 in class 0 \n",
    "# 300 in class 1\n",
    "\n",
    "N = 300\n",
    "r = np.linspace(1,2*np.pi,N)\n",
    "x1 = np.array([np.sin(2.*r)*r, np.cos(2*r)*r]).T\n",
    "x2 = np.array([np.sin(2.*r+np.pi)*r, np.cos(2*r+np.pi)*r]).T\n",
    "X = np.concatenate([x1, x2], axis=0)\n",
    "y = np.concatenate([np.ones(N), 0 * np.ones(N)])\n",
    "\n",
    "# Visualize data\n",
    "plt.scatter(X[y == 1, 0], X[y == 1, 1], c='b')\n",
    "plt.scatter(X[y != 1, 0], X[y != 1, 1], c='r')\n",
    "plt.legend([\"1\",\"0\"])\n",
    "plt.show()"
   ]
  },
  {
   "cell_type": "markdown",
   "metadata": {},
   "source": [
    "### Create Training & Test Data Sets\n",
    "We will now use `sklearn` to split our data set into training and test data sets"
   ]
  },
  {
   "cell_type": "code",
   "execution_count": 3,
   "metadata": {},
   "outputs": [],
   "source": [
    "x_train, x_test, y_train, y_test = train_test_split(X, y, test_size=0.3, random_state=4)"
   ]
  },
  {
   "cell_type": "markdown",
   "metadata": {},
   "source": [
    "The code cells below follow these 5 simple steps to train the model on data:\n",
    "\n",
    "1. Define the model structure\n",
    "2. Define a loss function\n",
    "3. Define an optimizer\n",
    "4. Compile the model\n",
    "5. Train the network\n",
    "6. Evaluate the model"
   ]
  },
  {
   "cell_type": "markdown",
   "metadata": {},
   "source": [
    "### Step 1. Define Model Structure\n",
    "\n",
    "To create a neural network in Keras we have to specify the type and width of each hidden layer as well as the transition function utilized. Below we create a network with 3 hidden layers of width 64, 32, and 16 and utilizing the ReLu transition function."
   ]
  },
  {
   "cell_type": "code",
   "execution_count": 4,
   "metadata": {},
   "outputs": [
    {
     "name": "stdout",
     "output_type": "stream",
     "text": [
      "Model: \"sequential\"\n",
      "_________________________________________________________________\n",
      "Layer (type)                 Output Shape              Param #   \n",
      "=================================================================\n",
      "fc1 (Dense)                  (None, 64)                192       \n",
      "_________________________________________________________________\n",
      "fc2 (Dense)                  (None, 32)                2080      \n",
      "_________________________________________________________________\n",
      "fc3 (Dense)                  (None, 16)                528       \n",
      "_________________________________________________________________\n",
      "fc4 (Dense)                  (None, 2)                 34        \n",
      "=================================================================\n",
      "Total params: 2,834\n",
      "Trainable params: 2,834\n",
      "Non-trainable params: 0\n",
      "_________________________________________________________________\n"
     ]
    }
   ],
   "source": [
    "model = keras.Sequential()\n",
    "\n",
    "hidden_layer_1 = keras.layers.Dense(64, input_shape=(2,), activation='relu', name='fc1')\n",
    "model.add(hidden_layer_1)\n",
    "\n",
    "hidden_layer_2 = keras.layers.Dense(32, activation='relu', name='fc2')\n",
    "model.add(hidden_layer_2)\n",
    "\n",
    "hidden_layer_3 = keras.layers.Dense(16, activation='relu', name='fc3')\n",
    "model.add(hidden_layer_3)\n",
    "\n",
    "output_layer = keras.layers.Dense(2, activation=None, name='fc4')\n",
    "model.add(output_layer)\n",
    "\n",
    "# Display the model's parameters\n",
    "model.summary()"
   ]
  },
  {
   "cell_type": "markdown",
   "metadata": {},
   "source": [
    "`model.summary()` is an incredibly useful tool. It also shows the number of parameters per layer. \n",
    "\n",
    "For example, since the first layer is $64$ units and the input dimension is $2$, the first weight matrix $\\mathbf{W}_1$ must be of shape $2 \\times 64$. Recall that the ReLu function is $\\mathbf{Z}_1 = \\sigma(\\mathbf{W}_1 x + b)$ where $x$ is one input point and $b$ is the bias vector added after matrix multiplication of $\\mathbf{W}_1$ with $x$. To match dimensions, the vectors $b$ and $\\mathbf{W}_1 x$ must be of equal length, i.e., $64$. Hence, how many parameters does the first layer have in total?\n",
    "\n",
    "Well, it is $2 \\times 64 + 64 = 192$, which we see in the summary table. Likewise, the second layer has $64 \\times 32 + 32 = 2080$ parameters, and so on."
   ]
  },
  {
   "cell_type": "markdown",
   "metadata": {},
   "source": [
    "### Step 2. Define the Optimization Function\n",
    "\n",
    "As our optimizer we will use stochastic gradient descent (SGD) with a learning rate of 0.1."
   ]
  },
  {
   "cell_type": "code",
   "execution_count": 5,
   "metadata": {},
   "outputs": [],
   "source": [
    "optimizer = keras.optimizers.SGD(learning_rate=0.1)"
   ]
  },
  {
   "cell_type": "markdown",
   "metadata": {},
   "source": [
    "### Step 3. Define the loss function\n",
    "\n",
    "Since we are doing a classification problem, we are going to use cross entropy loss. We will use the `SparseCategoricalCrossentropy` loss function since `y` contains integer labels (0 and 1).\n",
    "Since the outputs will be not normalized between 0 and 1, we specify `from_logits=True`. For more information on cross entropy loss functions in Keras visit the [online documentation](https://keras.io/api/losses/probabilistic_losses/)."
   ]
  },
  {
   "cell_type": "code",
   "execution_count": 6,
   "metadata": {},
   "outputs": [],
   "source": [
    "loss_fn = keras.losses.SparseCategoricalCrossentropy(from_logits=True)"
   ]
  },
  {
   "cell_type": "markdown",
   "metadata": {},
   "source": [
    "### Step 4. Compile the model\n",
    "\n",
    "Now we need to package the network architecture with the optimizer and the loss function and to do this we use the `.compile()` method. Notice we are also including the `metrics` parameter. This is a list of metrics to be evaluated by the model during training and testing. We will specify `accuracy` since we would like to obtain the accuracy score."
   ]
  },
  {
   "cell_type": "code",
   "execution_count": 7,
   "metadata": {},
   "outputs": [],
   "source": [
    "model.compile(optimizer=optimizer, loss=loss_fn, metrics=['accuracy'])"
   ]
  },
  {
   "cell_type": "markdown",
   "metadata": {},
   "source": [
    "### Step 5. Train the model\n",
    "\n",
    "We are almost ready to train. By default, Keras outputs loss and metrics at the end of every epoch. So instead, we use a custom logger function to only output every 50 epochs."
   ]
  },
  {
   "cell_type": "code",
   "execution_count": 8,
   "metadata": {},
   "outputs": [],
   "source": [
    "class ProgBarLoggerNEpochs(keras.callbacks.Callback):\n",
    "    \n",
    "    def __init__(self, num_epochs: int, every_n: int = 50):\n",
    "        self.num_epochs = num_epochs\n",
    "        self.every_n = every_n\n",
    "    \n",
    "    def on_epoch_end(self, epoch, logs=None):\n",
    "        if (epoch + 1) % self.every_n == 0:\n",
    "            s = 'Epoch [{}/ {}]'.format(epoch + 1, self.num_epochs)\n",
    "            logs_s = ['{}: {:.4f}'.format(k.capitalize(), v)\n",
    "                      for k, v in logs.items()]\n",
    "            s_list = [s] + logs_s\n",
    "            print(', '.join(s_list))"
   ]
  },
  {
   "cell_type": "markdown",
   "metadata": {},
   "source": [
    "Now we can run the `.fit()` method on our model to learn parameters from the training data. Notice we are adding our logger function to the list of callbacks."
   ]
  },
  {
   "cell_type": "code",
   "execution_count": 9,
   "metadata": {},
   "outputs": [
    {
     "name": "stdout",
     "output_type": "stream",
     "text": [
      "Epoch [50/ 1000], Loss: 0.5796, Accuracy: 0.6714\n",
      "Epoch [100/ 1000], Loss: 0.1327, Accuracy: 0.9667\n",
      "Epoch [150/ 1000], Loss: 0.0025, Accuracy: 1.0000\n",
      "Epoch [200/ 1000], Loss: 0.0011, Accuracy: 1.0000\n",
      "Epoch [250/ 1000], Loss: 0.0006, Accuracy: 1.0000\n",
      "Epoch [300/ 1000], Loss: 0.0004, Accuracy: 1.0000\n",
      "Epoch [350/ 1000], Loss: 0.0003, Accuracy: 1.0000\n",
      "Epoch [400/ 1000], Loss: 0.0003, Accuracy: 1.0000\n",
      "Epoch [450/ 1000], Loss: 0.0002, Accuracy: 1.0000\n",
      "Epoch [500/ 1000], Loss: 0.0002, Accuracy: 1.0000\n",
      "Epoch [550/ 1000], Loss: 0.0002, Accuracy: 1.0000\n",
      "Epoch [600/ 1000], Loss: 0.0001, Accuracy: 1.0000\n",
      "Epoch [650/ 1000], Loss: 0.0001, Accuracy: 1.0000\n",
      "Epoch [700/ 1000], Loss: 0.0001, Accuracy: 1.0000\n",
      "Epoch [750/ 1000], Loss: 0.0001, Accuracy: 1.0000\n",
      "Epoch [800/ 1000], Loss: 0.0001, Accuracy: 1.0000\n",
      "Epoch [850/ 1000], Loss: 0.0001, Accuracy: 1.0000\n",
      "Epoch [900/ 1000], Loss: 0.0001, Accuracy: 1.0000\n",
      "Epoch [950/ 1000], Loss: 0.0001, Accuracy: 1.0000\n",
      "Epoch [1000/ 1000], Loss: 0.0001, Accuracy: 1.0000\n"
     ]
    }
   ],
   "source": [
    "num_epochs = 1000\n",
    "\n",
    "history = model.fit(\n",
    "    x_train,\n",
    "    y_train,\n",
    "    epochs=num_epochs,\n",
    "    verbose=0, # disable the default progress bar\n",
    "    callbacks=[ProgBarLoggerNEpochs(num_epochs, every_n=50)],\n",
    ")"
   ]
  },
  {
   "cell_type": "markdown",
   "metadata": {},
   "source": [
    "### Step 6. Evaluate the Model\n",
    "\n",
    "Let us visualize the training loss over time:"
   ]
  },
  {
   "cell_type": "code",
   "execution_count": 10,
   "metadata": {},
   "outputs": [
    {
     "data": {
      "image/png": "[encoded data removed]",
      "text/plain": [
       "<Figure size 432x288 with 1 Axes>"
      ]
     },
     "metadata": {
      "needs_background": "light"
     },
     "output_type": "display_data"
    }
   ],
   "source": [
    "# visualize the training loss over time\n",
    "training_losses = history.history['loss']\n",
    "\n",
    "plt.plot(range(1, num_epochs + 1), training_losses, label='Training Loss')\n",
    "plt.xlabel('Epoch')\n",
    "plt.show()"
   ]
  },
  {
   "cell_type": "markdown",
   "metadata": {},
   "source": [
    "Keras makes the process of evaluating our model very easy. Recall that when we compiled the model we specified the metric we wanted to use to evaluate the model: accuracy. The keras method `.evaluate()` will return the loss and accuracy score of our model on our test data:"
   ]
  },
  {
   "cell_type": "code",
   "execution_count": 12,
   "metadata": {},
   "outputs": [
    {
     "name": "stdout",
     "output_type": "stream",
     "text": [
      "Loss:  0.0002018569502979517 Accuracy:  1.0\n"
     ]
    }
   ],
   "source": [
    "loss, accuracy = model.evaluate(x_test, y_test, verbose=0)\n",
    "print('Loss: ', str(loss) , 'Accuracy: ', str(accuracy))"
   ]
  },
  {
   "cell_type": "markdown",
   "metadata": {},
   "source": [
    "Classification problems output belief vectors, also known as logits. Every element in the belief vector corresponds to the model's belief that the input example belongs to a certain class. For example, imagine we have a 5-class classification problem with labels {0, 1, 2, 3, 4}. Our model will output a 5-dimensional belief vector. If the 𝑗th element of this vector has the highest value, then the model believes that that data point belongs to class 𝑗.\n",
    "\n",
    "We are working with binary classification, so for each data point, the model will output a 2-dimensional belief vector. The element (element 0 or element 1) in the two dimensional vector that has the highest value is the class (class 0 or class 1) that the model believes the data point belongs to.\n",
    "\n",
    "In the cell below, we will make a prediction on our test set using the `.predict()` method, receive an output of logits, and then apply the `.argmax(axis=1)` method to get the predicted class for each data point.\n",
    "\n",
    "For the first 5 data points, we will output their 2-dimensional belief vectors and the corresponding classes. Examine the output to see how this works."
   ]
  },
  {
   "cell_type": "code",
   "execution_count": 13,
   "metadata": {},
   "outputs": [
    {
     "name": "stdout",
     "output_type": "stream",
     "text": [
      "Predictions for the first 5 data points:\n",
      "Logits\t\t\tClass\n",
      "[ 2.9251478 -6.635536 ]\t0\n",
      "[ 5.809343 -5.216757]\t0\n",
      "[ 2.0649664 -7.442024 ]\t0\n",
      "[ 3.3239489 -6.95391  ]\t0\n",
      "[-5.563294  4.618438]\t1\n"
     ]
    }
   ],
   "source": [
    "# Evaluate the network\n",
    "# Make predictions on the test set\n",
    "logits = model.predict(x_test)\n",
    "pred = logits.argmax(axis = 1)\n",
    "\n",
    "print(\"Predictions for the first 5 data points:\")\n",
    "print(\"Logits\\t\\t\\tClass\")\n",
    "for i in range(0,5):\n",
    "    print(str(logits[i]) + \"\\t\" + str(pred[i]))"
   ]
  },
  {
   "cell_type": "markdown",
   "metadata": {},
   "source": [
    "Although we already computed the accuracy score using the `.evaluate()` method, we can verify the accuracy by comparing our resulting predictions to the labels contained in our test set `y_test`."
   ]
  },
  {
   "cell_type": "code",
   "execution_count": 14,
   "metadata": {},
   "outputs": [
    {
     "name": "stdout",
     "output_type": "stream",
     "text": [
      "Test Accuracy is 1.0000\n"
     ]
    }
   ],
   "source": [
    "acc = np.equal(pred,y_test).mean()\n",
    "print('Test Accuracy is {:.4f}'. format(acc))"
   ]
  },
  {
   "cell_type": "markdown",
   "metadata": {},
   "source": [
    "### Step 7. Visualize the Learned Decision Boundaries"
   ]
  },
  {
   "cell_type": "markdown",
   "metadata": {},
   "source": [
    "Finally, since this example is a binary classification problem, we can visualize the decision boundaries that the model learned:"
   ]
  },
  {
   "cell_type": "code",
   "execution_count": 15,
   "metadata": {},
   "outputs": [
    {
     "data": {
      "image/png": "[encoded data removed]",
      "text/plain": [
       "<Figure size 432x288 with 1 Axes>"
      ]
     },
     "metadata": {
      "needs_background": "light"
     },
     "output_type": "display_data"
    }
   ],
   "source": [
    "from numpy.matlib import repmat\n",
    "\n",
    "symbols = [\"ko\",\"kx\"]\n",
    "marker_symbols = ['o', 'x']\n",
    "mycolors = [[0.5, 0.5, 1], [1, 0.5, 0.5]]\n",
    "classvals = np.unique(y_train)\n",
    "\n",
    "plt.figure()\n",
    "\n",
    "res=300\n",
    "xrange = np.linspace(min(x_test[:, 0]), max(x_test[:, 0]),res)\n",
    "yrange = np.linspace(min(x_test[:, 1]), max(x_test[:, 1]),res)\n",
    "pixelX = repmat(xrange, res, 1)\n",
    "pixelY = repmat(yrange, res, 1).T\n",
    "\n",
    "\n",
    "xTe = np.array([pixelX.flatten(), pixelY.flatten()]).T\n",
    "logits = model.predict(xTe, steps = 1)\n",
    "testpreds = logits.argmax(axis = 1)\n",
    "\n",
    "testpreds[testpreds == 0] = -1\n",
    "Z = testpreds.reshape(res, res)\n",
    "#Z[0,0] = 1 # optional: scale the colors correctly\n",
    "plt.contourf(pixelX, pixelY, np.sign(Z), colors=mycolors)\n",
    "\n",
    "for idx, c in enumerate(classvals):\n",
    "    plt.scatter(x_train[y_train == c,0],\n",
    "                x_train[y_train == c,1],\n",
    "                marker=marker_symbols[idx],\n",
    "                color='k')\n",
    "\n",
    "plt.axis('tight')\n",
    "plt.show()\n",
    "\n"
   ]
  }
 ],
 "metadata": {
  "kernelspec": {
   "display_name": "Python 3",
   "language": "python",
   "name": "python3"
  },
  "language_info": {
   "codemirror_mode": {
    "name": "ipython",
    "version": 3
   },
   "file_extension": ".py",
   "mimetype": "text/x-python",
   "name": "python",
   "nbconvert_exporter": "python",
   "pygments_lexer": "ipython3",
   "version": "3.6.8"
  }
 },
 "nbformat": 4,
 "nbformat_minor": 4
}
