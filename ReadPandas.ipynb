{
 "cells": [
  {
   "cell_type": "markdown",
   "metadata": {
    "nbgrader": {
     "grade": false,
     "grade_id": "cell-b0a221ecaeb0fafc",
     "locked": true,
     "schema_version": 3,
     "solution": false,
     "task": false
    }
   },
   "source": [
    "## Reading tabular data into pandas dataframes\n",
    "\n",
    "Pandas provides a variety of functions for reading data tables into DataFrame objects, and for writing those DataFrames out to files in different formats.\n",
    "\n",
    "Let's start by doing a few imports.  Execute the code cell below."
   ]
  },
  {
   "cell_type": "code",
   "execution_count": 128,
   "metadata": {
    "nbgrader": {
     "grade": false,
     "grade_id": "cell-fa23c02af9d02625",
     "locked": true,
     "schema_version": 3,
     "solution": false,
     "task": false
    }
   },
   "outputs": [],
   "source": [
    "import pandas as pd\n",
    "import matplotlib.pyplot as plt\n",
    "%matplotlib inline"
   ]
  },
  {
   "cell_type": "markdown",
   "metadata": {
    "nbgrader": {
     "grade": false,
     "grade_id": "cell-a6b25effb505d8d1",
     "locked": true,
     "schema_version": 3,
     "solution": false,
     "task": false
    }
   },
   "source": [
    "Let's look at the contents of the current directory with the ```%ls``` magic function.  Execute the code cell below."
   ]
  },
  {
   "cell_type": "code",
   "execution_count": 129,
   "metadata": {
    "nbgrader": {
     "grade": false,
     "grade_id": "cell-b6a9c5997cf18b6b",
     "locked": true,
     "schema_version": 3,
     "solution": false,
     "task": false
    }
   },
   "outputs": [
    {
     "name": "stdout",
     "output_type": "stream",
     "text": [
      "gradebook.db                      jn.py            ReadPandas.ipynb\r\n",
      "IthacaDailyClimate2018.csv        \u001b[0m\u001b[01;34m__pycache__\u001b[0m/\r\n",
      "IthacaDailyClimateMultiyear.xlsx  readPandas1.png\r\n"
     ]
    }
   ],
   "source": [
    "%ls"
   ]
  },
  {
   "cell_type": "markdown",
   "metadata": {
    "nbgrader": {
     "grade": false,
     "grade_id": "cell-4bfad0aec2038d00",
     "locked": true,
     "schema_version": 3,
     "solution": false,
     "task": false
    }
   },
   "source": [
    "Data tables are often stored in csv (comma-separated values) files.  This is a useful file format, since it is human-readable and is portable across different programs and platforms.\n",
    "\n",
    "In our current working directory, there is a data file named \"IthacaDailyClimate2018.csv\", which contains climate data for Ithaca, NY, USA for each day throughout 2018.\n",
    "\n",
    "In the code cell below, use the ```read_csv``` function in pandas to create a dataframe from this csv file, and assigns the resulting dataframe to the variable ```df```.  Then uses the ```head``` method to show the first five rows of the dataframe.  Execute the code cell below and evaluate the result.\n",
    "\n",
    "Consult the <a href='https://pandas.pydata.org/pandas-docs/stable/reference/api/pandas.read_csv.html'>online documentation</a> for more information about the ``read_csv`` function."
   ]
  },
  {
   "cell_type": "markdown",
   "metadata": {},
   "source": [
    "## Graded Cell"
   ]
  },
  {
   "cell_type": "code",
   "execution_count": 130,
   "metadata": {
    "nbgrader": {
     "grade": false,
     "grade_id": "cell-1ae0111c881cd7d4",
     "locked": true,
     "schema_version": 3,
     "solution": false,
     "task": false
    },
    "scrolled": true
   },
   "outputs": [
    {
     "data": {
      "text/html": [
       "<div>\n",
       "<style scoped>\n",
       "    .dataframe tbody tr th:only-of-type {\n",
       "        vertical-align: middle;\n",
       "    }\n",
       "\n",
       "    .dataframe tbody tr th {\n",
       "        vertical-align: top;\n",
       "    }\n",
       "\n",
       "    .dataframe thead th {\n",
       "        text-align: right;\n",
       "    }\n",
       "</style>\n",
       "<table border=\"1\" class=\"dataframe\">\n",
       "  <thead>\n",
       "    <tr style=\"text-align: right;\">\n",
       "      <th></th>\n",
       "      <th>Date</th>\n",
       "      <th>Maximum Temperature</th>\n",
       "      <th>Minimum Temperature</th>\n",
       "      <th>Average Temperature</th>\n",
       "      <th>Precipitation</th>\n",
       "      <th>Snowfall</th>\n",
       "      <th>Snow Depth</th>\n",
       "    </tr>\n",
       "  </thead>\n",
       "  <tbody>\n",
       "    <tr>\n",
       "      <th>0</th>\n",
       "      <td>2018-01-01</td>\n",
       "      <td>5</td>\n",
       "      <td>0</td>\n",
       "      <td>2.5</td>\n",
       "      <td>0.04</td>\n",
       "      <td>1.0</td>\n",
       "      <td>3.0</td>\n",
       "    </tr>\n",
       "    <tr>\n",
       "      <th>1</th>\n",
       "      <td>2018-01-02</td>\n",
       "      <td>13</td>\n",
       "      <td>1</td>\n",
       "      <td>7.0</td>\n",
       "      <td>0.03</td>\n",
       "      <td>0.6</td>\n",
       "      <td>4.0</td>\n",
       "    </tr>\n",
       "    <tr>\n",
       "      <th>2</th>\n",
       "      <td>2018-01-03</td>\n",
       "      <td>19</td>\n",
       "      <td>-2</td>\n",
       "      <td>8.5</td>\n",
       "      <td>0.00</td>\n",
       "      <td>0.0</td>\n",
       "      <td>4.0</td>\n",
       "    </tr>\n",
       "    <tr>\n",
       "      <th>3</th>\n",
       "      <td>2018-01-04</td>\n",
       "      <td>22</td>\n",
       "      <td>1</td>\n",
       "      <td>11.5</td>\n",
       "      <td>0.00</td>\n",
       "      <td>0.0</td>\n",
       "      <td>3.0</td>\n",
       "    </tr>\n",
       "    <tr>\n",
       "      <th>4</th>\n",
       "      <td>2018-01-05</td>\n",
       "      <td>18</td>\n",
       "      <td>-2</td>\n",
       "      <td>8.0</td>\n",
       "      <td>0.09</td>\n",
       "      <td>1.2</td>\n",
       "      <td>4.0</td>\n",
       "    </tr>\n",
       "    <tr>\n",
       "      <th>...</th>\n",
       "      <td>...</td>\n",
       "      <td>...</td>\n",
       "      <td>...</td>\n",
       "      <td>...</td>\n",
       "      <td>...</td>\n",
       "      <td>...</td>\n",
       "      <td>...</td>\n",
       "    </tr>\n",
       "    <tr>\n",
       "      <th>360</th>\n",
       "      <td>2018-12-27</td>\n",
       "      <td>33</td>\n",
       "      <td>23</td>\n",
       "      <td>28.0</td>\n",
       "      <td>0.00</td>\n",
       "      <td>0.0</td>\n",
       "      <td>1.0</td>\n",
       "    </tr>\n",
       "    <tr>\n",
       "      <th>361</th>\n",
       "      <td>2018-12-28</td>\n",
       "      <td>40</td>\n",
       "      <td>21</td>\n",
       "      <td>30.5</td>\n",
       "      <td>0.07</td>\n",
       "      <td>0.0</td>\n",
       "      <td>0.0</td>\n",
       "    </tr>\n",
       "    <tr>\n",
       "      <th>362</th>\n",
       "      <td>2018-12-29</td>\n",
       "      <td>50</td>\n",
       "      <td>37</td>\n",
       "      <td>43.5</td>\n",
       "      <td>0.04</td>\n",
       "      <td>0.0</td>\n",
       "      <td>0.0</td>\n",
       "    </tr>\n",
       "    <tr>\n",
       "      <th>363</th>\n",
       "      <td>2018-12-30</td>\n",
       "      <td>37</td>\n",
       "      <td>24</td>\n",
       "      <td>30.5</td>\n",
       "      <td>0.02</td>\n",
       "      <td>0.7</td>\n",
       "      <td>1.0</td>\n",
       "    </tr>\n",
       "    <tr>\n",
       "      <th>364</th>\n",
       "      <td>2018-12-31</td>\n",
       "      <td>35</td>\n",
       "      <td>25</td>\n",
       "      <td>30.0</td>\n",
       "      <td>0.00</td>\n",
       "      <td>0.0</td>\n",
       "      <td>0.0</td>\n",
       "    </tr>\n",
       "  </tbody>\n",
       "</table>\n",
       "<p>365 rows × 7 columns</p>\n",
       "</div>"
      ],
      "text/plain": [
       "           Date  Maximum Temperature  Minimum Temperature  \\\n",
       "0    2018-01-01                    5                    0   \n",
       "1    2018-01-02                   13                    1   \n",
       "2    2018-01-03                   19                   -2   \n",
       "3    2018-01-04                   22                    1   \n",
       "4    2018-01-05                   18                   -2   \n",
       "..          ...                  ...                  ...   \n",
       "360  2018-12-27                   33                   23   \n",
       "361  2018-12-28                   40                   21   \n",
       "362  2018-12-29                   50                   37   \n",
       "363  2018-12-30                   37                   24   \n",
       "364  2018-12-31                   35                   25   \n",
       "\n",
       "     Average Temperature  Precipitation  Snowfall  Snow Depth  \n",
       "0                    2.5           0.04       1.0         3.0  \n",
       "1                    7.0           0.03       0.6         4.0  \n",
       "2                    8.5           0.00       0.0         4.0  \n",
       "3                   11.5           0.00       0.0         3.0  \n",
       "4                    8.0           0.09       1.2         4.0  \n",
       "..                   ...            ...       ...         ...  \n",
       "360                 28.0           0.00       0.0         1.0  \n",
       "361                 30.5           0.07       0.0         0.0  \n",
       "362                 43.5           0.04       0.0         0.0  \n",
       "363                 30.5           0.02       0.7         1.0  \n",
       "364                 30.0           0.00       0.0         0.0  \n",
       "\n",
       "[365 rows x 7 columns]"
      ]
     },
     "execution_count": 130,
     "metadata": {},
     "output_type": "execute_result"
    }
   ],
   "source": [
    "df = pd.read_csv('IthacaDailyClimate2018.csv')\n",
    "df"
   ]
  },
  {
   "cell_type": "markdown",
   "metadata": {},
   "source": [
    "## Self-Check\n",
    "\n",
    "Run the cell below to test the correctness of your code in the cell above."
   ]
  },
  {
   "cell_type": "code",
   "execution_count": 131,
   "metadata": {},
   "outputs": [
    {
     "name": "stdout",
     "output_type": "stream",
     "text": [
      "Correct!\n"
     ]
    }
   ],
   "source": [
    "# Run this self-test cell to check your code; do not add code or delete code in this cell\n",
    "from jn import testDf\n",
    "\n",
    "try:\n",
    "    print(testDf(df))    \n",
    "except Exception as e:\n",
    "    print(\"Error!\\n\" + str(e))"
   ]
  },
  {
   "cell_type": "markdown",
   "metadata": {
    "nbgrader": {
     "grade": false,
     "grade_id": "cell-a0042c636a0c13da",
     "locked": true,
     "schema_version": 3,
     "solution": false,
     "task": false
    }
   },
   "source": [
    "It's also useful to get an overview of a dataframe by calling the ```info``` method of the dataframe.  Use the `info` method on the dataframe in the code cell below to print out this summary information. Evaluate the results."
   ]
  },
  {
   "cell_type": "code",
   "execution_count": 132,
   "metadata": {
    "nbgrader": {
     "grade": false,
     "grade_id": "cell-56a311017380739a",
     "locked": true,
     "schema_version": 3,
     "solution": false,
     "task": false
    }
   },
   "outputs": [
    {
     "data": {
      "text/plain": [
       "<bound method DataFrame.info of            Date  Maximum Temperature  Minimum Temperature  \\\n",
       "0    2018-01-01                    5                    0   \n",
       "1    2018-01-02                   13                    1   \n",
       "2    2018-01-03                   19                   -2   \n",
       "3    2018-01-04                   22                    1   \n",
       "4    2018-01-05                   18                   -2   \n",
       "..          ...                  ...                  ...   \n",
       "360  2018-12-27                   33                   23   \n",
       "361  2018-12-28                   40                   21   \n",
       "362  2018-12-29                   50                   37   \n",
       "363  2018-12-30                   37                   24   \n",
       "364  2018-12-31                   35                   25   \n",
       "\n",
       "     Average Temperature  Precipitation  Snowfall  Snow Depth  \n",
       "0                    2.5           0.04       1.0         3.0  \n",
       "1                    7.0           0.03       0.6         4.0  \n",
       "2                    8.5           0.00       0.0         4.0  \n",
       "3                   11.5           0.00       0.0         3.0  \n",
       "4                    8.0           0.09       1.2         4.0  \n",
       "..                   ...            ...       ...         ...  \n",
       "360                 28.0           0.00       0.0         1.0  \n",
       "361                 30.5           0.07       0.0         0.0  \n",
       "362                 43.5           0.04       0.0         0.0  \n",
       "363                 30.5           0.02       0.7         1.0  \n",
       "364                 30.0           0.00       0.0         0.0  \n",
       "\n",
       "[365 rows x 7 columns]>"
      ]
     },
     "execution_count": 132,
     "metadata": {},
     "output_type": "execute_result"
    }
   ],
   "source": [
    "df.info"
   ]
  },
  {
   "cell_type": "markdown",
   "metadata": {
    "nbgrader": {
     "grade": false,
     "grade_id": "cell-62f4aca3a4adce43",
     "locked": true,
     "schema_version": 3,
     "solution": false,
     "task": false
    }
   },
   "source": [
    "The information printed above reveals that some of the data fields are integers (int64), some are floats (float64), and the ```Date``` field is represented as an \"object\".  That essentially means that it is being treated as a string, and not recognized to be a date (or datetime) object.\n",
    "\n",
    "We can refine our call above to ```pd.read_csv``` to provide additional information that the ```Date``` field should be interpreted as a date.  ```pd.read_csv``` has an option called ```parse_dates```.  Use the ```parse_dates``` option and assign it a list containing column names (as strings); pandas will try to parse those columns as datetime objects.\n",
    "\n",
    "In the code cell below, write a revised expression to read the climate csv file and assign the result to ```df```, except this time provide additional information that the ```Date``` column should be parsed as dates.  Then write an expression to print out the summary information using the ```info``` method.  Evaluate the code cell."
   ]
  },
  {
   "cell_type": "markdown",
   "metadata": {},
   "source": [
    "## Graded Cell"
   ]
  },
  {
   "cell_type": "code",
   "execution_count": 133,
   "metadata": {
    "nbgrader": {
     "grade": false,
     "grade_id": "cell-410e3af9aa7bf501",
     "locked": true,
     "schema_version": 1,
     "solution": false
    }
   },
   "outputs": [
    {
     "name": "stdout",
     "output_type": "stream",
     "text": [
      "<class 'pandas.core.frame.DataFrame'>\n",
      "RangeIndex: 365 entries, 0 to 364\n",
      "Data columns (total 7 columns):\n",
      " #   Column               Non-Null Count  Dtype         \n",
      "---  ------               --------------  -----         \n",
      " 0   Date                 365 non-null    datetime64[ns]\n",
      " 1   Maximum Temperature  365 non-null    int64         \n",
      " 2   Minimum Temperature  365 non-null    int64         \n",
      " 3   Average Temperature  365 non-null    float64       \n",
      " 4   Precipitation        365 non-null    float64       \n",
      " 5   Snowfall             365 non-null    float64       \n",
      " 6   Snow Depth           365 non-null    float64       \n",
      "dtypes: datetime64[ns](1), float64(4), int64(2)\n",
      "memory usage: 20.1 KB\n"
     ]
    }
   ],
   "source": [
    "df = pd.read_csv('IthacaDailyClimate2018.csv' , parse_dates=['Date'])\n",
    "df.info()"
   ]
  },
  {
   "cell_type": "markdown",
   "metadata": {
    "nbgrader": {
     "grade": false,
     "grade_id": "cell-247f700d0aaad4c1",
     "locked": true,
     "schema_version": 1,
     "solution": false
    }
   },
   "source": [
    "## Self-Check\n",
    "\n",
    "Run the cell below to test the correctness of your code in the cell above."
   ]
  },
  {
   "cell_type": "code",
   "execution_count": 134,
   "metadata": {
    "nbgrader": {
     "grade": false,
     "grade_id": "cell-a79187db97e1695f",
     "locked": true,
     "schema_version": 1,
     "solution": false,
     "task": false
    }
   },
   "outputs": [
    {
     "name": "stdout",
     "output_type": "stream",
     "text": [
      "Correct!\n"
     ]
    }
   ],
   "source": [
    "# Run this self-test cell to check your code; do not add code or delete code in this cell\n",
    "from jn import testdDfDate\n",
    "\n",
    "try:\n",
    "    print(testdDfDate(df))    \n",
    "except Exception as e:\n",
    "    print(\"Error!\\n\" + str(e))"
   ]
  },
  {
   "cell_type": "markdown",
   "metadata": {
    "nbgrader": {
     "grade": false,
     "grade_id": "cell-9df69dc2c203772a",
     "locked": true,
     "schema_version": 3,
     "solution": false,
     "task": false
    }
   },
   "source": [
    "Now that the ```Date``` field has been converted to a datetime64 object, pandas is able to do some useful things with that.  Recall that a dataframe object has a ```plot``` method that allows you to plot different columns against each other, by passing the names of those columns as ```x``` and ```y``` inputs to the method.\n",
    "\n",
    "In the code cell below, make a call to ```df.plot``` that plots the ```Snow Depth``` throughout the year (i.e., with ```Snow Depth``` on the y-axis and ```Date``` on the x-axis).  Evaluate your plot.  You should notice in the plot that the ticks on the x axis are represented as abbreviations of the months, even though those month abbreviations were not included in the original csv file that we read in.  Because we converted the dates in the previous step, pandas was able to make use of that information to make a usefully formatted plot."
   ]
  },
  {
   "cell_type": "markdown",
   "metadata": {
    "nbgrader": {
     "grade": false,
     "grade_id": "cell-fd697890d164906b",
     "locked": true,
     "schema_version": 1,
     "solution": false
    }
   },
   "source": [
    "## Graded Cell\n",
    "\n",
    "<i>Note: a self-check will not accompany this assignment.</i><br>\n",
    "Your plot should look like this: <br><img src=\"readPandas1.png\" width=400 height=400  align=\"left\"/>"
   ]
  },
  {
   "cell_type": "code",
   "execution_count": 135,
   "metadata": {
    "nbgrader": {
     "grade": false,
     "grade_id": "cell-f771fcee2acb6a9a",
     "locked": true,
     "schema_version": 1,
     "solution": false,
     "task": false
    }
   },
   "outputs": [
    {
     "data": {
      "image/png": "[encoded data removed]",
      "text/plain": [
       "<Figure size 576x432 with 1 Axes>"
      ]
     },
     "metadata": {
      "needs_background": "light"
     },
     "output_type": "display_data"
    }
   ],
   "source": [
    "df = pd.read_csv(\"IthacaDailyClimate2018.csv\",parse_dates=['Date'])\n",
    "plt.figure(figsize = (8,6))\n",
    "plt.plot(df['Date'],df['Snow Depth'],label=\"Snow Depth\")\n",
    "plt.show()\n",
    "\n",
    "\n"
   ]
  },
  {
   "cell_type": "markdown",
   "metadata": {
    "nbgrader": {
     "grade": false,
     "grade_id": "cell-5350234090c5c771",
     "locked": true,
     "schema_version": 3,
     "solution": false,
     "task": false
    }
   },
   "source": [
    "Similar to the ```read_csv``` function, pandas also provides a ```read_excel``` function to read tabular data from an Excel spreadsheet into a dataframe.\n",
    "\n",
    "One feature that distinguishes a csv file from an Excel file is that the latter can contain multiple worksheets. You might be interested in reading in only one worksheet, or you might want to read in several or even all of them.  This is controlled by the ```sheet_name``` option that can be passed to ```read_excel```.\n",
    "\n",
    "* if ```sheet_name``` is not specified, the first worksheet is read into a dataframe\n",
    "* if ```sheet_name``` is specified along with the name of a worksheet (e.g., ```sheet_name=\"2016\"```), then the worksheet with that name is read into a dataframe\n",
    "* if ```sheet_name=None``` is specified, then all worksheets are read into dataframes, and the group is stored in a dictionary keyed on the names of each of the worksheets (technically, stored in an OrderedDict)\n",
    "\n",
    "The file in your current working directory named \"IthacaDailyClimateMultiyear.xlsx\" is an Excel workbook containing two worksheets with daily climate data, one for the year 2016 and one for the year 2018.\n",
    "\n",
    "In the code cell below, use the ```pd.read_excel``` along with the ```sheet_name``` option, to read the worksheet named \"2016\" into a dataframe named ```df16``` and the worksheet named \"2018\" into a dataframe named ```df18```.\n",
    "\n",
    "Consult the <a href='https://pandas.pydata.org/pandas-docs/stable/reference/api/pandas.read_excel.html'>online documentation</a> for more information about the ``read_excel`` function."
   ]
  },
  {
   "cell_type": "markdown",
   "metadata": {},
   "source": [
    "## Graded Cell"
   ]
  },
  {
   "cell_type": "code",
   "execution_count": 136,
   "metadata": {
    "nbgrader": {
     "grade": false,
     "grade_id": "cell-4a094a0ef374f6ea",
     "locked": true,
     "schema_version": 3,
     "solution": false,
     "task": false
    }
   },
   "outputs": [
    {
     "name": "stdout",
     "output_type": "stream",
     "text": [
      "<class 'pandas.core.frame.DataFrame'>\n",
      "RangeIndex: 365 entries, 0 to 364\n",
      "Data columns (total 7 columns):\n",
      " #   Column               Non-Null Count  Dtype         \n",
      "---  ------               --------------  -----         \n",
      " 0   Date                 365 non-null    datetime64[ns]\n",
      " 1   Maximum Temperature  365 non-null    int64         \n",
      " 2   Minimum Temperature  365 non-null    int64         \n",
      " 3   Average Temperature  365 non-null    float64       \n",
      " 4   Precipitation        365 non-null    float64       \n",
      " 5   Snowfall             365 non-null    float64       \n",
      " 6   Snow Depth           365 non-null    float64       \n",
      "dtypes: datetime64[ns](1), float64(4), int64(2)\n",
      "memory usage: 20.1 KB\n"
     ]
    }
   ],
   "source": [
    "df16 = pd.read_excel(\"IthacaDailyClimateMultiyear.xlsx\", sheet_name=\"2016\")\n",
    "df18 = pd.read_excel(\"IthacaDailyClimateMultiyear.xlsx\", sheet_name=\"2018\")\n",
    "snow16 = df16[\"Snowfall\"].sum()\n",
    "snow18 = df18[\"Snowfall\"].sum()\n",
    "df.info()"
   ]
  },
  {
   "cell_type": "markdown",
   "metadata": {},
   "source": [
    "## Self-Check\n",
    "\n",
    "Run the cell below to test the correctness of your code in the cell above."
   ]
  },
  {
   "cell_type": "code",
   "execution_count": 137,
   "metadata": {},
   "outputs": [
    {
     "name": "stdout",
     "output_type": "stream",
     "text": [
      "Correct!\n",
      "Correct!\n"
     ]
    }
   ],
   "source": [
    "# Run this self-test cell to check your code; do not add code or delete code in this cell\n",
    "from jn import testdf16, testdf18\n",
    "\n",
    "try:\n",
    "    print(testdf16(df16))\n",
    "except Exception as e:\n",
    "    print(\"Error!\\n\" + str(e))\n",
    "\n",
    "try:\n",
    "    print(testdf18(df18))\n",
    "except Exception as e:\n",
    "    print(\"Error!\\n\" + str(e))"
   ]
  },
  {
   "cell_type": "markdown",
   "metadata": {
    "nbgrader": {
     "grade": false,
     "grade_id": "cell-301fae2516369e3a",
     "locked": true,
     "schema_version": 3,
     "solution": false,
     "task": false
    }
   },
   "source": [
    "Using the ```sum``` method defined both for DataFrames and Series objects, compute the total amount of Snowfall in Ithaca during 2016, and store the result in the variable ```snow16```.  (Hint: you can either extract Snowfall first and compute the sum on the Series, or do the sum on the DataFrames and then extract the value for Snowfall.)  Do the same for 2018, storing the total amount of snowfall during that year in the variable ```snow18```."
   ]
  },
  {
   "cell_type": "markdown",
   "metadata": {},
   "source": [
    "## Graded Cell"
   ]
  },
  {
   "cell_type": "code",
   "execution_count": 140,
   "metadata": {
    "nbgrader": {
     "grade": false,
     "grade_id": "cell-392956b9d6c2180d",
     "locked": true,
     "schema_version": 1,
     "solution": false
    }
   },
   "outputs": [],
   "source": [
    "import numpy as np\n",
    "snowfall = df16['Snowfall']\n",
    "snow16 = np.sum(snowfall)\n",
    "snowfall = df18['Snowfall']\n",
    "snow18 = np.sum(snowfall)"
   ]
  },
  {
   "cell_type": "markdown",
   "metadata": {
    "nbgrader": {
     "grade": false,
     "grade_id": "cell-3d3d79ba55af4d8a",
     "locked": true,
     "schema_version": 1,
     "solution": false
    }
   },
   "source": [
    "## Self-Check\n",
    "\n",
    "Run the cell below to test the correctness of your code in the cell above."
   ]
  },
  {
   "cell_type": "code",
   "execution_count": 141,
   "metadata": {
    "nbgrader": {
     "grade": false,
     "grade_id": "cell-c76691408e61e2e7",
     "locked": true,
     "schema_version": 1,
     "solution": false,
     "task": false
    }
   },
   "outputs": [
    {
     "name": "stdout",
     "output_type": "stream",
     "text": [
      "Correct!\n",
      "snow16 contains the total amount of Snowfall in Ithaca during 2016.\n",
      "Correct!\n",
      "snow18 contains the total amount of Snowfall in Ithaca during 2018.\n"
     ]
    }
   ],
   "source": [
    "# Run this self-test cell to check your code; do not add code or delete code in this cell\n",
    "from jn import testSnow16, testSnow18\n",
    "\n",
    "try:\n",
    "    print(testSnow16(snow16, df16))\n",
    "except Exception as e:\n",
    "    print(\"Error!\\n\" + str(e))\n",
    "\n",
    "try:\n",
    "    print(testSnow18(snow18, df18))\n",
    "except Exception as e:\n",
    "    print(\"Error!\\n\" + str(e))"
   ]
  },
  {
   "cell_type": "markdown",
   "metadata": {
    "nbgrader": {
     "grade": false,
     "grade_id": "cell-4c4f834ef15ce4a3",
     "locked": true,
     "schema_version": 3,
     "solution": false,
     "task": false
    }
   },
   "source": [
    "Inspect the values of <code>snow16</code> and <code>snow18</code>. Which year had more total snowfall?\n",
    "\n",
    "In the code cell below, create the variable <code>MORE_SNOW</code> and assign it the value of \"2016\" or \"2018\" depending on which year had more total snowfall.  You might even want to write a little code in the cell below to set the value of that variable based on which snow total is greater."
   ]
  },
  {
   "cell_type": "markdown",
   "metadata": {},
   "source": [
    "## Graded Cell"
   ]
  },
  {
   "cell_type": "code",
   "execution_count": 142,
   "metadata": {
    "nbgrader": {
     "grade": false,
     "grade_id": "cell-69283fa84d5aa5f0",
     "locked": true,
     "schema_version": 1,
     "solution": false,
     "task": false
    }
   },
   "outputs": [],
   "source": [
    "MORE_SNOW = '2018'"
   ]
  },
  {
   "cell_type": "markdown",
   "metadata": {
    "nbgrader": {
     "grade": false,
     "grade_id": "cell-196249c80076c6ad",
     "locked": true,
     "schema_version": 1,
     "solution": false
    }
   },
   "source": [
    "## Self-Check\n",
    "\n",
    "Run the cell below to test the correctness of your code in the cell above."
   ]
  },
  {
   "cell_type": "code",
   "execution_count": 143,
   "metadata": {
    "nbgrader": {
     "grade": false,
     "grade_id": "cell-d77be8f6804d1f50",
     "locked": true,
     "schema_version": 1,
     "solution": false
    }
   },
   "outputs": [
    {
     "name": "stdout",
     "output_type": "stream",
     "text": [
      "Correct!\n"
     ]
    }
   ],
   "source": [
    "# Run this self-test cell to check your code; do not add code or delete code in this cell\n",
    "from jn import testMoreSnow\n",
    "try:\n",
    "    print(testMoreSnow(MORE_SNOW))\n",
    "except Exception as e:\n",
    "    print(\"Error!\\n\" + str(e))\n"
   ]
  }
 ],
 "metadata": {
  "kernelspec": {
   "display_name": "Python 3",
   "language": "python",
   "name": "python3"
  },
  "language_info": {
   "codemirror_mode": {
    "name": "ipython",
    "version": 3
   },
   "file_extension": ".py",
   "mimetype": "text/x-python",
   "name": "python",
   "nbconvert_exporter": "python",
   "pygments_lexer": "ipython3",
   "version": "3.6.7"
  }
 },
 "nbformat": 4,
 "nbformat_minor": 2
}
