{
 "cells": [
  {
   "cell_type": "markdown",
   "metadata": {},
   "source": [
    "## Training a Regression Neural Network Model with Keras in Tensorflow\n",
    "\n",
    "In this exercise, we will show you how to train an artificial neural network using Keras in Tensorflow. We will implement the same artificial neural network you have just seen: a neural network for regression with one hidden layer, and trained using gradient descent.\n",
    "\n",
    "For more information about Keras, consult the [online documentation](https://keras.io/api/).\n",
    "Tensorflow is a general purpose high-performance computing language which Keras is built on top of to allow us to easily define and train neural networks.\n",
    "\n",
    "To get started, let us import Keras, along with other libraries."
   ]
  },
  {
   "cell_type": "code",
   "execution_count": 65,
   "metadata": {},
   "outputs": [],
   "source": [
    "import numpy as np\n",
    "import matplotlib.pyplot as plt\n",
    "import time\n",
    "import tensorflow.keras as keras"
   ]
  },
  {
   "cell_type": "markdown",
   "metadata": {},
   "source": [
    "### Create and Visualize a Data Set\n",
    "\n",
    "We will create some data to use for training. Notice the training examples contained in `X` are two dimensional feature vectors."
   ]
  },
  {
   "cell_type": "code",
   "execution_count": 66,
   "metadata": {},
   "outputs": [
    {
     "name": "stdout",
     "output_type": "stream",
     "text": [
      "(50, 2)\n",
      "[ 0.          1.00833417  2.02669331  3.04520207  4.05418342  5.04425539\n",
      "  6.00642473  6.93217687  7.81356091  8.6432691   9.41470985 10.1220736\n",
      " 10.76039086 11.32558185 11.8144973  12.22494987 12.55573603 12.8066481\n",
      " 12.97847631 13.07300088 13.09297427 13.04209367 12.92496404 12.74705212\n",
      " 12.51463181 12.23472144 11.91501372 11.5637988  11.1898815  10.80249329\n",
      " 10.41120008 10.02580662  9.65625857  9.31254306  9.00458898  8.74216772\n",
      "  8.53479557  8.39163859  8.32142109  8.33233841  8.43197505  8.62722889\n",
      "  8.92424228  9.32834063  9.84397926 10.47469882 11.22308996 12.09076742\n",
      " 13.07835391 14.18547387]\n"
     ]
    },
    {
     "data": {
      "image/png": "[encoded data removed]",
      "text/plain": [
       "<Figure size 432x288 with 1 Axes>"
      ]
     },
     "metadata": {
      "needs_background": "light"
     },
     "output_type": "display_data"
    }
   ],
   "source": [
    "# Generate the raw data\n",
    "x = np.arange(0, 5, 0.1)\n",
    "y = x ** 2 + 10*np.sin(x)\n",
    "\n",
    "# Add a bias column vector of 1's to the vector x to get our design matrix X\n",
    "X = np.concatenate([x, np.ones(x.shape)]).reshape(2, -1).T \n",
    "print(X.shape)\n",
    "print(y)\n",
    "\n",
    "# Visualize the data\n",
    "plt.plot(X[:, 0], y, '*')\n",
    "plt.xlabel('x')\n",
    "plt.ylabel('y')\n",
    "plt.show()"
   ]
  },
  {
   "cell_type": "markdown",
   "metadata": {},
   "source": [
    "The steps to define and train a neural network using Keras are:\n",
    "1. Define the model structure.\n",
    "2. Define the optimization function, i.e., the variant of gradient descent you want to use.\n",
    "3. Define the loss function to minimize.\n",
    "4. \"Fit\" the model on training data for $M$ epochs.\n",
    "\n",
    "The \"fitting\" process propagates the data forward in the network, computes the loss value, computes the gradients for the weights, and updates the weights for $M$ times. \n",
    "\n",
    "We will walk you through those steps:"
   ]
  },
  {
   "cell_type": "markdown",
   "metadata": {},
   "source": [
    "### Step 1. Define Model Structure"
   ]
  },
  {
   "cell_type": "markdown",
   "metadata": {},
   "source": [
    "We will use the Keras [Sequential class](https://keras.io/api/models/sequential/) to group a linear stack of layers layers. We will use the [Dense class](https://keras.io/api/layers/core_layers/dense/) to create each layer. \n",
    "\n",
    "`model.summary()` is an incredibly useful tool. It shows the number of parameters per layer. "
   ]
  },
  {
   "cell_type": "code",
   "execution_count": 67,
   "metadata": {},
   "outputs": [
    {
     "name": "stdout",
     "output_type": "stream",
     "text": [
      "Model: \"sequential_3\"\n",
      "_________________________________________________________________\n",
      "Layer (type)                 Output Shape              Param #   \n",
      "=================================================================\n",
      "dense_6 (Dense)              (None, 200)               400       \n",
      "_________________________________________________________________\n",
      "dense_7 (Dense)              (None, 1)                 200       \n",
      "=================================================================\n",
      "Total params: 600\n",
      "Trainable params: 600\n",
      "Non-trainable params: 0\n",
      "_________________________________________________________________\n"
     ]
    }
   ],
   "source": [
    "model = keras.Sequential()\n",
    "\n",
    "hidden_layer_1 = keras.layers.Dense(units=200, input_shape=(2,), activation='relu',\n",
    "                                    use_bias=False, kernel_initializer='random_normal')\n",
    "model.add(hidden_layer_1)\n",
    "\n",
    "output_layer = keras.layers.Dense(units=1, activation=None, \n",
    "                                  use_bias=False, kernel_initializer='random_normal')\n",
    "model.add(output_layer)\n",
    "\n",
    "model.summary()\n"
   ]
  },
  {
   "cell_type": "markdown",
   "metadata": {},
   "source": [
    "Let's break this down. Our network should comprise of 3 layers: an input layer, one hidden layer and an output layer.\n",
    "The code above creates the hidden and output layers.\n",
    "\n",
    "<b>Hidden layer</b>\n",
    "\n",
    "We pass the following arguments to the Dense function:\n",
    "\n",
    "`units`: dimensionality of the output space. We can view this as the number of nodes in the layer itself.<br>\n",
    "`activation`: Transition (also called activation) function to use. If you don't specify anything, no activation is applied (ie. \"linear\" activation: a(x) = x).<br>\n",
    "`use_bias`: whether the layer uses a bias vector.<br>\n",
    "`kernel_initializer`: Initializer for the weights matrix.<br>\n",
    "`input_shape`: dimensionality of the input layer.<br>\n",
    "\n",
    "- Using `Dense` with an input shape of 2, we are specifying the input layer's dimensions. The input layer should have 2 dimensions to match the feature dimension of each of the 50 training data points in $\\mathbf{X}$.\n",
    "- Using `Dense` with 200 units, we specify a fully-connected layer with 200 hidden units. This is equivalent to multiplying the 2-dimensional input with $\\mathbf{W}_1$ of shape $2 \\times 200$. We also specify the `ReLU` transtion (also called activation) function.\n",
    "\n",
    "<b>Output Layer</b>:\n",
    "- The output layer is a single dense layer. Since our model will predict one value, we specify 1 unit. This is equivalent to multiplying the 200-dimensional hidden layer vector with $\\mathbf{W}_2$ of shape $200 \\times 1$. \n",
    "\n",
    "We initialize the weights of the network with random normal values. Since $\\mathbf{X}$ already contains a bias value, we avoid bias terms in the network."
   ]
  },
  {
   "cell_type": "markdown",
   "metadata": {},
   "source": [
    "### Step 2. Define the Optimization Function"
   ]
  },
  {
   "cell_type": "code",
   "execution_count": 68,
   "metadata": {},
   "outputs": [],
   "source": [
    "lr = 0.001 # specify learning rate\n",
    "\n",
    "optimizer = keras.optimizers.SGD(learning_rate=lr)\n",
    "training_batch_size = len(y)"
   ]
  },
  {
   "cell_type": "markdown",
   "metadata": {},
   "source": [
    "Keras does not provide vanilla gradient descent. Instead, the basic variant it provides is Stochastic Gradient Descent (SGD). For more information, see the [SGD online documentation](https://keras.io/api/optimizers/sgd/). We can use SGD to behave like vanilla gradient descent by setting the `training_batch_size` to the number of data points.\n",
    "\n",
    "What does this do? Although the loss is calculated using all data points, SGD computes the gradients of weights using `training_batch_size` number of data points. So, when the `training_batch_size` is smaller than the number of training data points, SGD _approximates_ the gradients of weights (this is done for various reasons, but we will not discuss it here). To compute exact gradients we just set the `training_batch_size` to number of training points `len(y)`. "
   ]
  },
  {
   "cell_type": "markdown",
   "metadata": {},
   "source": [
    "### Step 3. Define the loss function\n",
    "Since we are constructing a neural network for regression, we will use the mean squared error as our loss function to minimize. "
   ]
  },
  {
   "cell_type": "code",
   "execution_count": 69,
   "metadata": {},
   "outputs": [],
   "source": [
    "loss = keras.losses.MeanSquaredError()"
   ]
  },
  {
   "cell_type": "markdown",
   "metadata": {},
   "source": [
    "### Step 4. Compile the model\n",
    "Attach the optimizer and loss function to the model."
   ]
  },
  {
   "cell_type": "code",
   "execution_count": 70,
   "metadata": {},
   "outputs": [],
   "source": [
    "model.compile(optimizer=optimizer,loss=loss)"
   ]
  },
  {
   "cell_type": "markdown",
   "metadata": {},
   "source": [
    "### Step 5. Fit the Model on Training Data"
   ]
  },
  {
   "cell_type": "code",
   "execution_count": 71,
   "metadata": {},
   "outputs": [
    {
     "name": "stdout",
     "output_type": "stream",
     "text": [
      "Elapsed time: 1.82s\n"
     ]
    }
   ],
   "source": [
    "t0 = time.time() # start time\n",
    "\n",
    "M = 1000 # number of epochs to train\n",
    "\n",
    "# Fit the model on training data\n",
    "history = model.fit(\n",
    "    X,\n",
    "    y,\n",
    "    epochs=M,\n",
    "    batch_size= training_batch_size,\n",
    "    verbose=0, # no progress bar. You can comment out this line to see the loss per epoch\n",
    ")\n",
    "\n",
    "t1 = time.time() # stop time\n",
    "\n",
    "print('Elapsed time: %.2fs' % (t1-t0))"
   ]
  },
  {
   "cell_type": "markdown",
   "metadata": {},
   "source": [
    "It is possible that the Keras model takes much longer to train than a version built from scratch with basic Numpy. This is because of the massive overhead required to setup and train the model. However, as the number of training points increases and the network becomes more complex, Keras (and other Machine Learning libraries) scale much better than pure-Numpy implementations---even better when you use a GPU. For this reason, developers and researchers almost always use libraries like Tensorflow and Keras to train networks."
   ]
  },
  {
   "cell_type": "markdown",
   "metadata": {},
   "source": [
    "### Visualize the Results"
   ]
  },
  {
   "cell_type": "code",
   "execution_count": 72,
   "metadata": {},
   "outputs": [
    {
     "name": "stdout",
     "output_type": "stream",
     "text": [
      "Average loss for 1000 epochs = 12.554273083686828\n"
     ]
    },
    {
     "data": {
      "image/png": "[encoded data removed]",
      "text/plain": [
       "<Figure size 1080x432 with 2 Axes>"
      ]
     },
     "metadata": {
      "needs_background": "light"
     },
     "output_type": "display_data"
    }
   ],
   "source": [
    "outputs = [layer.output for layer in model.layers]                  # all layer outputs\n",
    "get_activations = keras.backend.function(model.input, outputs)   # evaluation function\n",
    "    \n",
    "Z = [X] + get_activations([X]) # predicted values for raw data x are in the first column of Z\n",
    "\n",
    "losses = history.history['loss']\n",
    "average = sum(losses)/M\n",
    "print('Average loss for ' + str(M) + ' epochs = ' + str(average))\n",
    "\n",
    "fig, axarr = plt.subplots(1, 2)\n",
    "fig.set_figwidth(15)\n",
    "fig.set_figheight(6)\n",
    "\n",
    "axarr[0].plot(x, y)\n",
    "axarr[0].plot(x, Z[-1].flatten())\n",
    "axarr[0].set_ylabel('$f(x)$',size = 20)\n",
    "axarr[0].set_xlabel('$x$', size = 20)\n",
    "axarr[0].legend(['Actual', 'Predicted'], fontsize = 20)\n",
    "\n",
    "axarr[1].semilogy(losses)\n",
    "axarr[1].set_title('Loss', size = 20)\n",
    "axarr[1].set_xlabel('Epoch', size = 20)\n",
    "\n",
    "plt.show()"
   ]
  },
  {
   "cell_type": "markdown",
   "metadata": {},
   "source": [
    "Now, our predictions might not look very good on first glance. But consider that we have only used one hidden layer in this model! This performance can be improved by increasing the number of training epochs ($M$) and/or increasing the complexity of the model structure. "
   ]
  },
  {
   "cell_type": "markdown",
   "metadata": {},
   "source": [
    "## Graded Cell\n",
    "\n",
    "For this assignment, play around with the neural network implementation above and compare your results every time you train the network. Pay attention to the time it takes to train the network, and the resulting loss. \n",
    "\n",
    "Below are some ideas for things you can try:\n",
    "\n",
    "* Use SGD rather than vanilla gradient descent by adjusting the batch size (ie. change the value of the variable `training_batch_size`)\n",
    "* Adjust the learning rate\n",
    "* Change the number of Epochs ($M$) by experimenting with different values for the variable `M`.\n",
    "* Add more hidden layers and/or experiment with different values for the `unit` parameter in the hidden layers to change the number of nodes in the hidden layers.\n",
    "* Modify the data set.\n",
    "\n",
    "In the markdown cell below, summarize what you have tried, how it affected the performance of the network, and why you think that is."
   ]
  },
  {
   "cell_type": "markdown",
   "metadata": {},
   "source": [
    "##### Write Your Summary Here: double click to open markdown cell\n",
    "\n",
    "Throughout the neural network implementation above, I trained the network by adjusting the batch size to training_batch_size using SGD. I also adjusted the learning rate by changing the number of Epochs (M) by experimenting with different values for the variable. I changed the number of Epochs to 1000. This affected the performance of the network by because the elapsed time was 1.82 secs which took less time to train. I believe it took less time for 1000 Epochs be trained because it depends on the number of epochs which is the number of complete passes through a training dataset. "
   ]
  }
 ],
 "metadata": {
  "kernelspec": {
   "display_name": "Python 3",
   "language": "python",
   "name": "python3"
  },
  "language_info": {
   "codemirror_mode": {
    "name": "ipython",
    "version": 3
   },
   "file_extension": ".py",
   "mimetype": "text/x-python",
   "name": "python",
   "nbconvert_exporter": "python",
   "pygments_lexer": "ipython3",
   "version": "3.6.8"
  }
 },
 "nbformat": 4,
 "nbformat_minor": 4
}
