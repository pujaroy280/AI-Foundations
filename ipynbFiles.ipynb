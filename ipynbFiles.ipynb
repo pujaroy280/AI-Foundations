{
 "cells": [
  {
   "cell_type": "markdown",
   "metadata": {
    "nbgrader": {
     "grade": false,
     "grade_id": "cell-c24bf34975aa06b2",
     "locked": true,
     "schema_version": 1,
     "solution": false
    }
   },
   "source": [
    "# Bringing code into notebooks\n",
    "\n",
    "With Jupyter notebooks, you can reuse code that you've developed elsewhere, say, in a code editor.  There are a few different ways you can access that code from within a notebook.  This exercise will give you some experience with these different methods. <b> Note: In each cell, replace the line # YOUR CODE HERE with your code </b>.\n",
    "\n",
    "Click on the empty cell below this one, and enter and execute <code>%ls</code> to call the IPython magic function that lists the contents of the current directory.  You should see that one of the files is WheatChessboard.py.  This includes some code that we wrote previously to simulate the wheat-on-a-chessboard problem.\n"
   ]
  },
  {
   "cell_type": "code",
   "execution_count": 3,
   "metadata": {
    "nbgrader": {
     "grade": false,
     "grade_id": "cell-b0e43373d2ff1d0e",
     "locked": true,
     "schema_version": 1,
     "solution": false
    }
   },
   "outputs": [
    {
     "name": "stdout",
     "output_type": "stream",
     "text": [
      "ipynbFiles.ipynb  package.json       \u001b[0m\u001b[01;34m__pycache__\u001b[0m/         WheatChessboard.py\r\n",
      "\u001b[01;34mnode_modules\u001b[0m/     package-lock.json  WheatChessboard2.py\r\n"
     ]
    }
   ],
   "source": [
    "%ls"
   ]
  },
  {
   "cell_type": "markdown",
   "metadata": {
    "nbgrader": {
     "grade": false,
     "grade_id": "cell-f5d0ec5b3ff2c874",
     "locked": true,
     "schema_version": 1,
     "solution": false
    }
   },
   "source": [
    "In the cell below, enter and execute \n",
    "\n",
    "<code>%load WheatChessboard.py</code>\n",
    "\n",
    "This calls the IPython magic function to load the contents of that file into a cell in the notebook.  This *loads* the code into the cell, but does not yet run it.  It does exactly the same thing as if you had typed that code into the cell directly.  Once it's loaded, click on the cell with the loaded code to make that cell active, and enter enter ```Shift+Enter``` to execute it.  "
   ]
  },
  {
   "cell_type": "code",
   "execution_count": 4,
   "metadata": {
    "nbgrader": {
     "grade": false,
     "grade_id": "cell-2162d83d2e2481af",
     "locked": true,
     "schema_version": 1,
     "solution": false
    }
   },
   "outputs": [],
   "source": [
    "# %load WheatChessboard.py\n",
    "\n",
    "def compound_by_period(balance, rate, num_periods):\n",
    "    \"\"\"\n",
    "    Returns a list of balances by domputes compounded total, \n",
    "    based on initial balance and per-period interest rate,\n",
    "    over the specified number of compounding periods\n",
    "    \"\"\"\n",
    "    balances = [balance]\n",
    "    for n in range(1,num_periods+1):\n",
    "        balance = round( balance * (1 + rate), 2)\n",
    "        balances.append(balance)\n",
    "    return balances\n",
    "\n",
    "# wheat: list containing the number of grains of wheat on each square of the chessboard\n",
    "wheat = compound_by_period(1,1,63)\n",
    "\n",
    "total_wheat = sum(wheat)\n",
    "\n"
   ]
  },
  {
   "cell_type": "markdown",
   "metadata": {
    "nbgrader": {
     "grade": false,
     "grade_id": "cell-3c85fc18d68690b1",
     "locked": true,
     "schema_version": 1,
     "solution": false
    }
   },
   "source": [
    "The code you executed above does not produce any output.  But once you have executed it, you can verify it has defined a new function and assigned some data to variables.  Enter and execute ```%whos``` in the cell below to see what has been defined."
   ]
  },
  {
   "cell_type": "code",
   "execution_count": 5,
   "metadata": {
    "nbgrader": {
     "grade": false,
     "grade_id": "cell-d3149b26fb9a34a4",
     "locked": true,
     "schema_version": 1,
     "solution": false
    }
   },
   "outputs": [
    {
     "name": "stdout",
     "output_type": "stream",
     "text": [
      "Variable             Type        Data/Info\n",
      "------------------------------------------\n",
      "compound_by_period   function    <function compound_by_period at 0x7f0efc034048>\n",
      "total_wheat          int         18446744073709551615\n",
      "wheat                list        n=64\n"
     ]
    }
   ],
   "source": [
    "%whos"
   ]
  },
  {
   "cell_type": "markdown",
   "metadata": {
    "nbgrader": {
     "grade": false,
     "grade_id": "cell-2aaaa46adc63bcd9",
     "locked": true,
     "schema_version": 1,
     "solution": false
    }
   },
   "source": [
    "## %load vs. %run\n",
    "\n",
    "In one of the cells above, you called the IPython/Jupyter magic function ```%load``` to load the code into a cell in the notebook, and then had to execute that code.\n",
    "\n",
    "An alternative magic function is ```%run```, which just executes the code in the specified Python file without showing you the code in the notebook.\n",
    "\n",
    "In the cell below, enter and execute:\n",
    "\n",
    "<code>%run WheatChessboard2.py</code>\n",
    "\n",
    "Note that this is a different file than before, named ```WheatChessboard2.py```.  This does the same things as in the first file, but with different names so that we can distinguish the results of the %load from the %run."
   ]
  },
  {
   "cell_type": "code",
   "execution_count": 6,
   "metadata": {
    "nbgrader": {
     "grade": false,
     "grade_id": "cell-05f2a9138e04eb5d",
     "locked": true,
     "schema_version": 1,
     "solution": false
    }
   },
   "outputs": [],
   "source": [
    "%run WheatChessboard2.py"
   ]
  },
  {
   "cell_type": "markdown",
   "metadata": {
    "nbgrader": {
     "grade": false,
     "grade_id": "cell-ba2e6c99233debb7",
     "locked": true,
     "schema_version": 1,
     "solution": false
    }
   },
   "source": [
    "You should see that the cell does not return any output, but as before you can verify it has defined a new function and assigned some data to variables.  Enter and execute ```%whos``` in the cell below to see what has been defined.  Now there should be two versions of each item, those without a trailing \"2\" that were defined in WheatChessboard.py and those with a trailing \"2\" from WheatChessboard2.py."
   ]
  },
  {
   "cell_type": "code",
   "execution_count": 7,
   "metadata": {
    "nbgrader": {
     "grade": false,
     "grade_id": "cell-9a0538826f966b15",
     "locked": true,
     "schema_version": 1,
     "solution": false
    }
   },
   "outputs": [
    {
     "name": "stdout",
     "output_type": "stream",
     "text": [
      "Variable              Type        Data/Info\n",
      "-------------------------------------------\n",
      "compound_by_period    function    <function compound_by_period at 0x7f0efc034048>\n",
      "compound_by_period2   function    <function compound_by_period2 at 0x7f0efc4ca1e0>\n",
      "total_wheat           int         18446744073709551615\n",
      "total_wheat2          int         18446744073709551615\n",
      "wheat                 list        n=64\n",
      "wheat2                list        n=64\n"
     ]
    }
   ],
   "source": [
    "%whos"
   ]
  },
  {
   "cell_type": "markdown",
   "metadata": {
    "nbgrader": {
     "grade": false,
     "grade_id": "cell-9311bffb4dd00cfa",
     "locked": true,
     "schema_version": 1,
     "solution": false
    }
   },
   "source": [
    "Execute the code self-test below to check that you have correctly loaded and run the files as described above.  If the test passes, it will let you know.  If it complains with an error message, diagnose the error, fix your code above, and run the self-test again. Note: this will not be graded."
   ]
  },
  {
   "cell_type": "markdown",
   "metadata": {},
   "source": [
    "# Self-Check Cell"
   ]
  },
  {
   "cell_type": "code",
   "execution_count": 11,
   "metadata": {
    "nbgrader": {
     "grade": false,
     "grade_id": "cell-a6a30175f2b3c3c6",
     "locked": true,
     "schema_version": 1,
     "solution": false
    }
   },
   "outputs": [
    {
     "name": "stdout",
     "output_type": "stream",
     "text": [
      "Nice job!\n"
     ]
    }
   ],
   "source": [
    "# Run this self-test cell to check your code. \n",
    "\n",
    "assert total_wheat == total_wheat2, \"The total amount of wheat on each chessboard should be the same.\"\n",
    "print(\"Nice job!\")"
   ]
  },
  {
   "cell_type": "markdown",
   "metadata": {
    "nbgrader": {
     "grade": false,
     "grade_id": "cell-53f2b18df75bf3fc",
     "locked": true,
     "schema_version": 1,
     "solution": false
    }
   },
   "source": [
    "## Importing a module\n",
    "\n",
    "In addition to the magic functions %load and %run, we can always import a module as we've done before in Python, and access its contents using the dot operator.  In the code cell below, enter and execute:\n",
    "\n",
    "<code>\n",
    "import WheatChessboard\n",
    "print(WheatChessboard.total_wheat)\n",
    "</code>"
   ]
  },
  {
   "cell_type": "code",
   "execution_count": 12,
   "metadata": {
    "nbgrader": {
     "grade": false,
     "grade_id": "cell-9ef17dddbe9f0060",
     "locked": true,
     "schema_version": 1,
     "solution": false
    }
   },
   "outputs": [
    {
     "name": "stdout",
     "output_type": "stream",
     "text": [
      "18446744073709551615\n"
     ]
    }
   ],
   "source": [
    "import WheatChessboard\n",
    "print(WheatChessboard.total_wheat)"
   ]
  },
  {
   "cell_type": "markdown",
   "metadata": {
    "nbgrader": {
     "grade": false,
     "grade_id": "cell-00425351cbb36665",
     "locked": true,
     "schema_version": 1,
     "solution": false
    }
   },
   "source": [
    "## Summary\n",
    "\n",
    "In summary, it is often the case that you've written Python code in an editor, and then you want to bring it into a notebook in order to use it in a particular analysis.  There are different methods for bringing that code into a notebook, each more appropriate for different purposes.  While not rigid guidelines, the following tips can be useful in your decisions about which method to use:\n",
    "\n",
    "*Loading* Python code into a notebook using %load is useful if:\n",
    "* you want to display the code itself within the notebook (for example, to document what you've done)\n",
    "* you want to bring some previously written code into the notebook and make some modifications to it\n",
    "\n",
    "*Running* Python code in a notebook using %run is useful if:\n",
    "* you just want to execute everything in that file without showing all the code, so that you can access all the objects defined in the file\n",
    "\n",
    "*Importing* Python code into a notebook using import is useful if:\n",
    "* you want to keep control of module namespaces so that names in different modules do not conflict\n",
    "* you want to import more than one module to get functions you have written, and to combine calls to those functions within the notebook to carry out your data analysis"
   ]
  }
 ],
 "metadata": {
  "kernelspec": {
   "display_name": "Python 3",
   "language": "python",
   "name": "python3"
  },
  "language_info": {
   "codemirror_mode": {
    "name": "ipython",
    "version": 3
   },
   "file_extension": ".py",
   "mimetype": "text/x-python",
   "name": "python",
   "nbconvert_exporter": "python",
   "pygments_lexer": "ipython3",
   "version": "3.6.7"
  }
 },
 "nbformat": 4,
 "nbformat_minor": 2
}
