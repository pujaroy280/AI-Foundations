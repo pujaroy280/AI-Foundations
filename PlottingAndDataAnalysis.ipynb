{
 "cells": [
  {
   "cell_type": "markdown",
   "metadata": {
    "nbgrader": {
     "grade": false,
     "grade_id": "cell-1f5ea5b191d18af8",
     "locked": true,
     "schema_version": 1,
     "solution": false
    }
   },
   "source": [
    "# Wheat on a Chessboard\n",
    "\n",
    "The Wheat and Chessboard problem requires one to determine how many total grains of wheat would be on a chessboard if one was to place one grain on the first square, two grains on the second square, four grains on the third square, and so on. You can read more about the Wheat and Chessboard problem on [this page on Wikipedia](https://en.wikipedia.org/wiki/Wheat_and_chessboard_problem). In this exercise, you will run code that solves this problem and analyze the results."
   ]
  },
  {
   "cell_type": "markdown",
   "metadata": {},
   "source": [
    "### Plotting in Jupyter Notebooks\n",
    "\n",
    "In this exercise you will begin adding plots directly into Jupyter Notebooks using some of the Python visualiation libraries that you have been introduced to. Before you begin the Wheat on a Chessboard exercsie, take a moment to practice plotting in Jupyter Notebooks. \n",
    "\n",
    "The cell below contains the following code:\n",
    "\n",
    "<code>\n",
    "import matplotlib.pyplot as plt\n",
    "%matplotlib inline\n",
    "</code>\n",
    "\n",
    "This will import the <code>matplotlib.pyplot</code> module and instruct the notebook that you want figures to be produced inline in the notebook. Once you execute this cell, you can continue working with the <code>matplotlib.pyplot</code> module throughout the rest of the notebook. Execute the cell below. If you encounter an error or do not see the plot, continue to fix the code and re-execute the cell until you do."
   ]
  },
  {
   "cell_type": "code",
   "execution_count": 1,
   "metadata": {
    "nbgrader": {
     "grade": false,
     "grade_id": "cell-606ec88a57b08889",
     "locked": true,
     "schema_version": 1,
     "solution": false
    }
   },
   "outputs": [],
   "source": [
    "# Execute this cell via Shift+Enter so that we can make some plots\n",
    "import matplotlib.pyplot as plt\n",
    "%matplotlib inline"
   ]
  },
  {
   "cell_type": "markdown",
   "metadata": {},
   "source": [
    "You will next practice using the <code>matplotlib.pyplot</code> module that you just imported by making a plot in the cell below. Notice that you imported the <code>matplotlib.pyplot</code> module using this syntax: <code>import matplotlib.pyplot as plt</code>. Every time you call a plotting function contained within the module, the function should be preceeded with <code>plt.</code>\n",
    "\n",
    "The cell below contains the code:\n",
    "\n",
    "<code>\n",
    "plt.plot([1,2,4,10,5])\n",
    "</code>\n",
    "    \n",
    "This will make a line plot of the data [1,2,4,10,5]. Execute the cell below. If you encounter an error or do not see the plot, continue to fix the code and re-execute the cell until you do."
   ]
  },
  {
   "cell_type": "code",
   "execution_count": 2,
   "metadata": {},
   "outputs": [
    {
     "data": {
      "text/plain": [
       "[<matplotlib.lines.Line2D at 0x7f96aa036940>]"
      ]
     },
     "execution_count": 2,
     "metadata": {},
     "output_type": "execute_result"
    },
    {
     "data": {
      "image/png": "[encoded data removed]",
      "text/plain": [
       "<Figure size 432x288 with 1 Axes>"
      ]
     },
     "metadata": {
      "needs_background": "light"
     },
     "output_type": "display_data"
    }
   ],
   "source": [
    "# Execute this cell via Shift+Enter so that we can make some plots\n",
    "plt.plot([1,2,4,10,5])"
   ]
  },
  {
   "cell_type": "markdown",
   "metadata": {},
   "source": [
    "### Wheat on a Chessboard\n"
   ]
  },
  {
   "cell_type": "markdown",
   "metadata": {
    "nbgrader": {
     "grade": false,
     "grade_id": "cell-f172221cc629f70b",
     "locked": true,
     "schema_version": 1,
     "solution": false
    }
   },
   "source": [
    "**Step 1**: The cell below loads the code in WheatChessboard.py using the `%load` magic function.  After loading the code via <code>Shift+Enter</code>, execute the cell again using <code>Shift+Enter</code>.  You'll see that the variable <code>wheat</code> contains a list of the number of grains on each square of the chessboard, since it starts with one initial grain, which doubles (compounds at a rate of 100% per square, or 1), and continues doubling for 63 more squares.  The variable <code>total_wheat</code> represents the total amount of wheat on the board, found by summing the list."
   ]
  },
  {
   "cell_type": "code",
   "execution_count": null,
   "metadata": {
    "nbgrader": {
     "grade": false,
     "grade_id": "cell-e326f2f8b051a52a",
     "locked": true,
     "schema_version": 1,
     "solution": false
    }
   },
   "outputs": [],
   "source": [
    "# %load WheatChessboard.py\n",
    "def compound_by_period(balance, rate, num_periods):\n",
    "    \"\"\"\n",
    "    Returns a list of balances by computing the compounded total,\n",
    "    based on an initial balance and per-period interest rate over \n",
    "    the specified number of compounding periods\n",
    "    \n",
    "    balance: Initial amount\n",
    "    rate: increase at each period (supply percentage in decimal form)\n",
    "    num_periods: the number of periods to compound the balance\n",
    "    \"\"\"\n",
    "    \n",
    "    balances = [balance]\n",
    "    for n in range(1,num_periods+1):\n",
    "        balance = round( balance * (1 + rate), 2)\n",
    "        balances.append(balance)\n",
    "    return balances\n",
    "\n",
    "# wheat: list containing the number of grains of wheat on each square of the chessboard\n",
    "\n",
    "wheat = compound_by_period(1,1,63)\n",
    "\n",
    "total_wheat = sum(wheat)\n",
    "\n"
   ]
  },
  {
   "cell_type": "markdown",
   "metadata": {
    "nbgrader": {
     "grade": false,
     "grade_id": "cell-e36f8c307606262b",
     "locked": true,
     "schema_version": 1,
     "solution": false
    }
   },
   "source": [
    "**Step 2**: The Matplotlib `pyplot` module has already been loaded as <code>plt</code> in the first cell of this notebook. The code cell below uses the <code>plt.plot</code> function, and plots the list that contains the number of grains on each square. It uses the <code>plt.xlabel</code> and <code>plt.ylabel</code> functions to label the x-axis as \"square on chessboard\" and label the y-axis as \"number of grains on square\".  Both the <code>plt.xlabel</code> and <code>plt.ylabel</code> functions take a string argument and use that for the associated axis label. <br> In the resulting plot, note that the x-axis corresponds to the square number on the chessboard (from 0 to 63) and the y-axis corresponds to the number of grains on each square. Execute the cell below and inspect the resulting plot."
   ]
  },
  {
   "cell_type": "code",
   "execution_count": 6,
   "metadata": {
    "nbgrader": {
     "grade": false,
     "grade_id": "cell-step2",
     "locked": true,
     "schema_version": 1,
     "solution": false
    }
   },
   "outputs": [
    {
     "data": {
      "image/png": "[encoded data removed]",
      "text/plain": [
       "<Figure size 432x288 with 1 Axes>"
      ]
     },
     "metadata": {
      "needs_background": "light"
     },
     "output_type": "display_data"
    }
   ],
   "source": [
    "# Execute this cell via Shift+Enter \n",
    "import matplotlib.pyplot as plt\n",
    "%matplotlib inline\n",
    "plt.plot('wheat')\n",
    "plt.xlabel('square on chessboard');\n",
    "plt.ylabel('number of grains on square');"
   ]
  },
  {
   "cell_type": "markdown",
   "metadata": {
    "nbgrader": {
     "grade": false,
     "grade_id": "cell-26cd5a32e58b6a00",
     "locked": true,
     "schema_version": 1,
     "solution": false
    }
   },
   "source": [
    "**Step 3**: This plot is not super-informative because the number of grains grows so quickly over the last few squares of the chessboard.  (This is not unrelated to the \"Second half of the chessboard\" issue discussed on the Wikipedia page.)  We will replot the wheat data in the cell below, but doing so on a logarithmic scale.  This can be done by calling <code>plt.semilogy()</code> after making the same plot as above, to make the y-axis logarithmic, leaving the x-axis linear.  A plot like this, with one axis linear and one axis logarithmic, is called a \"semilog plot\".  There is a function named <code>plt.semilogy</code> for making the y-axis logarithmic, and one named <code>plt.semilogx</code> for making the x-axis logarithmic. If you wanted to make both axes logarithmic (sometimes referred to as a \"log-log plot\"), you could call the function <code>plt.loglog</code>.  (Alternatively, instead of using the plotting functions to represent logarithmic data, you could compute directly the logarithm of the wheat data and plot it on a linear scale, by transforming it using an appropriate function in numpy <code>np</code>, e.g., <code>np.log2</code> or <code>np.log10</code>.) Execute the cell below and inspect the resulting plot."
   ]
  },
  {
   "cell_type": "code",
   "execution_count": 15,
   "metadata": {
    "nbgrader": {
     "grade": false,
     "grade_id": "cell-step3",
     "locked": true,
     "schema_version": 1,
     "solution": false
    }
   },
   "outputs": [
    {
     "name": "stderr",
     "output_type": "stream",
     "text": [
      "/usr/local/lib/python3.6/dist-packages/ipykernel_launcher.py:3: UserWarning: Data has no positive values, and therefore cannot be log-scaled.\n",
      "  This is separate from the ipykernel package so we can avoid doing imports until\n",
      "/usr/local/lib/python3.6/dist-packages/ipykernel_launcher.py:4: UserWarning: Data has no positive values, and therefore cannot be log-scaled.\n",
      "  after removing the cwd from sys.path.\n",
      "/usr/local/lib/python3.6/dist-packages/IPython/core/events.py:73: UserWarning: Data has no positive values, and therefore cannot be log-scaled.\n",
      "  func(*args, **kwargs)\n"
     ]
    },
    {
     "data": {
      "image/png": "[encoded data removed]",
      "text/plain": [
       "<Figure size 432x288 with 1 Axes>"
      ]
     },
     "metadata": {
      "needs_background": "light"
     },
     "output_type": "display_data"
    }
   ],
   "source": [
    "# Execute this cell via Shift+Enter \n",
    "plt.plot('wheat');\n",
    "plt.semilogy();\n",
    "plt.loglog();\n",
    "plt.semilogx('square on chessboard');\n",
    "plt.semilogy('number of grains on square');"
   ]
  },
  {
   "cell_type": "markdown",
   "metadata": {
    "nbgrader": {
     "grade": false,
     "grade_id": "cell-d6f6c70c569ed09f",
     "locked": true,
     "schema_version": 1,
     "solution": false
    }
   },
   "source": [
    "### A little bit of math\n",
    "\n",
    "From the plot above, we see that the logarithm of the number of wheat grains on each square, plotted against the index of a square on the board, forms a straight line.  Let $w$ be the number of wheat grains on each square, and $n$ be the square number.  We know that $w = 2^n$ for each square $n$, so we can take the logarithm of both sides of that equation to see that:\n",
    "\n",
    "$$\\log(w) = n * \\log(2)$$\n",
    "\n",
    "Therefore, the logarithm of the number of wheat grains on each square is proportional to $n$.  The growth of wheat on the chessboard is an exponential process: the amount on the next square is equal to the amount on the current square multiplied by a constant factor (in this case, a constant factor of 2).  \n",
    "\n",
    "The word \"exponential\" is getting thrown around a lot these days in the media and on the web, often intending to suggest that something is \"big\" or \"growing fast\".  \"Exponential\" has a specific mathematical meaning, and you can use your data science skills to debunk claims that something is growing exponentially, when it in fact is not.  (More on this below.)\n",
    "\n",
    "---"
   ]
  },
  {
   "cell_type": "markdown",
   "metadata": {
    "nbgrader": {
     "grade": false,
     "grade_id": "cell-a71758d7dea275c1",
     "locked": true,
     "schema_version": 1,
     "solution": false
    }
   },
   "source": [
    "**Step 4**: Reference 1 in the Wheat and Chessboard Wikipedia page lists an article entitled \"A Penny Doubled Every Day for 30 Days = $10.7M\".  It turns out that \\\\$10.7M is an approximate total.  The cell below uses the <code>compound_by_period</code> function to compute exactly how much money you would have if you started with a penny (\\\\$0.01) and doubled it every day for 30 days.\n",
    "\n",
    "*Note*: this is a little bit different than the wheat and chessboard problem, because there the amount of wheat being placed on a square was doubled every day, but the total amount of wheat on the board is the cumulative sum over all squares up to the current one.  The penny-doubled-every-day problem is just a more conventional problem in compound interest, where the balance gets rolled over from day-to-day. Execute the cell below and inspect the results."
   ]
  },
  {
   "cell_type": "code",
   "execution_count": 40,
   "metadata": {},
   "outputs": [
    {
     "name": "stdout",
     "output_type": "stream",
     "text": [
      "30\n"
     ]
    }
   ],
   "source": [
    "# Execute this cell via Shift+Enter \n",
    "#money = compound_by_period(0.01,1,30)\n",
    "#total_after_30 = money[-1]\n",
    "#print(total_after_30)\n",
    "compound_by_period = (0.01,1,30)\n",
    "total_after_30 = compound_by_period[-1]\n",
    "print(total_after_30)"
   ]
  },
  {
   "cell_type": "markdown",
   "metadata": {
    "nbgrader": {
     "grade": false,
     "grade_id": "cell-28622f8c798aad32",
     "locked": true,
     "schema_version": 1,
     "solution": false
    }
   },
   "source": [
    "## Is this exponential?\n",
    "\n",
    "We discussed above that the word \"exponential\" is sometimes used when it should not be.  Imagine that you are presented with a daily time series of data named <code>growth</code>, which contains 30 values over a 30-day time period.  How would you test whether the data you are given is approximately exponential?  In the cell below, we list the data, and then plot it.  It is growing really fast -- maybe it is exponential..."
   ]
  },
  {
   "cell_type": "code",
   "execution_count": 41,
   "metadata": {
    "nbgrader": {
     "grade": false,
     "grade_id": "cell-5d91dcc6700fe1a8",
     "locked": true,
     "schema_version": 1,
     "solution": false
    }
   },
   "outputs": [
    {
     "data": {
      "text/plain": [
       "[<matplotlib.lines.Line2D at 0x7f96a28cf0f0>]"
      ]
     },
     "execution_count": 41,
     "metadata": {},
     "output_type": "execute_result"
    },
    {
     "data": {
      "image/png": "[encoded data removed]",
      "text/plain": [
       "<Figure size 432x288 with 1 Axes>"
      ]
     },
     "metadata": {
      "needs_background": "light"
     },
     "output_type": "display_data"
    }
   ],
   "source": [
    "# Execute this cell via Shift+Enter \n",
    "growth = [0.05, 2.5, 113.34, 984.31, 5082.98, \\\n",
    "          18981.26, 52366.83, 132330.2, 270299.59, \\\n",
    "          572061.32, 1059462.16, 1784434.76, 3031206.7, \\\n",
    "          5197773.29, 7575099.03, 12255624.49, 17800094.33, \\\n",
    "          24561420.03, 34785818.8, 47906857.92, 66781004.47, 85893594.16, \\\n",
    "          115653130.53, 151505384.45, 194695707.96, 246379722.3, 310701164.46, \\\n",
    "          396663884.62, 493109092.7, 598391193.23]\n",
    "\n",
    "plt.plot(growth)"
   ]
  },
  {
   "cell_type": "markdown",
   "metadata": {
    "nbgrader": {
     "grade": false,
     "grade_id": "cell-9c2521ade8758f44",
     "locked": true,
     "schema_version": 1,
     "solution": false
    }
   },
   "source": [
    "**Step 5**: We have a few different ways of assessing the claim that this is exponential growth: visually and mathematically.  Visually, a semilog plot of a quantity that is growing (or shrinking) exponentially should form approximately a straight line (as we saw above).  The code cell below replots the growth on a logarithmic y-axis. Execute the cell below, and examine the plot, and see whether that relationship holds true."
   ]
  },
  {
   "cell_type": "code",
   "execution_count": 46,
   "metadata": {
    "nbgrader": {
     "grade": false,
     "grade_id": "cell-step5",
     "locked": true,
     "schema_version": 1,
     "solution": false
    }
   },
   "outputs": [
    {
     "data": {
      "text/plain": [
       "[<matplotlib.lines.Line2D at 0x7f96a2747f60>]"
      ]
     },
     "execution_count": 46,
     "metadata": {},
     "output_type": "execute_result"
    },
    {
     "data": {
      "image/png": "[encoded data removed]",
      "text/plain": [
       "<Figure size 432x288 with 1 Axes>"
      ]
     },
     "metadata": {
      "needs_background": "light"
     },
     "output_type": "display_data"
    }
   ],
   "source": [
    "# Execute this cell via Shift+Enter\n",
    "plt.semilogy(growth)"
   ]
  },
  {
   "cell_type": "markdown",
   "metadata": {
    "nbgrader": {
     "grade": false,
     "grade_id": "cell-a86f362d5744df2f",
     "locked": true,
     "schema_version": 1,
     "solution": false
    }
   },
   "source": [
    "**Step 6**: Mathematically, the definition of an exponential sequence is one where each item is equal to the previous item times some constant factor.  We can test whether this relationship holds at least approximately by computing the ratio of successive elements in the data.\n",
    "\n",
    "The cell below creates a new list called <code>ratios</code> where the i'th element of ratios is equal to the <code>growth[i+1]/growth[i]</code>.  Because you need to compute ratios from pairs of elements, the list ratios will have one fewer element than the list growth."
   ]
  },
  {
   "cell_type": "code",
   "execution_count": 47,
   "metadata": {},
   "outputs": [
    {
     "name": "stdout",
     "output_type": "stream",
     "text": [
      "[50.0, 45.336, 8.684577377801306, 5.1640032103707165, 3.734277923580262, 2.7588700644741184, 2.526985116341776, 2.0426145354575147, 2.116397290872694, 1.8520080329849955, 1.6842836180199208, 1.6986929239150217, 1.714753827246423, 1.4573738805756955, 1.6178830720844055, 1.4524020660492674, 1.3798477454473133, 1.4162788127686279, 1.3771950631790217, 1.393975880896177, 1.2861979965962618, 1.3464697997683603, 1.3099981276399608, 1.2850745118187779, 1.2654604710167439, 1.2610662986367038, 1.276673311828115, 1.2431408853175365, 1.2135067109663946]\n"
     ]
    }
   ],
   "source": [
    "# Execute this cell via Shift+Enter\n",
    "ratios = []\n",
    "for i in range(0, len(growth)-1):\n",
    "    ratios.append(growth[i+1]/growth[i])\n",
    "print(ratios)"
   ]
  },
  {
   "cell_type": "markdown",
   "metadata": {
    "nbgrader": {
     "grade": false,
     "grade_id": "cell-2bccd10c13477809",
     "locked": true,
     "schema_version": 1,
     "solution": false
    }
   },
   "source": [
    "**Step 7**: Now that you've computed <code>ratios</code>, plot the values of the list.  If the data in <code>growth</code> were growing exponentially, <code>ratios</code> should be approximately constant, i.e., all of its values should be equal to one another. Once you enter your code, execute the cell via Shift+Enter."
   ]
  },
  {
   "cell_type": "markdown",
   "metadata": {
    "nbgrader": {
     "grade": false,
     "grade_id": "cell-step7",
     "locked": true,
     "schema_version": 1,
     "solution": false
    }
   },
   "source": [
    "<i>Note: a self-check will not accompany this practice exercise. </i>\n",
    "Your plot should look like this: <br><img src=\"SessionStep7.png\" width=400 height=400 align=\"left\"/> \n"
   ]
  },
  {
   "cell_type": "code",
   "execution_count": 48,
   "metadata": {},
   "outputs": [
    {
     "data": {
      "image/png": "[encoded data removed]",
      "text/plain": [
       "<Figure size 432x288 with 1 Axes>"
      ]
     },
     "metadata": {
      "needs_background": "light"
     },
     "output_type": "display_data"
    }
   ],
   "source": [
    "# YOUR CODE HERE\n",
    "plt.plot(ratios);"
   ]
  },
  {
   "cell_type": "markdown",
   "metadata": {
    "nbgrader": {
     "grade": false,
     "grade_id": "cell-714d9d99e05eca8b",
     "locked": true,
     "schema_version": 1,
     "solution": false
    }
   },
   "source": [
    "## Do you think the data are growing exponentially?\n",
    "\n",
    "In the code cell below, if you think the data are growing approximately exponentially, enter:\n",
    "\n",
    "`ANSWER = True`\n",
    "\n",
    "If you don't think that's the case, enter:\n",
    "\n",
    "`ANSWER = False`\n",
    "\n",
    "Once you enter your code, execute the cell via Shift+Enter."
   ]
  },
  {
   "cell_type": "code",
   "execution_count": 49,
   "metadata": {
    "nbgrader": {
     "grade": false,
     "grade_id": "cell-726b5afb93b62e3b",
     "locked": true,
     "schema_version": 1,
     "solution": false
    }
   },
   "outputs": [],
   "source": [
    "# YOUR CODE HERE\n",
    "ANSWER = True\n",
    "ANSWER = False"
   ]
  },
  {
   "cell_type": "markdown",
   "metadata": {
    "nbgrader": {
     "grade": false,
     "grade_id": "cell-8f3f69b24b6dd267",
     "locked": true,
     "schema_version": 1,
     "solution": false
    }
   },
   "source": [
    "## Self-Check\n",
    "\n",
    "Run the cell below to test the correctness of your code above."
   ]
  },
  {
   "cell_type": "code",
   "execution_count": 50,
   "metadata": {
    "nbgrader": {
     "grade": false,
     "grade_id": "cell-TF-test",
     "locked": true,
     "schema_version": 1,
     "solution": false
    }
   },
   "outputs": [
    {
     "name": "stdout",
     "output_type": "stream",
     "text": [
      "Correct!\n"
     ]
    }
   ],
   "source": [
    "# Run this self-test cell to check your code; do not add code or delete code in this cell\n",
    "from jn import testAnswer\n",
    "\n",
    "try:  \n",
    "    print(testAnswer(ANSWER))\n",
    "except Exception as e:\n",
    "    print(\"Error!\\n\" + str(e))\n",
    "    "
   ]
  }
 ],
 "metadata": {
  "kernelspec": {
   "display_name": "Python 3",
   "language": "python",
   "name": "python3"
  },
  "language_info": {
   "codemirror_mode": {
    "name": "ipython",
    "version": 3
   },
   "file_extension": ".py",
   "mimetype": "text/x-python",
   "name": "python",
   "nbconvert_exporter": "python",
   "pygments_lexer": "ipython3",
   "version": "3.6.7"
  }
 },
 "nbformat": 4,
 "nbformat_minor": 2
}
