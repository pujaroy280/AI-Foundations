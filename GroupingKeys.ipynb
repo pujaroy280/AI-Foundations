{
 "cells": [
  {
   "cell_type": "markdown",
   "metadata": {
    "nbgrader": {
     "grade": false,
     "grade_id": "cell-58cce43f10ad095f",
     "locked": true,
     "schema_version": 3,
     "solution": false,
     "task": false
    }
   },
   "source": [
    "## Analyzing the World Happiness Data\n",
    "\n",
    "### Grouping together subsets of data via split-apply-combine"
   ]
  },
  {
   "cell_type": "markdown",
   "metadata": {
    "nbgrader": {
     "grade": false,
     "grade_id": "cell-1522be2c3d6f226c",
     "locked": true,
     "schema_version": 3,
     "solution": false,
     "task": false
    }
   },
   "source": [
    "In this exercise, we will apply the split-apply-combine methodology to take advantage of substructure within the WHR panel data.\n",
    "\n",
    "As before, we'll repeat here some of the code developed in previous exercises so that we can continue to work with data in this exercise. Execute the next few code cells to load and reconfigure the data. In addition to the full dataset, we will also want to examine the data just from 2015-2017, which we will store in a dataframe named `df1517`."
   ]
  },
  {
   "cell_type": "code",
   "execution_count": 70,
   "metadata": {
    "nbgrader": {
     "grade": false,
     "grade_id": "cell-b04d02ba6b73d422",
     "locked": true,
     "schema_version": 3,
     "solution": false,
     "task": false
    }
   },
   "outputs": [],
   "source": [
    "import pandas as pd\n",
    "import seaborn as sns\n",
    "import matplotlib.pyplot as plt\n",
    "%matplotlib inline\n",
    "pd.options.display.float_format = '{:.2f}'.format"
   ]
  },
  {
   "cell_type": "code",
   "execution_count": 71,
   "metadata": {
    "nbgrader": {
     "grade": false,
     "grade_id": "cell-25ded8d2d239051b",
     "locked": true,
     "schema_version": 3,
     "solution": false,
     "task": false
    }
   },
   "outputs": [],
   "source": [
    "dfraw = pd.read_excel('WHR2018Chapter2OnlineData.xls', sheet_name='Table2.1')"
   ]
  },
  {
   "cell_type": "code",
   "execution_count": 72,
   "metadata": {
    "nbgrader": {
     "grade": false,
     "grade_id": "cell-8cb15706eefc6dde",
     "locked": true,
     "schema_version": 3,
     "solution": false,
     "task": false
    }
   },
   "outputs": [],
   "source": [
    "cols_to_include = ['country', 'year', 'Life Ladder', \n",
    "                   'Positive affect','Negative affect',\n",
    "                   'Log GDP per capita', 'Social support',\n",
    "                   'Healthy life expectancy at birth', \n",
    "                   'Freedom to make life choices', \n",
    "                   'Generosity', 'Perceptions of corruption']\n",
    "renaming = {'Life Ladder': 'Happiness', \n",
    "            'Log GDP per capita': 'LogGDP', \n",
    "            'Social support': 'Support', \n",
    "            'Healthy life expectancy at birth': 'Life', \n",
    "            'Freedom to make life choices': 'Freedom', \n",
    "            'Perceptions of corruption': 'Corruption', \n",
    "            'Positive affect': 'Positive', \n",
    "            'Negative affect': 'Negative'}\n",
    "df = dfraw[cols_to_include].rename(renaming, axis=1)\n",
    "df1517 = df[df.year.isin(range(2015,2018))]"
   ]
  },
  {
   "cell_type": "markdown",
   "metadata": {
    "nbgrader": {
     "grade": false,
     "grade_id": "cell-76529fc5ab7f2e9b",
     "locked": true,
     "schema_version": 3,
     "solution": false,
     "task": false
    }
   },
   "source": [
    "### Step 1\n",
    "\n",
    "First examine the head of the ```df``` dataframe to remind yourself of its structure.  Each row contains information about a single country in a single year.  We will want to group some of these data elements together."
   ]
  },
  {
   "cell_type": "code",
   "execution_count": 73,
   "metadata": {
    "nbgrader": {
     "grade": false,
     "grade_id": "cell-ad68b8ba8bfcc96c",
     "locked": true,
     "schema_version": 3,
     "solution": false,
     "task": false
    }
   },
   "outputs": [
    {
     "data": {
      "text/html": [
       "<div>\n",
       "<style scoped>\n",
       "    .dataframe tbody tr th:only-of-type {\n",
       "        vertical-align: middle;\n",
       "    }\n",
       "\n",
       "    .dataframe tbody tr th {\n",
       "        vertical-align: top;\n",
       "    }\n",
       "\n",
       "    .dataframe thead th {\n",
       "        text-align: right;\n",
       "    }\n",
       "</style>\n",
       "<table border=\"1\" class=\"dataframe\">\n",
       "  <thead>\n",
       "    <tr style=\"text-align: right;\">\n",
       "      <th></th>\n",
       "      <th>country</th>\n",
       "      <th>year</th>\n",
       "      <th>Happiness</th>\n",
       "      <th>Positive</th>\n",
       "      <th>Negative</th>\n",
       "      <th>LogGDP</th>\n",
       "      <th>Support</th>\n",
       "      <th>Life</th>\n",
       "      <th>Freedom</th>\n",
       "      <th>Generosity</th>\n",
       "      <th>Corruption</th>\n",
       "    </tr>\n",
       "  </thead>\n",
       "  <tbody>\n",
       "    <tr>\n",
       "      <th>0</th>\n",
       "      <td>Afghanistan</td>\n",
       "      <td>2008</td>\n",
       "      <td>3.72</td>\n",
       "      <td>0.52</td>\n",
       "      <td>0.26</td>\n",
       "      <td>7.17</td>\n",
       "      <td>0.45</td>\n",
       "      <td>49.21</td>\n",
       "      <td>0.72</td>\n",
       "      <td>0.18</td>\n",
       "      <td>0.88</td>\n",
       "    </tr>\n",
       "    <tr>\n",
       "      <th>1</th>\n",
       "      <td>Afghanistan</td>\n",
       "      <td>2009</td>\n",
       "      <td>4.40</td>\n",
       "      <td>0.58</td>\n",
       "      <td>0.24</td>\n",
       "      <td>7.33</td>\n",
       "      <td>0.55</td>\n",
       "      <td>49.62</td>\n",
       "      <td>0.68</td>\n",
       "      <td>0.20</td>\n",
       "      <td>0.85</td>\n",
       "    </tr>\n",
       "    <tr>\n",
       "      <th>2</th>\n",
       "      <td>Afghanistan</td>\n",
       "      <td>2010</td>\n",
       "      <td>4.76</td>\n",
       "      <td>0.62</td>\n",
       "      <td>0.28</td>\n",
       "      <td>7.39</td>\n",
       "      <td>0.54</td>\n",
       "      <td>50.01</td>\n",
       "      <td>0.60</td>\n",
       "      <td>0.14</td>\n",
       "      <td>0.71</td>\n",
       "    </tr>\n",
       "    <tr>\n",
       "      <th>3</th>\n",
       "      <td>Afghanistan</td>\n",
       "      <td>2011</td>\n",
       "      <td>3.83</td>\n",
       "      <td>0.61</td>\n",
       "      <td>0.27</td>\n",
       "      <td>7.42</td>\n",
       "      <td>0.52</td>\n",
       "      <td>50.37</td>\n",
       "      <td>0.50</td>\n",
       "      <td>0.18</td>\n",
       "      <td>0.73</td>\n",
       "    </tr>\n",
       "    <tr>\n",
       "      <th>4</th>\n",
       "      <td>Afghanistan</td>\n",
       "      <td>2012</td>\n",
       "      <td>3.78</td>\n",
       "      <td>0.71</td>\n",
       "      <td>0.27</td>\n",
       "      <td>7.52</td>\n",
       "      <td>0.52</td>\n",
       "      <td>50.71</td>\n",
       "      <td>0.53</td>\n",
       "      <td>0.25</td>\n",
       "      <td>0.78</td>\n",
       "    </tr>\n",
       "    <tr>\n",
       "      <th>...</th>\n",
       "      <td>...</td>\n",
       "      <td>...</td>\n",
       "      <td>...</td>\n",
       "      <td>...</td>\n",
       "      <td>...</td>\n",
       "      <td>...</td>\n",
       "      <td>...</td>\n",
       "      <td>...</td>\n",
       "      <td>...</td>\n",
       "      <td>...</td>\n",
       "      <td>...</td>\n",
       "    </tr>\n",
       "    <tr>\n",
       "      <th>1557</th>\n",
       "      <td>Zimbabwe</td>\n",
       "      <td>2013</td>\n",
       "      <td>4.69</td>\n",
       "      <td>0.71</td>\n",
       "      <td>0.18</td>\n",
       "      <td>7.57</td>\n",
       "      <td>0.80</td>\n",
       "      <td>48.95</td>\n",
       "      <td>0.58</td>\n",
       "      <td>-0.08</td>\n",
       "      <td>0.83</td>\n",
       "    </tr>\n",
       "    <tr>\n",
       "      <th>1558</th>\n",
       "      <td>Zimbabwe</td>\n",
       "      <td>2014</td>\n",
       "      <td>4.18</td>\n",
       "      <td>0.73</td>\n",
       "      <td>0.24</td>\n",
       "      <td>7.56</td>\n",
       "      <td>0.77</td>\n",
       "      <td>50.05</td>\n",
       "      <td>0.64</td>\n",
       "      <td>-0.05</td>\n",
       "      <td>0.82</td>\n",
       "    </tr>\n",
       "    <tr>\n",
       "      <th>1559</th>\n",
       "      <td>Zimbabwe</td>\n",
       "      <td>2015</td>\n",
       "      <td>3.70</td>\n",
       "      <td>0.72</td>\n",
       "      <td>0.18</td>\n",
       "      <td>7.56</td>\n",
       "      <td>0.74</td>\n",
       "      <td>50.93</td>\n",
       "      <td>0.67</td>\n",
       "      <td>-0.09</td>\n",
       "      <td>0.81</td>\n",
       "    </tr>\n",
       "    <tr>\n",
       "      <th>1560</th>\n",
       "      <td>Zimbabwe</td>\n",
       "      <td>2016</td>\n",
       "      <td>3.74</td>\n",
       "      <td>0.74</td>\n",
       "      <td>0.21</td>\n",
       "      <td>7.54</td>\n",
       "      <td>0.77</td>\n",
       "      <td>51.80</td>\n",
       "      <td>0.73</td>\n",
       "      <td>-0.07</td>\n",
       "      <td>0.72</td>\n",
       "    </tr>\n",
       "    <tr>\n",
       "      <th>1561</th>\n",
       "      <td>Zimbabwe</td>\n",
       "      <td>2017</td>\n",
       "      <td>3.64</td>\n",
       "      <td>0.81</td>\n",
       "      <td>0.22</td>\n",
       "      <td>7.54</td>\n",
       "      <td>0.75</td>\n",
       "      <td>52.67</td>\n",
       "      <td>0.75</td>\n",
       "      <td>-0.07</td>\n",
       "      <td>0.75</td>\n",
       "    </tr>\n",
       "  </tbody>\n",
       "</table>\n",
       "<p>1562 rows × 11 columns</p>\n",
       "</div>"
      ],
      "text/plain": [
       "          country  year  Happiness  Positive  Negative  LogGDP  Support  Life  \\\n",
       "0     Afghanistan  2008       3.72      0.52      0.26    7.17     0.45 49.21   \n",
       "1     Afghanistan  2009       4.40      0.58      0.24    7.33     0.55 49.62   \n",
       "2     Afghanistan  2010       4.76      0.62      0.28    7.39     0.54 50.01   \n",
       "3     Afghanistan  2011       3.83      0.61      0.27    7.42     0.52 50.37   \n",
       "4     Afghanistan  2012       3.78      0.71      0.27    7.52     0.52 50.71   \n",
       "...           ...   ...        ...       ...       ...     ...      ...   ...   \n",
       "1557     Zimbabwe  2013       4.69      0.71      0.18    7.57     0.80 48.95   \n",
       "1558     Zimbabwe  2014       4.18      0.73      0.24    7.56     0.77 50.05   \n",
       "1559     Zimbabwe  2015       3.70      0.72      0.18    7.56     0.74 50.93   \n",
       "1560     Zimbabwe  2016       3.74      0.74      0.21    7.54     0.77 51.80   \n",
       "1561     Zimbabwe  2017       3.64      0.81      0.22    7.54     0.75 52.67   \n",
       "\n",
       "      Freedom  Generosity  Corruption  \n",
       "0        0.72        0.18        0.88  \n",
       "1        0.68        0.20        0.85  \n",
       "2        0.60        0.14        0.71  \n",
       "3        0.50        0.18        0.73  \n",
       "4        0.53        0.25        0.78  \n",
       "...       ...         ...         ...  \n",
       "1557     0.58       -0.08        0.83  \n",
       "1558     0.64       -0.05        0.82  \n",
       "1559     0.67       -0.09        0.81  \n",
       "1560     0.73       -0.07        0.72  \n",
       "1561     0.75       -0.07        0.75  \n",
       "\n",
       "[1562 rows x 11 columns]"
      ]
     },
     "execution_count": 73,
     "metadata": {},
     "output_type": "execute_result"
    }
   ],
   "source": [
    "df"
   ]
  },
  {
   "cell_type": "markdown",
   "metadata": {
    "nbgrader": {
     "grade": false,
     "grade_id": "cell-d9dd00c6c8a0a77c",
     "locked": true,
     "schema_version": 3,
     "solution": false,
     "task": false
    }
   },
   "source": [
    "### Step 2\n",
    "\n",
    "In the previous video, we examined how to group data together for each country and compute an aggregrate property such as the mean over that group.  In the code cell below, enter and evaluate an expression to compute the mean value of the WHR indicators for each country, averaged over all years, and assign the result to the variable ```dfmean```.  To do this, you will want to use the ```groupby``` method on the ```df``` dataframe.  Examine ```dfmean``` to verify that it has the correct structure, which should consist of one row per country (unlike the raw data we examined above)."
   ]
  },
  {
   "cell_type": "code",
   "execution_count": 74,
   "metadata": {
    "nbgrader": {
     "grade": false,
     "grade_id": "cell-c1ac07b0276f513e",
     "locked": true,
     "schema_version": 3,
     "solution": false,
     "task": false
    }
   },
   "outputs": [
    {
     "data": {
      "text/html": [
       "<div>\n",
       "<style scoped>\n",
       "    .dataframe tbody tr th:only-of-type {\n",
       "        vertical-align: middle;\n",
       "    }\n",
       "\n",
       "    .dataframe tbody tr th {\n",
       "        vertical-align: top;\n",
       "    }\n",
       "\n",
       "    .dataframe thead th {\n",
       "        text-align: right;\n",
       "    }\n",
       "</style>\n",
       "<table border=\"1\" class=\"dataframe\">\n",
       "  <thead>\n",
       "    <tr style=\"text-align: right;\">\n",
       "      <th></th>\n",
       "      <th>year</th>\n",
       "      <th>Happiness</th>\n",
       "      <th>Positive</th>\n",
       "      <th>Negative</th>\n",
       "      <th>LogGDP</th>\n",
       "      <th>Support</th>\n",
       "      <th>Life</th>\n",
       "      <th>Freedom</th>\n",
       "      <th>Generosity</th>\n",
       "      <th>Corruption</th>\n",
       "    </tr>\n",
       "    <tr>\n",
       "      <th>country</th>\n",
       "      <th></th>\n",
       "      <th></th>\n",
       "      <th></th>\n",
       "      <th></th>\n",
       "      <th></th>\n",
       "      <th></th>\n",
       "      <th></th>\n",
       "      <th></th>\n",
       "      <th></th>\n",
       "      <th></th>\n",
       "    </tr>\n",
       "  </thead>\n",
       "  <tbody>\n",
       "    <tr>\n",
       "      <th>Afghanistan</th>\n",
       "      <td>2012.50</td>\n",
       "      <td>3.81</td>\n",
       "      <td>0.58</td>\n",
       "      <td>0.30</td>\n",
       "      <td>7.42</td>\n",
       "      <td>0.52</td>\n",
       "      <td>50.84</td>\n",
       "      <td>0.54</td>\n",
       "      <td>0.12</td>\n",
       "      <td>0.83</td>\n",
       "    </tr>\n",
       "    <tr>\n",
       "      <th>Albania</th>\n",
       "      <td>2012.40</td>\n",
       "      <td>4.99</td>\n",
       "      <td>0.64</td>\n",
       "      <td>0.30</td>\n",
       "      <td>9.25</td>\n",
       "      <td>0.72</td>\n",
       "      <td>68.03</td>\n",
       "      <td>0.63</td>\n",
       "      <td>-0.11</td>\n",
       "      <td>0.86</td>\n",
       "    </tr>\n",
       "    <tr>\n",
       "      <th>Algeria</th>\n",
       "      <td>2013.33</td>\n",
       "      <td>5.56</td>\n",
       "      <td>0.62</td>\n",
       "      <td>0.27</td>\n",
       "      <td>9.50</td>\n",
       "      <td>0.80</td>\n",
       "      <td>64.98</td>\n",
       "      <td>0.54</td>\n",
       "      <td>-0.21</td>\n",
       "      <td>0.66</td>\n",
       "    </tr>\n",
       "    <tr>\n",
       "      <th>Angola</th>\n",
       "      <td>2012.50</td>\n",
       "      <td>4.42</td>\n",
       "      <td>0.61</td>\n",
       "      <td>0.35</td>\n",
       "      <td>8.71</td>\n",
       "      <td>0.74</td>\n",
       "      <td>51.73</td>\n",
       "      <td>0.46</td>\n",
       "      <td>-0.08</td>\n",
       "      <td>0.87</td>\n",
       "    </tr>\n",
       "    <tr>\n",
       "      <th>Argentina</th>\n",
       "      <td>2011.50</td>\n",
       "      <td>6.41</td>\n",
       "      <td>0.84</td>\n",
       "      <td>0.27</td>\n",
       "      <td>9.83</td>\n",
       "      <td>0.91</td>\n",
       "      <td>66.76</td>\n",
       "      <td>0.75</td>\n",
       "      <td>-0.15</td>\n",
       "      <td>0.84</td>\n",
       "    </tr>\n",
       "    <tr>\n",
       "      <th>...</th>\n",
       "      <td>...</td>\n",
       "      <td>...</td>\n",
       "      <td>...</td>\n",
       "      <td>...</td>\n",
       "      <td>...</td>\n",
       "      <td>...</td>\n",
       "      <td>...</td>\n",
       "      <td>...</td>\n",
       "      <td>...</td>\n",
       "      <td>...</td>\n",
       "    </tr>\n",
       "    <tr>\n",
       "      <th>Venezuela</th>\n",
       "      <td>2010.82</td>\n",
       "      <td>6.41</td>\n",
       "      <td>0.82</td>\n",
       "      <td>0.22</td>\n",
       "      <td>9.71</td>\n",
       "      <td>0.93</td>\n",
       "      <td>64.12</td>\n",
       "      <td>0.68</td>\n",
       "      <td>-0.19</td>\n",
       "      <td>0.78</td>\n",
       "    </tr>\n",
       "    <tr>\n",
       "      <th>Vietnam</th>\n",
       "      <td>2011.50</td>\n",
       "      <td>5.29</td>\n",
       "      <td>0.63</td>\n",
       "      <td>0.21</td>\n",
       "      <td>8.48</td>\n",
       "      <td>0.83</td>\n",
       "      <td>65.36</td>\n",
       "      <td>0.87</td>\n",
       "      <td>0.02</td>\n",
       "      <td>0.78</td>\n",
       "    </tr>\n",
       "    <tr>\n",
       "      <th>Yemen</th>\n",
       "      <td>2012.40</td>\n",
       "      <td>3.97</td>\n",
       "      <td>0.54</td>\n",
       "      <td>0.30</td>\n",
       "      <td>8.19</td>\n",
       "      <td>0.72</td>\n",
       "      <td>54.06</td>\n",
       "      <td>0.63</td>\n",
       "      <td>-0.13</td>\n",
       "      <td>0.83</td>\n",
       "    </tr>\n",
       "    <tr>\n",
       "      <th>Zambia</th>\n",
       "      <td>2011.64</td>\n",
       "      <td>4.69</td>\n",
       "      <td>0.72</td>\n",
       "      <td>0.28</td>\n",
       "      <td>8.10</td>\n",
       "      <td>0.75</td>\n",
       "      <td>49.64</td>\n",
       "      <td>0.75</td>\n",
       "      <td>-0.01</td>\n",
       "      <td>0.83</td>\n",
       "    </tr>\n",
       "    <tr>\n",
       "      <th>Zimbabwe</th>\n",
       "      <td>2011.50</td>\n",
       "      <td>4.06</td>\n",
       "      <td>0.72</td>\n",
       "      <td>0.21</td>\n",
       "      <td>7.42</td>\n",
       "      <td>0.81</td>\n",
       "      <td>46.42</td>\n",
       "      <td>0.56</td>\n",
       "      <td>-0.06</td>\n",
       "      <td>0.85</td>\n",
       "    </tr>\n",
       "  </tbody>\n",
       "</table>\n",
       "<p>164 rows × 10 columns</p>\n",
       "</div>"
      ],
      "text/plain": [
       "               year  Happiness  Positive  Negative  LogGDP  Support  Life  \\\n",
       "country                                                                     \n",
       "Afghanistan 2012.50       3.81      0.58      0.30    7.42     0.52 50.84   \n",
       "Albania     2012.40       4.99      0.64      0.30    9.25     0.72 68.03   \n",
       "Algeria     2013.33       5.56      0.62      0.27    9.50     0.80 64.98   \n",
       "Angola      2012.50       4.42      0.61      0.35    8.71     0.74 51.73   \n",
       "Argentina   2011.50       6.41      0.84      0.27    9.83     0.91 66.76   \n",
       "...             ...        ...       ...       ...     ...      ...   ...   \n",
       "Venezuela   2010.82       6.41      0.82      0.22    9.71     0.93 64.12   \n",
       "Vietnam     2011.50       5.29      0.63      0.21    8.48     0.83 65.36   \n",
       "Yemen       2012.40       3.97      0.54      0.30    8.19     0.72 54.06   \n",
       "Zambia      2011.64       4.69      0.72      0.28    8.10     0.75 49.64   \n",
       "Zimbabwe    2011.50       4.06      0.72      0.21    7.42     0.81 46.42   \n",
       "\n",
       "             Freedom  Generosity  Corruption  \n",
       "country                                       \n",
       "Afghanistan     0.54        0.12        0.83  \n",
       "Albania         0.63       -0.11        0.86  \n",
       "Algeria         0.54       -0.21        0.66  \n",
       "Angola          0.46       -0.08        0.87  \n",
       "Argentina       0.75       -0.15        0.84  \n",
       "...              ...         ...         ...  \n",
       "Venezuela       0.68       -0.19        0.78  \n",
       "Vietnam         0.87        0.02        0.78  \n",
       "Yemen           0.63       -0.13        0.83  \n",
       "Zambia          0.75       -0.01        0.83  \n",
       "Zimbabwe        0.56       -0.06        0.85  \n",
       "\n",
       "[164 rows x 10 columns]"
      ]
     },
     "execution_count": 74,
     "metadata": {},
     "output_type": "execute_result"
    }
   ],
   "source": [
    "df.groupby('country').mean()"
   ]
  },
  {
   "cell_type": "markdown",
   "metadata": {
    "nbgrader": {
     "grade": false,
     "grade_id": "cell-317de45635b8667f",
     "locked": true,
     "schema_version": 3,
     "solution": false,
     "task": false
    }
   },
   "source": [
    "### Step 3\n",
    "\n",
    "Now let's look at variation over time.  The code cell below uses the ```groupby``` method. The code:\n",
    "\n",
    "* computes the mean value of all WHR indicators per year (over all countries), and assigns the result to the variable ```mean_vals_by_year```\n",
    "* computes the minimum values of all WHR indicators per year (over all countries), and assigns the result to the variable ```min_vals_by_year```\n",
    "* computes the maximum values of all WHR indicators per year (over all countries), and assigns the result to the variable ```max_vals_by_year```"
   ]
  },
  {
   "cell_type": "code",
   "execution_count": 76,
   "metadata": {
    "nbgrader": {
     "grade": false,
     "grade_id": "cell-d2c3d20d55de4233",
     "locked": true,
     "schema_version": 3,
     "solution": false,
     "task": false
    }
   },
   "outputs": [],
   "source": [
    "mean_vals_by_year = df.groupby('year').mean()\n",
    "min_vals_by_year = df.groupby('year').min()\n",
    "max_vals_by_year = df.groupby('year').max()"
   ]
  },
  {
   "cell_type": "markdown",
   "metadata": {
    "nbgrader": {
     "grade": false,
     "grade_id": "cell-24713454a2fc55fe",
     "locked": true,
     "schema_version": 3,
     "solution": false,
     "task": false
    }
   },
   "source": [
    "### Step 4\n",
    "\n",
    "The code cell below contains code to plot the min values of Happiness by year, using the dataframes computed in the cell above. Add code to plot the mean and max values as well.  Plot all three curves in the same figure. \n",
    "\n",
    "The following are good references: the [plot function](https://pandas.pydata.org/pandas-docs/stable/reference/api/pandas.DataFrame.plot.html) for pandas dataframes. [This tutorial](https://pandas.pydata.org/docs/getting_started/intro_tutorials/04_plotting.html) and [this tutorial](https://pandas.pydata.org/pandas-docs/stable/user_guide/visualization.html).\n"
   ]
  },
  {
   "cell_type": "markdown",
   "metadata": {},
   "source": [
    "<i>Note: a self-check will not accompany this exercise.</i><br>\n",
    "Your plot should look like this (although the colors may be different depending on the order in which you plot each curve): <br><img src=\"GroupingKeysStep4.png\" width=400 height=400  align=\"left\"/>"
   ]
  },
  {
   "cell_type": "code",
   "execution_count": 77,
   "metadata": {
    "nbgrader": {
     "grade": true,
     "grade_id": "cell-38287676ad80d551",
     "locked": false,
     "points": 0,
     "schema_version": 3,
     "solution": true,
     "task": false
    }
   },
   "outputs": [
    {
     "data": {
      "text/plain": [
       "<matplotlib.axes._subplots.AxesSubplot at 0x7fc6e45fca58>"
      ]
     },
     "execution_count": 77,
     "metadata": {},
     "output_type": "execute_result"
    },
    {
     "data": {
      "image/png": "[encoded data removed]",
      "text/plain": [
       "<Figure size 432x288 with 1 Axes>"
      ]
     },
     "metadata": {
      "needs_background": "light"
     },
     "output_type": "display_data"
    }
   ],
   "source": [
    "min_vals_by_year['Happiness'].plot()\n",
    "max_vals_by_year['Happiness'].plot()\n",
    "mean_vals_by_year['Happiness'].plot()"
   ]
  },
  {
   "cell_type": "markdown",
   "metadata": {
    "nbgrader": {
     "grade": false,
     "grade_id": "cell-d0e4d8d7e7a5cfa3",
     "locked": true,
     "schema_version": 3,
     "solution": false,
     "task": false
    }
   },
   "source": [
    "### Step 5\n",
    "\n",
    "The World Happiness Report introduces a hypothetical country named Dystopia, \"so named because it has values equal to the world’s lowest national averages for 2015-2017 for each of the six key variables used in Table 2.1\", where the six key variables are 'LogGDP', 'Support', 'Life', 'Freedom', 'Generosity', and 'Corruption'.\n",
    "\n",
    "Below, you will use the ```groupby``` method to compute the parameters associated with Dystopia, that is, the values of 'LogGDP', 'Support', 'Life', 'Freedom', 'Generosity', and 'Corruption' associated with this hypothetical country, which is at the bottom of the heap for all indicators.\n",
    "\n",
    "You'll need to do this in a few steps, because of the nature of the data.  Whereas 5 of the 6 key variables are generally positive attributes that one would want more of, the last &mdash; Perceptions of Corruption &mdash; is a negative attribute.  So while Dystopia is associated with the world's *lowest* national averages for the first 5 of the key variables, it is associated with the world's *highest* national average for the last variable.\n",
    "\n",
    "In the code cell below:\n",
    "\n",
    "* Compute the mean values of all WHR indicators by country over the 2015-2017 time frame, and then compute the lowest national averages over all countries.  Assign this result to the variable ```min_avg_vals```.\n",
    "* Compute the mean values of all WHR indicators by country over the 2015-2017 time frame, and then compute the highest national averages over all countries.  Assign this result to the variable ```max_avg_vals```.\n",
    "* Assign to the variable ```explanatory_vars``` a list of the six key variable names.\n",
    "\n",
    "* You'll want to create a variable named ```Dystopia``` that contains the data in ```min_avg_vals``` for the first 5 of the explanatory variables, and the data in ```max_avg_vals``` for the last variable.  There are a couple different ways to do this, but we'll just carry out one of them here.\n",
    "* Make a copy of the ```min_avg_vals``` (using the ```copy``` method on that Series), extract out just the columns associated with the explanatory variables from that copy, and assign the result to the variable ```Dystopia```.  The Series ```Dystopia``` should now have all the same values as the data in ```min_avg_vals```, but since we made a copy, we can now modify one of the entries in ```Dystopia``` without changing the data in ```min_avg_vals``` as well.\n",
    "* Now overwrite the ```Corruption``` entry in ```Dystopia``` by assigning it to the corresponding value from ```max_avg_vals```.\n",
    "* Print out the value of Dystopia."
   ]
  },
  {
   "cell_type": "code",
   "execution_count": 78,
   "metadata": {
    "nbgrader": {
     "grade": false,
     "grade_id": "cell-2f003ec6ca51c9ec",
     "locked": false,
     "schema_version": 3,
     "solution": true,
     "task": false
    }
   },
   "outputs": [
    {
     "name": "stdout",
     "output_type": "stream",
     "text": [
      "             year  Happiness  Positive  Negative  LogGDP  Support  Life  \\\n",
      "country                                                                   \n",
      "Afghanistan  2015       2.66      0.50      0.34    7.46     0.49 51.69   \n",
      "Albania      2015       4.51      0.67      0.32    9.30     0.64 68.69   \n",
      "Algeria      2016       5.25      0.64      0.29    9.54     0.75 65.51   \n",
      "Argentina    2015       6.04      0.81      0.29    9.82     0.88 67.26   \n",
      "Armenia      2015       4.29      0.59      0.44    9.01     0.70 64.80   \n",
      "...           ...        ...       ...       ...     ...      ...   ...   \n",
      "Venezuela    2015       4.04      0.69      0.22    9.53     0.90 64.60   \n",
      "Vietnam      2015       5.06      0.54      0.22    8.64     0.85 65.91   \n",
      "Yemen        2015       2.98      0.46      0.23    7.75     0.67 54.61   \n",
      "Zambia       2015       3.93      0.68      0.37    8.20     0.69 52.73   \n",
      "Zimbabwe     2015       3.64      0.72      0.18    7.54     0.74 50.93   \n",
      "\n",
      "             Freedom  Generosity  Corruption  \n",
      "country                                       \n",
      "Afghanistan     0.39       -0.11        0.79  \n",
      "Albania         0.70       -0.09        0.88  \n",
      "Algeria         0.44       -0.19        0.70  \n",
      "Argentina       0.83       -0.19        0.84  \n",
      "Armenia         0.55       -0.19        0.86  \n",
      "...              ...         ...         ...  \n",
      "Venezuela       0.46       -0.21        0.81  \n",
      "Vietnam         0.89       -0.09        0.80  \n",
      "Yemen           0.53       -0.16        0.83  \n",
      "Zambia          0.76       -0.05        0.74  \n",
      "Zimbabwe        0.67       -0.09        0.72  \n",
      "\n",
      "[152 rows x 10 columns]\n"
     ]
    }
   ],
   "source": [
    "# YOUR CODE HERE\n",
    "min_avg_vals = df1517.groupby('country').min()\n",
    "max_avg_vals = df1517.groupby('country').max()\n",
    "explanatory_vars = df1517.groupby('country')\n",
    "Dystopia = min_avg_vals.copy('country')\n",
    "Corruption = max_avg_vals.copy('country')\n",
    "print(Dystopia)"
   ]
  },
  {
   "cell_type": "markdown",
   "metadata": {},
   "source": [
    "## Self-Check\n",
    "\n",
    "Run the cell below to test the correctness of your code above before submitting for grading."
   ]
  },
  {
   "cell_type": "code",
   "execution_count": 79,
   "metadata": {},
   "outputs": [
    {
     "name": "stdout",
     "output_type": "stream",
     "text": [
      "Incorrect!\n",
      "Check your values for min_avg_vals and max_avg_vals.\n",
      "Check your values for explanatory_vars array.\n",
      "Dystopia does not contain the correct values.\n"
     ]
    }
   ],
   "source": [
    "# Run this self-test cell to check your code; do not add code or delete code in this cell\n",
    "from jn import testDystopia\n",
    "\n",
    "try:\n",
    "    print(testDystopia(df1517, Dystopia, min_avg_vals, max_avg_vals, explanatory_vars))\n",
    "except Exception as e:\n",
    "    print(\"Error!\\n\" + str(e))"
   ]
  },
  {
   "cell_type": "markdown",
   "metadata": {
    "nbgrader": {
     "grade": false,
     "grade_id": "cell-8ccfdfcabbf679e9",
     "locked": true,
     "schema_version": 3,
     "solution": false,
     "task": false
    }
   },
   "source": [
    "### Step 6\n",
    "\n",
    "Examine the contents of ```Dystopia```, and compare it with the Dystopia column in Table 19 of WHR Appendix 1, included below.  You should detect some slight discrepancies, for example in the LogGDP, Support, and Freedom entries.  This suggests that the WHR authors might have done some additional data cleaning that we have not performed here, and which is not immediately obvious from their textual description of the data pipeline:\n",
    "\n",
    "<img src=\"groupingKeysAppendix.png\" width=600 height=600 />"
   ]
  },
  {
   "cell_type": "markdown",
   "metadata": {
    "nbgrader": {
     "grade": false,
     "grade_id": "cell-078ece7471208f97",
     "locked": true,
     "schema_version": 3,
     "solution": false,
     "task": false
    }
   },
   "source": [
    "### Concluding thoughts\n",
    "\n",
    "The World Happiness Report introduces the concept of Dystopia in part so that they can seek to explain the contributions of each of the explanatory variables to the overall level of Happiness in each country.  By making Dystopia a place that is at least no better than any actual country, they can perform a multivariate linear regression where each regression coefficient is positive.  One can go through the exercise of creating a modified dataframe that subtracts off the baseline values found in Dystopia, and then carries out an OLS regression to identify the contributions to Happiness of each of the key variables.  This is a worthwhile exercise if you are interested, but in doing so, you will probably find some quantitative discrepancies with what is created in the report, similar to the results in our Dystopia calculation.  The data tables included with the WHR include the *results* of their computations, but not the code used to carry out the computations themselves, so one is left with working to decipher what they might have done based on the textual description of their workflow.  \n",
    "\n",
    "Of course, this state of affairs is not peculiar to the World Happiness Report.  Many scientific papers contain descriptions of methods or models, and then present the results of subsequent analyses that are sometimes hard to verify by working through the textual description.  There is increasing interest in providing reproducible computational workflows alongside descriptions of analyses, and one of the roles that Jupyter notebooks can play is to support the construction of computable documents that contain both code and the subsequent results. "
   ]
  }
 ],
 "metadata": {
  "kernelspec": {
   "display_name": "Python 3",
   "language": "python",
   "name": "python3"
  },
  "language_info": {
   "codemirror_mode": {
    "name": "ipython",
    "version": 3
   },
   "file_extension": ".py",
   "mimetype": "text/x-python",
   "name": "python",
   "nbconvert_exporter": "python",
   "pygments_lexer": "ipython3",
   "version": "3.6.7"
  }
 },
 "nbformat": 4,
 "nbformat_minor": 2
}
