{
 "cells": [
  {
   "cell_type": "markdown",
   "metadata": {},
   "source": [
    "# Implement Naive Bayes to Make Predictions Based on Weather\n",
    "\n",
    "You want to go to a golf tournament, but would like to know whether the weather will hold up. In this exericse we are going to use Naive Bayes to predict whether or not the event will take place under certain weather conditions.\n"
   ]
  },
  {
   "cell_type": "markdown",
   "metadata": {},
   "source": [
    "# Import Libraries\n",
    "\n",
    "Before you get started, you need to import a few libraries. You can do this by executing the following code. Remember, run code in a cell by selecting the cell, holding the shift key, and pressing enter/return.\n"
   ]
  },
  {
   "cell_type": "code",
   "execution_count": 1,
   "metadata": {},
   "outputs": [],
   "source": [
    "import numpy as np\n",
    "import pandas as pd\n",
    "import seaborn as sns\n",
    "import matplotlib.pyplot as plt"
   ]
  },
  {
   "cell_type": "markdown",
   "metadata": {},
   "source": [
    "We will also import the scikit-learn `CategoricalNB`, the `train_test_split` function, the metric `accuracy_score`, and a `LabelEncoder` that will help us tranform our raw data into features that can be used by our Naive Bayes model."
   ]
  },
  {
   "cell_type": "code",
   "execution_count": 2,
   "metadata": {},
   "outputs": [],
   "source": [
    "from sklearn.model_selection import train_test_split\n",
    "from sklearn.naive_bayes import CategoricalNB\n",
    "from sklearn.preprocessing import LabelEncoder\n",
    "from sklearn.metrics import accuracy_score, confusion_matrix"
   ]
  },
  {
   "cell_type": "markdown",
   "metadata": {
    "nbgrader": {
     "checksum": "49a4a4566d4ab67c17f89c8d79fb29a4",
     "grade": false,
     "grade_id": "cell-30dffab85bf9ce51",
     "locked": true,
     "schema_version": 1,
     "solution": false
    }
   },
   "source": [
    "### Step 1: Load and Inspect the Data Set\n",
    "\n",
    "A small data set was created for this exercise. Load the data from our data set and store it in a dataframe called `dfgolf`.\n",
    "The data set contains four features: the weather outlook, the temperature, the level of humidity, and the strength of the wind. It contains two features: 'yes' and 'no.' This will be a binary classification problem.\n",
    "\n",
    "Execute the cell below to inspect 10 data points from the data set."
   ]
  },
  {
   "cell_type": "code",
   "execution_count": 3,
   "metadata": {},
   "outputs": [
    {
     "data": {
      "text/html": [
       "<div>\n",
       "<style scoped>\n",
       "    .dataframe tbody tr th:only-of-type {\n",
       "        vertical-align: middle;\n",
       "    }\n",
       "\n",
       "    .dataframe tbody tr th {\n",
       "        vertical-align: top;\n",
       "    }\n",
       "\n",
       "    .dataframe thead th {\n",
       "        text-align: right;\n",
       "    }\n",
       "</style>\n",
       "<table border=\"1\" class=\"dataframe\">\n",
       "  <thead>\n",
       "    <tr style=\"text-align: right;\">\n",
       "      <th></th>\n",
       "      <th>outlook</th>\n",
       "      <th>temperature</th>\n",
       "      <th>humidity</th>\n",
       "      <th>wind</th>\n",
       "      <th>play golf</th>\n",
       "    </tr>\n",
       "  </thead>\n",
       "  <tbody>\n",
       "    <tr>\n",
       "      <th>17</th>\n",
       "      <td>rainy</td>\n",
       "      <td>WARM</td>\n",
       "      <td>VERY HIGH</td>\n",
       "      <td>STRONG</td>\n",
       "      <td>no</td>\n",
       "    </tr>\n",
       "    <tr>\n",
       "      <th>21</th>\n",
       "      <td>sunny</td>\n",
       "      <td>HOT</td>\n",
       "      <td>LOW</td>\n",
       "      <td>WEAK</td>\n",
       "      <td>yes</td>\n",
       "    </tr>\n",
       "    <tr>\n",
       "      <th>10</th>\n",
       "      <td>sunny</td>\n",
       "      <td>WARM</td>\n",
       "      <td>AVERAGE</td>\n",
       "      <td>STRONG</td>\n",
       "      <td>no</td>\n",
       "    </tr>\n",
       "    <tr>\n",
       "      <th>19</th>\n",
       "      <td>rainy</td>\n",
       "      <td>WARM</td>\n",
       "      <td>AVERAGE</td>\n",
       "      <td>WEAK</td>\n",
       "      <td>yes</td>\n",
       "    </tr>\n",
       "    <tr>\n",
       "      <th>14</th>\n",
       "      <td>sunny</td>\n",
       "      <td>WARM</td>\n",
       "      <td>AVERAGE</td>\n",
       "      <td>WEAK</td>\n",
       "      <td>yes</td>\n",
       "    </tr>\n",
       "    <tr>\n",
       "      <th>20</th>\n",
       "      <td>sunny</td>\n",
       "      <td>WARM</td>\n",
       "      <td>HIGH</td>\n",
       "      <td>MILD</td>\n",
       "      <td>yes</td>\n",
       "    </tr>\n",
       "    <tr>\n",
       "      <th>26</th>\n",
       "      <td>overcast</td>\n",
       "      <td>HOT</td>\n",
       "      <td>HIGH</td>\n",
       "      <td>MILD</td>\n",
       "      <td>yes</td>\n",
       "    </tr>\n",
       "    <tr>\n",
       "      <th>3</th>\n",
       "      <td>rainy</td>\n",
       "      <td>WARM</td>\n",
       "      <td>AVERAGE</td>\n",
       "      <td>MILD</td>\n",
       "      <td>yes</td>\n",
       "    </tr>\n",
       "    <tr>\n",
       "      <th>24</th>\n",
       "      <td>overcast</td>\n",
       "      <td>HOT</td>\n",
       "      <td>LOW</td>\n",
       "      <td>MILD</td>\n",
       "      <td>yes</td>\n",
       "    </tr>\n",
       "    <tr>\n",
       "      <th>22</th>\n",
       "      <td>sunny</td>\n",
       "      <td>COLD</td>\n",
       "      <td>LOW</td>\n",
       "      <td>STRONG</td>\n",
       "      <td>no</td>\n",
       "    </tr>\n",
       "  </tbody>\n",
       "</table>\n",
       "</div>"
      ],
      "text/plain": [
       "     outlook temperature   humidity    wind play golf\n",
       "17     rainy        WARM  VERY HIGH  STRONG        no\n",
       "21     sunny         HOT        LOW    WEAK       yes\n",
       "10     sunny        WARM    AVERAGE  STRONG        no\n",
       "19     rainy        WARM    AVERAGE    WEAK       yes\n",
       "14     sunny        WARM    AVERAGE    WEAK       yes\n",
       "20     sunny        WARM       HIGH    MILD       yes\n",
       "26  overcast         HOT       HIGH    MILD       yes\n",
       "3      rainy        WARM    AVERAGE    MILD       yes\n",
       "24  overcast         HOT        LOW    MILD       yes\n",
       "22     sunny        COLD        LOW  STRONG        no"
      ]
     },
     "execution_count": 3,
     "metadata": {},
     "output_type": "execute_result"
    }
   ],
   "source": [
    "dfgolf = pd.read_csv('playGolf.csv')\n",
    "dfgolf.sample(n=10, replace=False, random_state=1)"
   ]
  },
  {
   "cell_type": "markdown",
   "metadata": {},
   "source": [
    "### Step 2: Format the Data\n",
    "\n",
    "Notice that all of the features in the data set are in plain text, which is not a format our machine learning algorithm can work with effectively, and so we have to represent these plain text features as numerical value.\n",
    "\n",
    "There are different techniques you can use to tranform text data, and these different techniques have corresponding modules available for use in scikit-learn.\n",
    "\n",
    "Let's analyze the data. Notice that each feature has a categorical value: the value belongs to a category. For example, the `outlook` can be rainy, sunny or overcast. There are also limited possible values for each feature:\n",
    "\n",
    "`outlook`: rainy, sunny, overcast\n",
    "\n",
    "`temperature`: HOT, COLD, WARM, MILD\n",
    "\n",
    "`wind`: STRONG, MILD, WEAK\n",
    "\n",
    "`humidity`: AVERAGE, HIGH, LOW, VERY HIGH\n",
    "\n",
    "\n",
    "Considering the data, we can scikit-learn's `LabelEncoder` to transform the feature values into numerical representations. If we have n possible values for a feature, than LabelEncoder will choose a value from 0 to n-1.  It is worth noting that `LabelEncoder` should not always be used to transform features since the model may assume there is some order associated with the numerical values. For example, it may assume that some significance among the numerical values, since for example, 4 is greater than 1. The data and the model being used has to be taken into consideration when choosing an encoder. In our case, `LabelEncoder` works well.\n",
    "\n",
    "The code cell below uses `LabelEncoder` to transform both our feature values and the label into numerical representatons. Execute the code cell below and inspect the results of the transformation.\n",
    "\n",
    "Notice that all of the features now have numerical values. Also notice that the two labels are now 0 and 1: \"no\" (will not play golf) is now equal to 0, and \"yes\" (will play golf) is now equal to 1."
   ]
  },
  {
   "cell_type": "code",
   "execution_count": 4,
   "metadata": {},
   "outputs": [
    {
     "data": {
      "text/html": [
       "<div>\n",
       "<style scoped>\n",
       "    .dataframe tbody tr th:only-of-type {\n",
       "        vertical-align: middle;\n",
       "    }\n",
       "\n",
       "    .dataframe tbody tr th {\n",
       "        vertical-align: top;\n",
       "    }\n",
       "\n",
       "    .dataframe thead th {\n",
       "        text-align: right;\n",
       "    }\n",
       "</style>\n",
       "<table border=\"1\" class=\"dataframe\">\n",
       "  <thead>\n",
       "    <tr style=\"text-align: right;\">\n",
       "      <th></th>\n",
       "      <th>outlook</th>\n",
       "      <th>temperature</th>\n",
       "      <th>humidity</th>\n",
       "      <th>wind</th>\n",
       "      <th>play golf</th>\n",
       "    </tr>\n",
       "  </thead>\n",
       "  <tbody>\n",
       "    <tr>\n",
       "      <th>17</th>\n",
       "      <td>1</td>\n",
       "      <td>3</td>\n",
       "      <td>3</td>\n",
       "      <td>1</td>\n",
       "      <td>0</td>\n",
       "    </tr>\n",
       "    <tr>\n",
       "      <th>21</th>\n",
       "      <td>2</td>\n",
       "      <td>1</td>\n",
       "      <td>2</td>\n",
       "      <td>2</td>\n",
       "      <td>1</td>\n",
       "    </tr>\n",
       "    <tr>\n",
       "      <th>10</th>\n",
       "      <td>2</td>\n",
       "      <td>3</td>\n",
       "      <td>0</td>\n",
       "      <td>1</td>\n",
       "      <td>0</td>\n",
       "    </tr>\n",
       "    <tr>\n",
       "      <th>19</th>\n",
       "      <td>1</td>\n",
       "      <td>3</td>\n",
       "      <td>0</td>\n",
       "      <td>2</td>\n",
       "      <td>1</td>\n",
       "    </tr>\n",
       "    <tr>\n",
       "      <th>14</th>\n",
       "      <td>2</td>\n",
       "      <td>3</td>\n",
       "      <td>0</td>\n",
       "      <td>2</td>\n",
       "      <td>1</td>\n",
       "    </tr>\n",
       "    <tr>\n",
       "      <th>20</th>\n",
       "      <td>2</td>\n",
       "      <td>3</td>\n",
       "      <td>1</td>\n",
       "      <td>0</td>\n",
       "      <td>1</td>\n",
       "    </tr>\n",
       "    <tr>\n",
       "      <th>26</th>\n",
       "      <td>0</td>\n",
       "      <td>1</td>\n",
       "      <td>1</td>\n",
       "      <td>0</td>\n",
       "      <td>1</td>\n",
       "    </tr>\n",
       "    <tr>\n",
       "      <th>3</th>\n",
       "      <td>1</td>\n",
       "      <td>3</td>\n",
       "      <td>0</td>\n",
       "      <td>0</td>\n",
       "      <td>1</td>\n",
       "    </tr>\n",
       "    <tr>\n",
       "      <th>24</th>\n",
       "      <td>0</td>\n",
       "      <td>1</td>\n",
       "      <td>2</td>\n",
       "      <td>0</td>\n",
       "      <td>1</td>\n",
       "    </tr>\n",
       "    <tr>\n",
       "      <th>22</th>\n",
       "      <td>2</td>\n",
       "      <td>0</td>\n",
       "      <td>2</td>\n",
       "      <td>1</td>\n",
       "      <td>0</td>\n",
       "    </tr>\n",
       "  </tbody>\n",
       "</table>\n",
       "</div>"
      ],
      "text/plain": [
       "    outlook  temperature  humidity  wind  play golf\n",
       "17        1            3         3     1          0\n",
       "21        2            1         2     2          1\n",
       "10        2            3         0     1          0\n",
       "19        1            3         0     2          1\n",
       "14        2            3         0     2          1\n",
       "20        2            3         1     0          1\n",
       "26        0            1         1     0          1\n",
       "3         1            3         0     0          1\n",
       "24        0            1         2     0          1\n",
       "22        2            0         2     1          0"
      ]
     },
     "execution_count": 4,
     "metadata": {},
     "output_type": "execute_result"
    }
   ],
   "source": [
    "outlookE = LabelEncoder()\n",
    "dfgolf['outlook'] = outlookE.fit_transform(dfgolf['outlook'])\n",
    "tempE = LabelEncoder()\n",
    "dfgolf['temperature'] = tempE.fit_transform(dfgolf['temperature'])\n",
    "humE = LabelEncoder()\n",
    "dfgolf['humidity'] = humE.fit_transform(dfgolf['humidity'])\n",
    "windE = LabelEncoder()\n",
    "dfgolf['wind'] = windE.fit_transform(dfgolf['wind'])\n",
    "le = LabelEncoder()\n",
    "dfgolf['play golf'] = le.fit_transform(dfgolf['play golf'])\n",
    "dfgolf.sample(n=10, replace=False, random_state=1)"
   ]
  },
  {
   "cell_type": "markdown",
   "metadata": {},
   "source": [
    "### Step 2: Create labeled examples from our data set for the training phase\n",
    "\n",
    "Execute the code cell below and inspect the results. You will see that we have 30 labeled examples. Each example contains four features and one label.\n"
   ]
  },
  {
   "cell_type": "code",
   "execution_count": 5,
   "metadata": {},
   "outputs": [
    {
     "name": "stdout",
     "output_type": "stream",
     "text": [
      "(30, 4)\n",
      "(30, 1)\n"
     ]
    }
   ],
   "source": [
    "x = dfgolf[['outlook', 'temperature', 'humidity','wind']]\n",
    "y = dfgolf['play golf'].to_frame()\n",
    "print(x.shape)\n",
    "print(y.shape)"
   ]
  },
  {
   "cell_type": "markdown",
   "metadata": {},
   "source": [
    "\n",
    "### Step 3: Create Training & Test Data Sets\n",
    "\n",
    "Now that we have specified examples, we will need to split them into a training set and a test set.\n",
    "\n",
    "We will refer to the training feature vectors as `x_train` with labels `y_train`. \n",
    "\n",
    "Our testing vectors are `x_test` with labels `y_test`. \n"
   ]
  },
  {
   "cell_type": "code",
   "execution_count": 6,
   "metadata": {},
   "outputs": [],
   "source": [
    "x_train, x_test, y_train, y_test = train_test_split(x, y, test_size=0.3, random_state=4)"
   ]
  },
  {
   "cell_type": "markdown",
   "metadata": {},
   "source": [
    "### Step 4: Fit a Categorical Naive Bayes Model with the Training Set\n",
    "\n",
    "Scikit-learn has a few different options for Naive Bayes classifier depending on the input data. Since our features all have categorical values, we can use scikit-learn's ```CategoricalNB()``` class.\n",
    "\n",
    "The code cell below:\n",
    "\n",
    "1. Creates a ```CategoricalNB()``` object\n",
    "\n",
    "2. Calls the ```.fit()``` method on ```model``` to fit the model to the training data. The first argument should be ```x_train``` and the second ```y_train```. Note CategoricalNB's `.fit()` method requires the second parameter to be a 1D array. We use method `.values()` to convert our data frame to a numpy array and then `.ravel()` to convert it to a 1D array. We use the `.flatten()` method to make a copy of `y_train` instead of changing the original value. \n",
    "\n",
    "3. Uses the ```.predict()``` method on ```model``` with the argument ```x_test``` to use the fitted model to predict values for the testing data. Store the outcome in the variable ```y_pred```. We will compare these values to ```y_test``` later."
   ]
  },
  {
   "cell_type": "code",
   "execution_count": 7,
   "metadata": {},
   "outputs": [],
   "source": [
    "# Initialize the model\n",
    "nb_model = CategoricalNB()\n",
    "\n",
    "# Train the model using the training sets\n",
    "nb_model.fit(x_train, y_train.values.ravel().flatten())\n",
    "\n",
    "# Make predictions using the test set\n",
    "prediction= nb_model.predict(x_test) \n"
   ]
  },
  {
   "cell_type": "markdown",
   "metadata": {},
   "source": [
    "### Step 5: Check the accuracy of your model\n",
    "\n",
    "Execute the code cell below to see the accuracy score of your model and the confusion matrix."
   ]
  },
  {
   "cell_type": "code",
   "execution_count": 8,
   "metadata": {},
   "outputs": [
    {
     "name": "stdout",
     "output_type": "stream",
     "text": [
      "Accuracy score of model: 0.7777777777777778\n",
      "Confusion Matrix for the model: \n"
     ]
    },
    {
     "data": {
      "text/html": [
       "<div>\n",
       "<style scoped>\n",
       "    .dataframe tbody tr th:only-of-type {\n",
       "        vertical-align: middle;\n",
       "    }\n",
       "\n",
       "    .dataframe tbody tr th {\n",
       "        vertical-align: top;\n",
       "    }\n",
       "\n",
       "    .dataframe thead th {\n",
       "        text-align: right;\n",
       "    }\n",
       "</style>\n",
       "<table border=\"1\" class=\"dataframe\">\n",
       "  <thead>\n",
       "    <tr style=\"text-align: right;\">\n",
       "      <th></th>\n",
       "      <th>Predicted: Play Golf</th>\n",
       "      <th>Predicted: Do Not Play Golf</th>\n",
       "    </tr>\n",
       "  </thead>\n",
       "  <tbody>\n",
       "    <tr>\n",
       "      <th>Actual: Play Golf</th>\n",
       "      <td>4</td>\n",
       "      <td>1</td>\n",
       "    </tr>\n",
       "    <tr>\n",
       "      <th>Actual: Do Not Play Golf</th>\n",
       "      <td>1</td>\n",
       "      <td>3</td>\n",
       "    </tr>\n",
       "  </tbody>\n",
       "</table>\n",
       "</div>"
      ],
      "text/plain": [
       "                          Predicted: Play Golf  Predicted: Do Not Play Golf\n",
       "Actual: Play Golf                            4                            1\n",
       "Actual: Do Not Play Golf                     1                            3"
      ]
     },
     "execution_count": 8,
     "metadata": {},
     "output_type": "execute_result"
    }
   ],
   "source": [
    "# Compute and print model's accuracy score\n",
    "score = accuracy_score(y_test, prediction)\n",
    "print('Accuracy score of model: ' + str(score))\n",
    "\n",
    "# For the purpose of the producing a confustion matrix,\n",
    "# convert numerical values back to strings using numpy's where method\n",
    "prediction = np.where(prediction == 1, 'Yes', 'No')\n",
    "y_test = np.where(y_test == 1, 'Yes','No')\n",
    "\n",
    "# Display a confusion matrix\n",
    "print('Confusion Matrix for the model: ')\n",
    "\n",
    "pd.DataFrame(\n",
    "confusion_matrix(y_test, prediction, labels=['No', 'Yes']),\n",
    "columns=['Predicted: Play Golf', 'Predicted: Do Not Play Golf'],\n",
    "index=['Actual: Play Golf', 'Actual: Do Not Play Golf']\n",
    ")\n"
   ]
  },
  {
   "cell_type": "markdown",
   "metadata": {},
   "source": [
    "The code cell below contains code that asks a user to enter values for all four weather features and outputs a prediction. Execute the code cell below to see whether you will be attending the game.\n"
   ]
  },
  {
   "cell_type": "code",
   "execution_count": null,
   "metadata": {},
   "outputs": [
    {
     "name": "stdout",
     "output_type": "stream",
     "text": [
      "Please enter values for weather:\n",
      "Enter outlook: Summer\n",
      "Enter the correct value for overlook: sunny\n",
      "Enter temperature: temperature\n",
      "Enter a correct value for temperature: wind\n"
     ]
    }
   ],
   "source": [
    "outlook_list = ['sunny', 'rainy', 'overcast']\n",
    "temperature_list = ['hot', 'warm', 'cold', 'mild']\n",
    "humidity_list = ['very high', 'high', 'average', 'low']\n",
    "wind_list = ['strong', 'mild', 'weak']\n",
    "\n",
    "while True:\n",
    "    print('Please enter values for weather:')\n",
    "    outlook = input('Enter outlook: ')\n",
    "    while not outlook.lower() in outlook_list:\n",
    "        outlook = input('Enter the correct value for overlook: ')\n",
    "    temperature = input('Enter temperature: ')\n",
    "    while not temperature.lower() in temperature_list:\n",
    "        temperature = input('Enter a correct value for temperature: ')\n",
    "    humidity = input('Enter humidty: ')\n",
    "    while not humidity.lower() in humidity_list:\n",
    "        humidity = input('Enter a correct value for humidity: ')\n",
    "    wind = input('Enter wind: ')\n",
    "    while not wind.lower() in wind_list:\n",
    "        wind = input('Enter a correct value for wind: ')\n",
    "    break\n",
    "        \n",
    "# create new data frame\n",
    "df = pd.DataFrame(columns=['outlook', 'temperature', 'humidity', 'wind'], data=[[outlook,temperature,humidity,wind]])\n",
    "\n",
    "# use encoders above to encode data\n",
    "df['outlook'] = outlookE.fit_transform(df['outlook'])\n",
    "df['temperature'] = tempE.fit_transform(df['temperature'])\n",
    "df['humidity'] = humE.fit_transform(df['humidity'])\n",
    "df['wind'] = windE.fit_transform(df['wind'])\n",
    "\n",
    "# create test data out of your entries\n",
    "x_test = df[['outlook', 'temperature', 'humidity','wind']]\n",
    "\n",
    "# make a prediction\n",
    "prediction= nb_model.predict(x_test) \n",
    "\n",
    "# output the prediction\n",
    "if prediction[0] == 0:\n",
    "    print('\\n\\nThey will NOT play golf!')\n",
    "else:\n",
    "    print('\\n\\nHAVE FUN!!')"
   ]
  }
 ],
 "metadata": {
  "anaconda-cloud": {},
  "kernelspec": {
   "display_name": "Python 3",
   "language": "python",
   "name": "python3"
  },
  "language_info": {
   "codemirror_mode": {
    "name": "ipython",
    "version": 3
   },
   "file_extension": ".py",
   "mimetype": "text/x-python",
   "name": "python",
   "nbconvert_exporter": "python",
   "pygments_lexer": "ipython3",
   "version": "3.6.7"
  }
 },
 "nbformat": 4,
 "nbformat_minor": 4
}
