{
 "cells": [
  {
   "cell_type": "markdown",
   "metadata": {
    "nbgrader": {
     "grade": false,
     "grade_id": "cell-9206eb474a665478",
     "locked": true,
     "schema_version": 3,
     "solution": false,
     "task": false
    }
   },
   "source": [
    "## Analyzing the World Happiness Data\n",
    "\n",
    "### Computing summary statistics\n"
   ]
  },
  {
   "cell_type": "markdown",
   "metadata": {
    "nbgrader": {
     "grade": false,
     "grade_id": "cell-6fd6c2b466bdbc4f",
     "locked": true,
     "schema_version": 3,
     "solution": false,
     "task": false
    }
   },
   "source": [
    "In this exercise, we will use pandas to compute some summary statistics of the WHR data.\n",
    "\n",
    "We'll repeat here some of the code developed in a previous exercise so that we can continue to work with data in this exercise.  Execute the following code cells to load and reconfigure the data."
   ]
  },
  {
   "cell_type": "code",
   "execution_count": 161,
   "metadata": {
    "nbgrader": {
     "grade": false,
     "grade_id": "cell-165bd597e353bfe2",
     "locked": true,
     "schema_version": 3,
     "solution": false,
     "task": false
    }
   },
   "outputs": [],
   "source": [
    "import pandas as pd\n",
    "import seaborn as sns\n",
    "import matplotlib.pyplot as plt\n",
    "%matplotlib inline\n",
    "pd.options.display.float_format = '{:.2f}'.format"
   ]
  },
  {
   "cell_type": "code",
   "execution_count": 162,
   "metadata": {
    "nbgrader": {
     "grade": false,
     "grade_id": "cell-908a50195ca55a23",
     "locked": true,
     "schema_version": 3,
     "solution": false,
     "task": false
    }
   },
   "outputs": [],
   "source": [
    "dfraw = pd.read_excel('WHR2018Chapter2OnlineData.xls', sheet_name='Table2.1')"
   ]
  },
  {
   "cell_type": "code",
   "execution_count": 163,
   "metadata": {
    "nbgrader": {
     "grade": false,
     "grade_id": "cell-5b0fffbb852b139d",
     "locked": true,
     "schema_version": 3,
     "solution": false,
     "task": false
    }
   },
   "outputs": [],
   "source": [
    "cols_to_include = ['country', 'year', 'Life Ladder', \n",
    "                   'Positive affect','Negative affect',\n",
    "                   'Log GDP per capita', 'Social support',\n",
    "                   'Healthy life expectancy at birth', \n",
    "                   'Freedom to make life choices', \n",
    "                   'Generosity', 'Perceptions of corruption']\n",
    "\n",
    "df = dfraw[cols_to_include]\n"
   ]
  },
  {
   "cell_type": "markdown",
   "metadata": {
    "nbgrader": {
     "grade": false,
     "grade_id": "cell-6bf660764b9fa4fa",
     "locked": true,
     "schema_version": 3,
     "solution": false,
     "task": false
    }
   },
   "source": [
    "### Step 1\n",
    "\n",
    "In the code cell below, call the ```info``` method on the dataframe ```df``` to remind yourself what the dataframe consists of."
   ]
  },
  {
   "cell_type": "code",
   "execution_count": 164,
   "metadata": {
    "nbgrader": {
     "grade": false,
     "grade_id": "cell-008062d8e546312b",
     "locked": true,
     "schema_version": 3,
     "solution": false,
     "task": false
    }
   },
   "outputs": [
    {
     "data": {
      "text/plain": [
       "<bound method DataFrame.info of           country  year  Life Ladder  Positive affect  Negative affect  \\\n",
       "0     Afghanistan  2008         3.72             0.52             0.26   \n",
       "1     Afghanistan  2009         4.40             0.58             0.24   \n",
       "2     Afghanistan  2010         4.76             0.62             0.28   \n",
       "3     Afghanistan  2011         3.83             0.61             0.27   \n",
       "4     Afghanistan  2012         3.78             0.71             0.27   \n",
       "...           ...   ...          ...              ...              ...   \n",
       "1557     Zimbabwe  2013         4.69             0.71             0.18   \n",
       "1558     Zimbabwe  2014         4.18             0.73             0.24   \n",
       "1559     Zimbabwe  2015         3.70             0.72             0.18   \n",
       "1560     Zimbabwe  2016         3.74             0.74             0.21   \n",
       "1561     Zimbabwe  2017         3.64             0.81             0.22   \n",
       "\n",
       "      Log GDP per capita  Social support  Healthy life expectancy at birth  \\\n",
       "0                   7.17            0.45                             49.21   \n",
       "1                   7.33            0.55                             49.62   \n",
       "2                   7.39            0.54                             50.01   \n",
       "3                   7.42            0.52                             50.37   \n",
       "4                   7.52            0.52                             50.71   \n",
       "...                  ...             ...                               ...   \n",
       "1557                7.57            0.80                             48.95   \n",
       "1558                7.56            0.77                             50.05   \n",
       "1559                7.56            0.74                             50.93   \n",
       "1560                7.54            0.77                             51.80   \n",
       "1561                7.54            0.75                             52.67   \n",
       "\n",
       "      Freedom to make life choices  Generosity  Perceptions of corruption  \n",
       "0                             0.72        0.18                       0.88  \n",
       "1                             0.68        0.20                       0.85  \n",
       "2                             0.60        0.14                       0.71  \n",
       "3                             0.50        0.18                       0.73  \n",
       "4                             0.53        0.25                       0.78  \n",
       "...                            ...         ...                        ...  \n",
       "1557                          0.58       -0.08                       0.83  \n",
       "1558                          0.64       -0.05                       0.82  \n",
       "1559                          0.67       -0.09                       0.81  \n",
       "1560                          0.73       -0.07                       0.72  \n",
       "1561                          0.75       -0.07                       0.75  \n",
       "\n",
       "[1562 rows x 11 columns]>"
      ]
     },
     "execution_count": 164,
     "metadata": {},
     "output_type": "execute_result"
    }
   ],
   "source": [
    "df.info"
   ]
  },
  {
   "cell_type": "markdown",
   "metadata": {
    "nbgrader": {
     "grade": false,
     "grade_id": "cell-23885fd2b2ee0c18",
     "locked": true,
     "schema_version": 3,
     "solution": false,
     "task": false
    }
   },
   "source": [
    "### Step 2\n",
    "\n",
    "The ```describe``` method on a dataframe provides a useful statistical summary of the data.  In the code cell below, enter an expression to call this method and examine the output."
   ]
  },
  {
   "cell_type": "code",
   "execution_count": 165,
   "metadata": {
    "nbgrader": {
     "grade": false,
     "grade_id": "cell-ceab8a50be627f89",
     "locked": true,
     "schema_version": 3,
     "solution": false,
     "task": false
    }
   },
   "outputs": [
    {
     "data": {
      "text/plain": [
       "<bound method NDFrame.describe of           country  year  Life Ladder  Positive affect  Negative affect  \\\n",
       "0     Afghanistan  2008         3.72             0.52             0.26   \n",
       "1     Afghanistan  2009         4.40             0.58             0.24   \n",
       "2     Afghanistan  2010         4.76             0.62             0.28   \n",
       "3     Afghanistan  2011         3.83             0.61             0.27   \n",
       "4     Afghanistan  2012         3.78             0.71             0.27   \n",
       "...           ...   ...          ...              ...              ...   \n",
       "1557     Zimbabwe  2013         4.69             0.71             0.18   \n",
       "1558     Zimbabwe  2014         4.18             0.73             0.24   \n",
       "1559     Zimbabwe  2015         3.70             0.72             0.18   \n",
       "1560     Zimbabwe  2016         3.74             0.74             0.21   \n",
       "1561     Zimbabwe  2017         3.64             0.81             0.22   \n",
       "\n",
       "      Log GDP per capita  Social support  Healthy life expectancy at birth  \\\n",
       "0                   7.17            0.45                             49.21   \n",
       "1                   7.33            0.55                             49.62   \n",
       "2                   7.39            0.54                             50.01   \n",
       "3                   7.42            0.52                             50.37   \n",
       "4                   7.52            0.52                             50.71   \n",
       "...                  ...             ...                               ...   \n",
       "1557                7.57            0.80                             48.95   \n",
       "1558                7.56            0.77                             50.05   \n",
       "1559                7.56            0.74                             50.93   \n",
       "1560                7.54            0.77                             51.80   \n",
       "1561                7.54            0.75                             52.67   \n",
       "\n",
       "      Freedom to make life choices  Generosity  Perceptions of corruption  \n",
       "0                             0.72        0.18                       0.88  \n",
       "1                             0.68        0.20                       0.85  \n",
       "2                             0.60        0.14                       0.71  \n",
       "3                             0.50        0.18                       0.73  \n",
       "4                             0.53        0.25                       0.78  \n",
       "...                            ...         ...                        ...  \n",
       "1557                          0.58       -0.08                       0.83  \n",
       "1558                          0.64       -0.05                       0.82  \n",
       "1559                          0.67       -0.09                       0.81  \n",
       "1560                          0.73       -0.07                       0.72  \n",
       "1561                          0.75       -0.07                       0.75  \n",
       "\n",
       "[1562 rows x 11 columns]>"
      ]
     },
     "execution_count": 165,
     "metadata": {},
     "output_type": "execute_result"
    }
   ],
   "source": [
    "df.describe"
   ]
  },
  {
   "cell_type": "markdown",
   "metadata": {
    "nbgrader": {
     "grade": false,
     "grade_id": "cell-28b2a0880e6f8659",
     "locked": true,
     "schema_version": 3,
     "solution": false,
     "task": false
    }
   },
   "source": [
    "Let's look at the output above and compare it with data presented in Table 4 of [Appendix 1 of the 2018 World Happiness Report](https://s3.amazonaws.com/happiness-report/2018/Appendix1ofChapter2.pdf).  Here is Table 4 reproduced from that report:\n",
    "\n",
    "<img src='appendix4.png' width=650 height=650 align=\"left\"/>"
   ]
  },
  {
   "cell_type": "markdown",
   "metadata": {
    "nbgrader": {
     "grade": false,
     "grade_id": "cell-acf0c11623862b6c",
     "locked": true,
     "schema_version": 3,
     "solution": false,
     "task": false
    }
   },
   "source": [
    "Imagine that you were asked to produce a table of this form from the underlying data.  Let's see what is required to get our summary data to resemble Table 4."
   ]
  },
  {
   "cell_type": "markdown",
   "metadata": {
    "nbgrader": {
     "grade": false,
     "grade_id": "cell-63d10279395d9fd1",
     "locked": true,
     "schema_version": 3,
     "solution": false,
     "task": false
    }
   },
   "source": [
    "### Step 3.\n",
    "\n",
    "The first thing you'll notice is that the orientation of the table is different from that produced by ```df.describe```, with data categories listed in rows and summary statistics in the columns.  One easy way to reorient the data produced by ```describe``` is to look at the <i>transpose</i> of the data, that is, what one gets when rows and columns are swapped.\n",
    "\n",
    "The transpose of a dataframe can be accessed simply by accessing the attribute named ```.T``` on the dataframe.  Note that ```T``` is not a method that is called, so it is not followed by parentheses.  Instead, it is a static attribute of the dataframe that can be accessed through that name.\n",
    "\n",
    "The code cell below contains an expression to return the transpose of the summary description provided by ```describe```."
   ]
  },
  {
   "cell_type": "code",
   "execution_count": 166,
   "metadata": {
    "nbgrader": {
     "grade": false,
     "grade_id": "cell-036b49f6ca25cef3",
     "locked": true,
     "schema_version": 3,
     "solution": false,
     "task": false
    }
   },
   "outputs": [
    {
     "data": {
      "text/html": [
       "<div>\n",
       "<style scoped>\n",
       "    .dataframe tbody tr th:only-of-type {\n",
       "        vertical-align: middle;\n",
       "    }\n",
       "\n",
       "    .dataframe tbody tr th {\n",
       "        vertical-align: top;\n",
       "    }\n",
       "\n",
       "    .dataframe thead th {\n",
       "        text-align: right;\n",
       "    }\n",
       "</style>\n",
       "<table border=\"1\" class=\"dataframe\">\n",
       "  <thead>\n",
       "    <tr style=\"text-align: right;\">\n",
       "      <th></th>\n",
       "      <th>count</th>\n",
       "      <th>mean</th>\n",
       "      <th>std</th>\n",
       "      <th>min</th>\n",
       "      <th>25%</th>\n",
       "      <th>50%</th>\n",
       "      <th>75%</th>\n",
       "      <th>max</th>\n",
       "    </tr>\n",
       "  </thead>\n",
       "  <tbody>\n",
       "    <tr>\n",
       "      <th>year</th>\n",
       "      <td>1562.00</td>\n",
       "      <td>2011.82</td>\n",
       "      <td>3.42</td>\n",
       "      <td>2005.00</td>\n",
       "      <td>2009.00</td>\n",
       "      <td>2012.00</td>\n",
       "      <td>2015.00</td>\n",
       "      <td>2017.00</td>\n",
       "    </tr>\n",
       "    <tr>\n",
       "      <th>Life Ladder</th>\n",
       "      <td>1562.00</td>\n",
       "      <td>5.43</td>\n",
       "      <td>1.12</td>\n",
       "      <td>2.66</td>\n",
       "      <td>4.61</td>\n",
       "      <td>5.33</td>\n",
       "      <td>6.27</td>\n",
       "      <td>8.02</td>\n",
       "    </tr>\n",
       "    <tr>\n",
       "      <th>Positive affect</th>\n",
       "      <td>1544.00</td>\n",
       "      <td>0.71</td>\n",
       "      <td>0.11</td>\n",
       "      <td>0.36</td>\n",
       "      <td>0.62</td>\n",
       "      <td>0.72</td>\n",
       "      <td>0.80</td>\n",
       "      <td>0.94</td>\n",
       "    </tr>\n",
       "    <tr>\n",
       "      <th>Negative affect</th>\n",
       "      <td>1550.00</td>\n",
       "      <td>0.26</td>\n",
       "      <td>0.08</td>\n",
       "      <td>0.08</td>\n",
       "      <td>0.20</td>\n",
       "      <td>0.25</td>\n",
       "      <td>0.31</td>\n",
       "      <td>0.70</td>\n",
       "    </tr>\n",
       "    <tr>\n",
       "      <th>Log GDP per capita</th>\n",
       "      <td>1535.00</td>\n",
       "      <td>9.22</td>\n",
       "      <td>1.18</td>\n",
       "      <td>6.38</td>\n",
       "      <td>8.31</td>\n",
       "      <td>9.40</td>\n",
       "      <td>10.19</td>\n",
       "      <td>11.77</td>\n",
       "    </tr>\n",
       "    <tr>\n",
       "      <th>Social support</th>\n",
       "      <td>1549.00</td>\n",
       "      <td>0.81</td>\n",
       "      <td>0.12</td>\n",
       "      <td>0.29</td>\n",
       "      <td>0.75</td>\n",
       "      <td>0.83</td>\n",
       "      <td>0.90</td>\n",
       "      <td>0.99</td>\n",
       "    </tr>\n",
       "    <tr>\n",
       "      <th>Healthy life expectancy at birth</th>\n",
       "      <td>1553.00</td>\n",
       "      <td>62.25</td>\n",
       "      <td>7.96</td>\n",
       "      <td>37.77</td>\n",
       "      <td>57.30</td>\n",
       "      <td>63.80</td>\n",
       "      <td>68.10</td>\n",
       "      <td>76.54</td>\n",
       "    </tr>\n",
       "    <tr>\n",
       "      <th>Freedom to make life choices</th>\n",
       "      <td>1533.00</td>\n",
       "      <td>0.73</td>\n",
       "      <td>0.15</td>\n",
       "      <td>0.26</td>\n",
       "      <td>0.63</td>\n",
       "      <td>0.75</td>\n",
       "      <td>0.84</td>\n",
       "      <td>0.99</td>\n",
       "    </tr>\n",
       "    <tr>\n",
       "      <th>Generosity</th>\n",
       "      <td>1482.00</td>\n",
       "      <td>0.00</td>\n",
       "      <td>0.16</td>\n",
       "      <td>-0.32</td>\n",
       "      <td>-0.11</td>\n",
       "      <td>-0.02</td>\n",
       "      <td>0.09</td>\n",
       "      <td>0.68</td>\n",
       "    </tr>\n",
       "    <tr>\n",
       "      <th>Perceptions of corruption</th>\n",
       "      <td>1472.00</td>\n",
       "      <td>0.75</td>\n",
       "      <td>0.19</td>\n",
       "      <td>0.04</td>\n",
       "      <td>0.70</td>\n",
       "      <td>0.81</td>\n",
       "      <td>0.88</td>\n",
       "      <td>0.98</td>\n",
       "    </tr>\n",
       "  </tbody>\n",
       "</table>\n",
       "</div>"
      ],
      "text/plain": [
       "                                   count    mean  std     min     25%     50%  \\\n",
       "year                             1562.00 2011.82 3.42 2005.00 2009.00 2012.00   \n",
       "Life Ladder                      1562.00    5.43 1.12    2.66    4.61    5.33   \n",
       "Positive affect                  1544.00    0.71 0.11    0.36    0.62    0.72   \n",
       "Negative affect                  1550.00    0.26 0.08    0.08    0.20    0.25   \n",
       "Log GDP per capita               1535.00    9.22 1.18    6.38    8.31    9.40   \n",
       "Social support                   1549.00    0.81 0.12    0.29    0.75    0.83   \n",
       "Healthy life expectancy at birth 1553.00   62.25 7.96   37.77   57.30   63.80   \n",
       "Freedom to make life choices     1533.00    0.73 0.15    0.26    0.63    0.75   \n",
       "Generosity                       1482.00    0.00 0.16   -0.32   -0.11   -0.02   \n",
       "Perceptions of corruption        1472.00    0.75 0.19    0.04    0.70    0.81   \n",
       "\n",
       "                                     75%     max  \n",
       "year                             2015.00 2017.00  \n",
       "Life Ladder                         6.27    8.02  \n",
       "Positive affect                     0.80    0.94  \n",
       "Negative affect                     0.31    0.70  \n",
       "Log GDP per capita                 10.19   11.77  \n",
       "Social support                      0.90    0.99  \n",
       "Healthy life expectancy at birth   68.10   76.54  \n",
       "Freedom to make life choices        0.84    0.99  \n",
       "Generosity                          0.09    0.68  \n",
       "Perceptions of corruption           0.88    0.98  "
      ]
     },
     "execution_count": 166,
     "metadata": {},
     "output_type": "execute_result"
    }
   ],
   "source": [
    "df.describe().T"
   ]
  },
  {
   "cell_type": "markdown",
   "metadata": {
    "nbgrader": {
     "grade": false,
     "grade_id": "cell-c0b173f61238f682",
     "locked": true,
     "schema_version": 3,
     "solution": false,
     "task": false
    }
   },
   "source": [
    "### Step 4.\n",
    "\n",
    "This is looking a bit more like Table 4, although there is some extraneous information that we can remove using the ```drop``` method on a dataframe.  We can also rename the quantities produced by ```df.describe``` to make them appear as in Table 4.\n",
    "\n",
    "Examine the documentation for ```df.drop``` and note that one can specify one or more labels to drop, as well as an axis along which to drop.  For our summary data, we'd like to drop the row labeled 'year' and the columns labeled by '25%', '50%', and '75%', since they are not included in Table 4.\n",
    "\n",
    "In the code cell below, we define a dictionary for the column renaming, and a list defining the column order for the finished table.  \n",
    "\n",
    "The code cell below that contains code to do the following:\n",
    "\n",
    "* From the transposed summary data, drops the row labeled 'year'.\n",
    "* From the resulting dataframe, drops the columns labeled '25%', '50%', and '75%'.\n",
    "* Using the `rename` method on the resulting dataframe, renames the columns according to the mapping defined in ```column_renaming```. \n",
    "* Selects out the columns in the list defined by ```column_order``` and assigns the resulting dataframe to the variable ```dfsummary```.\n",
    "\n",
    "\n",
    "Examine the new dataframe ```dfsummary``` and compare it to Table 4."
   ]
  },
  {
   "cell_type": "code",
   "execution_count": 167,
   "metadata": {
    "nbgrader": {
     "grade": false,
     "grade_id": "cell-300b96d371fd94e3",
     "locked": true,
     "schema_version": 3,
     "solution": false,
     "task": false
    }
   },
   "outputs": [],
   "source": [
    "column_renaming = {'count': 'N', 'mean': 'Mean', 'std': 'Std. Dev.', 'min': 'Min.', 'max': 'Max.'}\n",
    "column_order = ['Mean', 'Std. Dev.', 'Min.', 'Max.', 'N']"
   ]
  },
  {
   "cell_type": "code",
   "execution_count": 168,
   "metadata": {
    "nbgrader": {
     "grade": false,
     "grade_id": "cell-a2f9bc27bc05b3a3",
     "locked": true,
     "schema_version": 3,
     "solution": false,
     "task": false
    }
   },
   "outputs": [
    {
     "data": {
      "text/html": [
       "<div>\n",
       "<style scoped>\n",
       "    .dataframe tbody tr th:only-of-type {\n",
       "        vertical-align: middle;\n",
       "    }\n",
       "\n",
       "    .dataframe tbody tr th {\n",
       "        vertical-align: top;\n",
       "    }\n",
       "\n",
       "    .dataframe thead th {\n",
       "        text-align: right;\n",
       "    }\n",
       "</style>\n",
       "<table border=\"1\" class=\"dataframe\">\n",
       "  <thead>\n",
       "    <tr style=\"text-align: right;\">\n",
       "      <th></th>\n",
       "      <th>Mean</th>\n",
       "      <th>Std. Dev.</th>\n",
       "      <th>Min.</th>\n",
       "      <th>Max.</th>\n",
       "      <th>N</th>\n",
       "    </tr>\n",
       "  </thead>\n",
       "  <tbody>\n",
       "    <tr>\n",
       "      <th>Life Ladder</th>\n",
       "      <td>5.43</td>\n",
       "      <td>1.12</td>\n",
       "      <td>2.66</td>\n",
       "      <td>8.02</td>\n",
       "      <td>1562.00</td>\n",
       "    </tr>\n",
       "    <tr>\n",
       "      <th>Positive affect</th>\n",
       "      <td>0.71</td>\n",
       "      <td>0.11</td>\n",
       "      <td>0.36</td>\n",
       "      <td>0.94</td>\n",
       "      <td>1544.00</td>\n",
       "    </tr>\n",
       "    <tr>\n",
       "      <th>Negative affect</th>\n",
       "      <td>0.26</td>\n",
       "      <td>0.08</td>\n",
       "      <td>0.08</td>\n",
       "      <td>0.70</td>\n",
       "      <td>1550.00</td>\n",
       "    </tr>\n",
       "    <tr>\n",
       "      <th>Log GDP per capita</th>\n",
       "      <td>9.22</td>\n",
       "      <td>1.18</td>\n",
       "      <td>6.38</td>\n",
       "      <td>11.77</td>\n",
       "      <td>1535.00</td>\n",
       "    </tr>\n",
       "    <tr>\n",
       "      <th>Social support</th>\n",
       "      <td>0.81</td>\n",
       "      <td>0.12</td>\n",
       "      <td>0.29</td>\n",
       "      <td>0.99</td>\n",
       "      <td>1549.00</td>\n",
       "    </tr>\n",
       "    <tr>\n",
       "      <th>Healthy life expectancy at birth</th>\n",
       "      <td>62.25</td>\n",
       "      <td>7.96</td>\n",
       "      <td>37.77</td>\n",
       "      <td>76.54</td>\n",
       "      <td>1553.00</td>\n",
       "    </tr>\n",
       "    <tr>\n",
       "      <th>Freedom to make life choices</th>\n",
       "      <td>0.73</td>\n",
       "      <td>0.15</td>\n",
       "      <td>0.26</td>\n",
       "      <td>0.99</td>\n",
       "      <td>1533.00</td>\n",
       "    </tr>\n",
       "    <tr>\n",
       "      <th>Generosity</th>\n",
       "      <td>0.00</td>\n",
       "      <td>0.16</td>\n",
       "      <td>-0.32</td>\n",
       "      <td>0.68</td>\n",
       "      <td>1482.00</td>\n",
       "    </tr>\n",
       "    <tr>\n",
       "      <th>Perceptions of corruption</th>\n",
       "      <td>0.75</td>\n",
       "      <td>0.19</td>\n",
       "      <td>0.04</td>\n",
       "      <td>0.98</td>\n",
       "      <td>1472.00</td>\n",
       "    </tr>\n",
       "  </tbody>\n",
       "</table>\n",
       "</div>"
      ],
      "text/plain": [
       "                                  Mean  Std. Dev.  Min.  Max.       N\n",
       "Life Ladder                       5.43       1.12  2.66  8.02 1562.00\n",
       "Positive affect                   0.71       0.11  0.36  0.94 1544.00\n",
       "Negative affect                   0.26       0.08  0.08  0.70 1550.00\n",
       "Log GDP per capita                9.22       1.18  6.38 11.77 1535.00\n",
       "Social support                    0.81       0.12  0.29  0.99 1549.00\n",
       "Healthy life expectancy at birth 62.25       7.96 37.77 76.54 1553.00\n",
       "Freedom to make life choices      0.73       0.15  0.26  0.99 1533.00\n",
       "Generosity                        0.00       0.16 -0.32  0.68 1482.00\n",
       "Perceptions of corruption         0.75       0.19  0.04  0.98 1472.00"
      ]
     },
     "execution_count": 168,
     "metadata": {},
     "output_type": "execute_result"
    }
   ],
   "source": [
    "dfsummary = df.describe().T.drop('year', axis=0).drop(['25%', '50%', '75%'], axis=1).rename(column_renaming, axis=1)[column_order]\n",
    "dfsummary"
   ]
  },
  {
   "cell_type": "markdown",
   "metadata": {
    "nbgrader": {
     "grade": false,
     "grade_id": "cell-835b91aa08d1f7b0",
     "locked": true,
     "schema_version": 3,
     "solution": false,
     "task": false
    }
   },
   "source": [
    "### Step 5\n",
    "\n",
    "You may notice that one lingering point of discrepancy between the summary dataframe you've produced and the WHR Table 4 is that the number of counts ```N``` in Table 4 is reported as an integer, whereas it is a floating point number in our summary dataframe.  We can alter the type of that column with the code in the following cell.  Execute the code cell below."
   ]
  },
  {
   "cell_type": "code",
   "execution_count": 169,
   "metadata": {
    "nbgrader": {
     "grade": false,
     "grade_id": "cell-ec2ec4be37a36e61",
     "locked": true,
     "schema_version": 3,
     "solution": false,
     "task": false
    }
   },
   "outputs": [
    {
     "data": {
      "text/html": [
       "<div>\n",
       "<style scoped>\n",
       "    .dataframe tbody tr th:only-of-type {\n",
       "        vertical-align: middle;\n",
       "    }\n",
       "\n",
       "    .dataframe tbody tr th {\n",
       "        vertical-align: top;\n",
       "    }\n",
       "\n",
       "    .dataframe thead th {\n",
       "        text-align: right;\n",
       "    }\n",
       "</style>\n",
       "<table border=\"1\" class=\"dataframe\">\n",
       "  <thead>\n",
       "    <tr style=\"text-align: right;\">\n",
       "      <th></th>\n",
       "      <th>Mean</th>\n",
       "      <th>Std. Dev.</th>\n",
       "      <th>Min.</th>\n",
       "      <th>Max.</th>\n",
       "      <th>N</th>\n",
       "    </tr>\n",
       "  </thead>\n",
       "  <tbody>\n",
       "    <tr>\n",
       "      <th>Life Ladder</th>\n",
       "      <td>5.43</td>\n",
       "      <td>1.12</td>\n",
       "      <td>2.66</td>\n",
       "      <td>8.02</td>\n",
       "      <td>1562</td>\n",
       "    </tr>\n",
       "    <tr>\n",
       "      <th>Positive affect</th>\n",
       "      <td>0.71</td>\n",
       "      <td>0.11</td>\n",
       "      <td>0.36</td>\n",
       "      <td>0.94</td>\n",
       "      <td>1544</td>\n",
       "    </tr>\n",
       "    <tr>\n",
       "      <th>Negative affect</th>\n",
       "      <td>0.26</td>\n",
       "      <td>0.08</td>\n",
       "      <td>0.08</td>\n",
       "      <td>0.70</td>\n",
       "      <td>1550</td>\n",
       "    </tr>\n",
       "    <tr>\n",
       "      <th>Log GDP per capita</th>\n",
       "      <td>9.22</td>\n",
       "      <td>1.18</td>\n",
       "      <td>6.38</td>\n",
       "      <td>11.77</td>\n",
       "      <td>1535</td>\n",
       "    </tr>\n",
       "    <tr>\n",
       "      <th>Social support</th>\n",
       "      <td>0.81</td>\n",
       "      <td>0.12</td>\n",
       "      <td>0.29</td>\n",
       "      <td>0.99</td>\n",
       "      <td>1549</td>\n",
       "    </tr>\n",
       "    <tr>\n",
       "      <th>Healthy life expectancy at birth</th>\n",
       "      <td>62.25</td>\n",
       "      <td>7.96</td>\n",
       "      <td>37.77</td>\n",
       "      <td>76.54</td>\n",
       "      <td>1553</td>\n",
       "    </tr>\n",
       "    <tr>\n",
       "      <th>Freedom to make life choices</th>\n",
       "      <td>0.73</td>\n",
       "      <td>0.15</td>\n",
       "      <td>0.26</td>\n",
       "      <td>0.99</td>\n",
       "      <td>1533</td>\n",
       "    </tr>\n",
       "    <tr>\n",
       "      <th>Generosity</th>\n",
       "      <td>0.00</td>\n",
       "      <td>0.16</td>\n",
       "      <td>-0.32</td>\n",
       "      <td>0.68</td>\n",
       "      <td>1482</td>\n",
       "    </tr>\n",
       "    <tr>\n",
       "      <th>Perceptions of corruption</th>\n",
       "      <td>0.75</td>\n",
       "      <td>0.19</td>\n",
       "      <td>0.04</td>\n",
       "      <td>0.98</td>\n",
       "      <td>1472</td>\n",
       "    </tr>\n",
       "  </tbody>\n",
       "</table>\n",
       "</div>"
      ],
      "text/plain": [
       "                                  Mean  Std. Dev.  Min.  Max.     N\n",
       "Life Ladder                       5.43       1.12  2.66  8.02  1562\n",
       "Positive affect                   0.71       0.11  0.36  0.94  1544\n",
       "Negative affect                   0.26       0.08  0.08  0.70  1550\n",
       "Log GDP per capita                9.22       1.18  6.38 11.77  1535\n",
       "Social support                    0.81       0.12  0.29  0.99  1549\n",
       "Healthy life expectancy at birth 62.25       7.96 37.77 76.54  1553\n",
       "Freedom to make life choices      0.73       0.15  0.26  0.99  1533\n",
       "Generosity                        0.00       0.16 -0.32  0.68  1482\n",
       "Perceptions of corruption         0.75       0.19  0.04  0.98  1472"
      ]
     },
     "execution_count": 169,
     "metadata": {},
     "output_type": "execute_result"
    }
   ],
   "source": [
    "dfsummary['N'] = dfsummary['N'].astype(int)\n",
    "dfsummary"
   ]
  },
  {
   "cell_type": "markdown",
   "metadata": {
    "nbgrader": {
     "grade": false,
     "grade_id": "cell-c955c5add45b942a",
     "locked": true,
     "schema_version": 3,
     "solution": false,
     "task": false
    }
   },
   "source": [
    "### Step 6\n",
    "\n",
    "Appendix 1 of the WHR presents several tables similar to Table 4, for different intervals of years, in order to examine how the summary statistics have changed over time.  In the code cells above, we executed several steps to produce a summary dataframe of the desired form.  Since we will want to produce different summary tables for different intervals of years, we can bundle up all the data processing steps above into a new <b>function</b> that we can call, by passing in different dataframes as input to the function.  If we wanted to get summary statistics for just a subset of years, we could create a new dataframe by filtering the full dataset just for those years, and then pass the new dataframe to our function.\n",
    "\n",
    "In the code cell below, write a <b>function</b> named ```produce_summary_table``` that takes a dataframe as an argument (i.e `produce_summary_table(df)`) and returns a <b>summary dataframe</b>. \n",
    "\n",
    "* The input <b>dataframe</b> should be derived from the WHR2018Chapter2OnlineData.xls Table 2.1 data we've been working with.\n",
    "\n",
    "* The returned <b>summary dataframe</b> should be in the same form as Table 4 above. \n",
    "\n",
    "* In writing this function, you should include all of the steps we took in Steps 4 and 5 above to achieve the final result; you will also want to pull in the code above that defines the variables ```column_renaming``` and ```column_order```. \n",
    "\n"
   ]
  },
  {
   "cell_type": "code",
   "execution_count": 195,
   "metadata": {
    "nbgrader": {
     "grade": false,
     "grade_id": "cell-f40ab164eddcde58",
     "locked": false,
     "schema_version": 3,
     "solution": true,
     "task": false
    }
   },
   "outputs": [],
   "source": [
    "# YOUR CODE HERE\n",
    "def produce_summary_table(df):\n",
    "    print(produce_summary_table)"
   ]
  },
  {
   "cell_type": "markdown",
   "metadata": {},
   "source": [
    "## Self-Check\n",
    "\n",
    "Run the cell below to test the correctness of your code in the cell above."
   ]
  },
  {
   "cell_type": "code",
   "execution_count": 196,
   "metadata": {},
   "outputs": [
    {
     "name": "stdout",
     "output_type": "stream",
     "text": [
      "<function produce_summary_table at 0x7fd8a7aa9f28>\n",
      "Error!\n",
      "'NoneType' object has no attribute 'loc'\n"
     ]
    }
   ],
   "source": [
    "# Run this self-test cell to check your code; do not add code or delete code in this cell\n",
    "from jn import testFunction\n",
    "\n",
    "try:\n",
    "    print(testFunction(produce_summary_table))    \n",
    "except Exception as e:\n",
    "    print(\"Error!\\n\" + str(e))\n",
    "    "
   ]
  },
  {
   "cell_type": "markdown",
   "metadata": {
    "nbgrader": {
     "grade": false,
     "grade_id": "cell-5f730bc63f75240b",
     "locked": true,
     "schema_version": 3,
     "solution": false,
     "task": false
    }
   },
   "source": [
    "Test your new function with the dataframe ```df``` that we were working with above.  It should return the summary table that mirrors Table 4."
   ]
  },
  {
   "cell_type": "code",
   "execution_count": 197,
   "metadata": {
    "nbgrader": {
     "grade": false,
     "grade_id": "cell-9b647c694c838b0b",
     "locked": true,
     "schema_version": 3,
     "solution": false,
     "task": false
    }
   },
   "outputs": [
    {
     "data": {
      "text/html": [
       "<div>\n",
       "<style scoped>\n",
       "    .dataframe tbody tr th:only-of-type {\n",
       "        vertical-align: middle;\n",
       "    }\n",
       "\n",
       "    .dataframe tbody tr th {\n",
       "        vertical-align: top;\n",
       "    }\n",
       "\n",
       "    .dataframe thead th {\n",
       "        text-align: right;\n",
       "    }\n",
       "</style>\n",
       "<table border=\"1\" class=\"dataframe\">\n",
       "  <thead>\n",
       "    <tr style=\"text-align: right;\">\n",
       "      <th></th>\n",
       "      <th>country</th>\n",
       "      <th>year</th>\n",
       "      <th>Life Ladder</th>\n",
       "      <th>Positive affect</th>\n",
       "      <th>Negative affect</th>\n",
       "      <th>Log GDP per capita</th>\n",
       "      <th>Social support</th>\n",
       "      <th>Healthy life expectancy at birth</th>\n",
       "      <th>Freedom to make life choices</th>\n",
       "      <th>Generosity</th>\n",
       "      <th>Perceptions of corruption</th>\n",
       "    </tr>\n",
       "  </thead>\n",
       "  <tbody>\n",
       "    <tr>\n",
       "      <th>0</th>\n",
       "      <td>Afghanistan</td>\n",
       "      <td>2008</td>\n",
       "      <td>3.72</td>\n",
       "      <td>0.52</td>\n",
       "      <td>0.26</td>\n",
       "      <td>7.17</td>\n",
       "      <td>0.45</td>\n",
       "      <td>49.21</td>\n",
       "      <td>0.72</td>\n",
       "      <td>0.18</td>\n",
       "      <td>0.88</td>\n",
       "    </tr>\n",
       "    <tr>\n",
       "      <th>1</th>\n",
       "      <td>Afghanistan</td>\n",
       "      <td>2009</td>\n",
       "      <td>4.40</td>\n",
       "      <td>0.58</td>\n",
       "      <td>0.24</td>\n",
       "      <td>7.33</td>\n",
       "      <td>0.55</td>\n",
       "      <td>49.62</td>\n",
       "      <td>0.68</td>\n",
       "      <td>0.20</td>\n",
       "      <td>0.85</td>\n",
       "    </tr>\n",
       "    <tr>\n",
       "      <th>2</th>\n",
       "      <td>Afghanistan</td>\n",
       "      <td>2010</td>\n",
       "      <td>4.76</td>\n",
       "      <td>0.62</td>\n",
       "      <td>0.28</td>\n",
       "      <td>7.39</td>\n",
       "      <td>0.54</td>\n",
       "      <td>50.01</td>\n",
       "      <td>0.60</td>\n",
       "      <td>0.14</td>\n",
       "      <td>0.71</td>\n",
       "    </tr>\n",
       "    <tr>\n",
       "      <th>3</th>\n",
       "      <td>Afghanistan</td>\n",
       "      <td>2011</td>\n",
       "      <td>3.83</td>\n",
       "      <td>0.61</td>\n",
       "      <td>0.27</td>\n",
       "      <td>7.42</td>\n",
       "      <td>0.52</td>\n",
       "      <td>50.37</td>\n",
       "      <td>0.50</td>\n",
       "      <td>0.18</td>\n",
       "      <td>0.73</td>\n",
       "    </tr>\n",
       "    <tr>\n",
       "      <th>4</th>\n",
       "      <td>Afghanistan</td>\n",
       "      <td>2012</td>\n",
       "      <td>3.78</td>\n",
       "      <td>0.71</td>\n",
       "      <td>0.27</td>\n",
       "      <td>7.52</td>\n",
       "      <td>0.52</td>\n",
       "      <td>50.71</td>\n",
       "      <td>0.53</td>\n",
       "      <td>0.25</td>\n",
       "      <td>0.78</td>\n",
       "    </tr>\n",
       "    <tr>\n",
       "      <th>...</th>\n",
       "      <td>...</td>\n",
       "      <td>...</td>\n",
       "      <td>...</td>\n",
       "      <td>...</td>\n",
       "      <td>...</td>\n",
       "      <td>...</td>\n",
       "      <td>...</td>\n",
       "      <td>...</td>\n",
       "      <td>...</td>\n",
       "      <td>...</td>\n",
       "      <td>...</td>\n",
       "    </tr>\n",
       "    <tr>\n",
       "      <th>1557</th>\n",
       "      <td>Zimbabwe</td>\n",
       "      <td>2013</td>\n",
       "      <td>4.69</td>\n",
       "      <td>0.71</td>\n",
       "      <td>0.18</td>\n",
       "      <td>7.57</td>\n",
       "      <td>0.80</td>\n",
       "      <td>48.95</td>\n",
       "      <td>0.58</td>\n",
       "      <td>-0.08</td>\n",
       "      <td>0.83</td>\n",
       "    </tr>\n",
       "    <tr>\n",
       "      <th>1558</th>\n",
       "      <td>Zimbabwe</td>\n",
       "      <td>2014</td>\n",
       "      <td>4.18</td>\n",
       "      <td>0.73</td>\n",
       "      <td>0.24</td>\n",
       "      <td>7.56</td>\n",
       "      <td>0.77</td>\n",
       "      <td>50.05</td>\n",
       "      <td>0.64</td>\n",
       "      <td>-0.05</td>\n",
       "      <td>0.82</td>\n",
       "    </tr>\n",
       "    <tr>\n",
       "      <th>1559</th>\n",
       "      <td>Zimbabwe</td>\n",
       "      <td>2015</td>\n",
       "      <td>3.70</td>\n",
       "      <td>0.72</td>\n",
       "      <td>0.18</td>\n",
       "      <td>7.56</td>\n",
       "      <td>0.74</td>\n",
       "      <td>50.93</td>\n",
       "      <td>0.67</td>\n",
       "      <td>-0.09</td>\n",
       "      <td>0.81</td>\n",
       "    </tr>\n",
       "    <tr>\n",
       "      <th>1560</th>\n",
       "      <td>Zimbabwe</td>\n",
       "      <td>2016</td>\n",
       "      <td>3.74</td>\n",
       "      <td>0.74</td>\n",
       "      <td>0.21</td>\n",
       "      <td>7.54</td>\n",
       "      <td>0.77</td>\n",
       "      <td>51.80</td>\n",
       "      <td>0.73</td>\n",
       "      <td>-0.07</td>\n",
       "      <td>0.72</td>\n",
       "    </tr>\n",
       "    <tr>\n",
       "      <th>1561</th>\n",
       "      <td>Zimbabwe</td>\n",
       "      <td>2017</td>\n",
       "      <td>3.64</td>\n",
       "      <td>0.81</td>\n",
       "      <td>0.22</td>\n",
       "      <td>7.54</td>\n",
       "      <td>0.75</td>\n",
       "      <td>52.67</td>\n",
       "      <td>0.75</td>\n",
       "      <td>-0.07</td>\n",
       "      <td>0.75</td>\n",
       "    </tr>\n",
       "  </tbody>\n",
       "</table>\n",
       "<p>1562 rows × 11 columns</p>\n",
       "</div>"
      ],
      "text/plain": [
       "          country  year  Life Ladder  Positive affect  Negative affect  \\\n",
       "0     Afghanistan  2008         3.72             0.52             0.26   \n",
       "1     Afghanistan  2009         4.40             0.58             0.24   \n",
       "2     Afghanistan  2010         4.76             0.62             0.28   \n",
       "3     Afghanistan  2011         3.83             0.61             0.27   \n",
       "4     Afghanistan  2012         3.78             0.71             0.27   \n",
       "...           ...   ...          ...              ...              ...   \n",
       "1557     Zimbabwe  2013         4.69             0.71             0.18   \n",
       "1558     Zimbabwe  2014         4.18             0.73             0.24   \n",
       "1559     Zimbabwe  2015         3.70             0.72             0.18   \n",
       "1560     Zimbabwe  2016         3.74             0.74             0.21   \n",
       "1561     Zimbabwe  2017         3.64             0.81             0.22   \n",
       "\n",
       "      Log GDP per capita  Social support  Healthy life expectancy at birth  \\\n",
       "0                   7.17            0.45                             49.21   \n",
       "1                   7.33            0.55                             49.62   \n",
       "2                   7.39            0.54                             50.01   \n",
       "3                   7.42            0.52                             50.37   \n",
       "4                   7.52            0.52                             50.71   \n",
       "...                  ...             ...                               ...   \n",
       "1557                7.57            0.80                             48.95   \n",
       "1558                7.56            0.77                             50.05   \n",
       "1559                7.56            0.74                             50.93   \n",
       "1560                7.54            0.77                             51.80   \n",
       "1561                7.54            0.75                             52.67   \n",
       "\n",
       "      Freedom to make life choices  Generosity  Perceptions of corruption  \n",
       "0                             0.72        0.18                       0.88  \n",
       "1                             0.68        0.20                       0.85  \n",
       "2                             0.60        0.14                       0.71  \n",
       "3                             0.50        0.18                       0.73  \n",
       "4                             0.53        0.25                       0.78  \n",
       "...                            ...         ...                        ...  \n",
       "1557                          0.58       -0.08                       0.83  \n",
       "1558                          0.64       -0.05                       0.82  \n",
       "1559                          0.67       -0.09                       0.81  \n",
       "1560                          0.73       -0.07                       0.72  \n",
       "1561                          0.75       -0.07                       0.75  \n",
       "\n",
       "[1562 rows x 11 columns]"
      ]
     },
     "execution_count": 197,
     "metadata": {},
     "output_type": "execute_result"
    }
   ],
   "source": [
    "df"
   ]
  },
  {
   "cell_type": "markdown",
   "metadata": {
    "nbgrader": {
     "grade": false,
     "grade_id": "cell-1a86eafaf7362881",
     "locked": true,
     "schema_version": 3,
     "solution": false,
     "task": false
    }
   },
   "source": [
    "Appendix 1 of the WHR presents similar summary tables for different groups of years:\n",
    "\n",
    "* 2005-2007: Table 5\n",
    "* 2008-2010: Table 6\n",
    "* 2015-2017: Table 7\n",
    "\n",
    "To reproduce each of these tables, you will want to create a new dataframe that filters out the subset of the data in the specified years, as was discussed above in Step 6.  There are various ways to do this extraction.  One way is to use the ```isin``` method on a dataframe or series, which can be used to select those entries which are contained within a specified set of values.  For example, the expression ```df[df.year.isin(range(1900,2000))]``` would return a new dataframe containing all rows of ```df``` that had a year between 1900 and 1999."
   ]
  },
  {
   "cell_type": "markdown",
   "metadata": {
    "nbgrader": {
     "grade": false,
     "grade_id": "cell-78d5a3a954da2d6b",
     "locked": true,
     "schema_version": 3,
     "solution": false,
     "task": false
    }
   },
   "source": [
    "### Step 7\n",
    "\n",
    "The code cell below contains three new dataframes for each of the year ranges associated with Tables 5, 6, and 7, by extracting the appropriate set of years. It uses the function you wrote above to create a summary table for each dataframe (your function takes a dataframe as input). It assigns the resulting summary tables to the names ```dfsummary0507```, ```dfsummary0810```, and ```dfsummary1517```. \n",
    "<br>\n",
    "<br>\n",
    "The remaining three code cells below are populated with the table names ```dfsummary0507```, ```dfsummary0810```, and ```dfsummary1517```. Execute these cells to compare your tables with the corresponding tables in WHR Appendix 1. "
   ]
  },
  {
   "cell_type": "code",
   "execution_count": 198,
   "metadata": {
    "nbgrader": {
     "grade": false,
     "grade_id": "cell-91f9a66d2a19784a",
     "locked": true,
     "schema_version": 3,
     "solution": false,
     "task": false
    }
   },
   "outputs": [
    {
     "name": "stdout",
     "output_type": "stream",
     "text": [
      "<function produce_summary_table at 0x7fd8a7aa9f28>\n",
      "<function produce_summary_table at 0x7fd8a7aa9f28>\n",
      "<function produce_summary_table at 0x7fd8a7aa9f28>\n"
     ]
    }
   ],
   "source": [
    "df0507 = df[df.year.isin(range(2005,2008))]\n",
    "df0810 = df[df.year.isin(range(2008,2011))]\n",
    "df1517 = df[df.year.isin(range(2015,2018))]\n",
    "dfsummary0507 = produce_summary_table(df0507)\n",
    "dfsummary0810 = produce_summary_table(df0810)\n",
    "dfsummary1517 = produce_summary_table(df1517)"
   ]
  },
  {
   "cell_type": "code",
   "execution_count": 199,
   "metadata": {
    "nbgrader": {
     "grade": false,
     "grade_id": "cell-14497f3e21440c51",
     "locked": true,
     "schema_version": 3,
     "solution": false,
     "task": false
    }
   },
   "outputs": [],
   "source": [
    "dfsummary0507"
   ]
  },
  {
   "cell_type": "code",
   "execution_count": 200,
   "metadata": {
    "nbgrader": {
     "grade": false,
     "grade_id": "cell-e8a4093ac44b0a69",
     "locked": true,
     "schema_version": 3,
     "solution": false,
     "task": false
    }
   },
   "outputs": [],
   "source": [
    "dfsummary0810"
   ]
  },
  {
   "cell_type": "code",
   "execution_count": 201,
   "metadata": {
    "nbgrader": {
     "grade": false,
     "grade_id": "cell-dacf40d98112b264",
     "locked": true,
     "schema_version": 3,
     "solution": false,
     "task": false
    }
   },
   "outputs": [],
   "source": [
    "dfsummary1517"
   ]
  }
 ],
 "metadata": {
  "kernelspec": {
   "display_name": "Python 3",
   "language": "python",
   "name": "python3"
  },
  "language_info": {
   "codemirror_mode": {
    "name": "ipython",
    "version": 3
   },
   "file_extension": ".py",
   "mimetype": "text/x-python",
   "name": "python",
   "nbconvert_exporter": "python",
   "pygments_lexer": "ipython3",
   "version": "3.6.7"
  }
 },
 "nbformat": 4,
 "nbformat_minor": 2
}
