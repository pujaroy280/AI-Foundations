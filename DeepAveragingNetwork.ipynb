{
 "cells": [
  {
   "cell_type": "markdown",
   "metadata": {},
   "source": [
    "## Training a Deep Averaging Neural Network Model with Keras in Tensorflow\n",
    "\n",
    "In this project, you will implement a Deep Averaging Network for sentiment classification. \n",
    "\n",
    "This will involve the following steps:\n",
    "\n",
    "1. Load the data set\n",
    "2. Create a \"featurizer\"\n",
    "3. Construct the deep averaging neural network\n",
    "4. Train the model\n",
    "5. Evaluate the model\n",
    "\n",
    "Use the other Neural Network implementations that you have seen this week as guides for completing this exercise.\n",
    "\n",
    "To get started, let us import the libraries we need."
   ]
  },
  {
   "cell_type": "code",
   "execution_count": 113,
   "metadata": {},
   "outputs": [],
   "source": [
    "import pandas as pd\n",
    "import numpy as np\n",
    "import matplotlib.pyplot as plt\n",
    "import tensorflow.keras as keras\n",
    "import tensorflow as tf\n",
    "from sklearn.feature_extraction.text import CountVectorizer"
   ]
  },
  {
   "cell_type": "markdown",
   "metadata": {},
   "source": [
    "###  Load the Data Set\n",
    "\n",
    "We will use the <a href=https://www.cs.jhu.edu/~mdredze/datasets/sentiment/>multi-domain sentiment</a> data set created by Professor <a href=https://www.cs.jhu.edu/~mdredze/>Mark Dredze</a> for our project. This data set contains product reviews taken from Amazon.com from many product types. The product reviews are labeled as positive or negative. In this exercise, we will only consider book reviews. To make things simpler, we also created a dictionary `vocab` that contains words that will be considered when constructing the word embedding for the deep averaging network. Run the following two cells to load the data and see a positive and a negative review:"
   ]
  },
  {
   "cell_type": "code",
   "execution_count": 114,
   "metadata": {},
   "outputs": [
    {
     "name": "stdout",
     "output_type": "stream",
     "text": [
      "Number of Training Reviews:  1787\n",
      "Number of Test Reviews:  200\n",
      "Number of Words in the Vocabulary:  4380\n"
     ]
    }
   ],
   "source": [
    "review_train = pd.read_csv('review_train.csv')\n",
    "review_test = pd.read_csv('review_test.csv')\n",
    "vocab = np.load('vocabulary.npy', allow_pickle=True).item()\n",
    "\n",
    "# class 1 == Positive reviews\n",
    "# class 0 == Negative reviews\n",
    "label_meaning = ['Negative', 'Positive']\n",
    "\n",
    "print('Number of Training Reviews: ', review_train.shape[0])\n",
    "print('Number of Test Reviews: ', review_test.shape[0])\n",
    "print('Number of Words in the Vocabulary: ', len(vocab))"
   ]
  },
  {
   "cell_type": "code",
   "execution_count": 115,
   "metadata": {},
   "outputs": [
    {
     "name": "stdout",
     "output_type": "stream",
     "text": [
      "A Positive Training Review: \n",
      "\n",
      " This was perhaps the best of Johannes Steinhoff's books, since it does not  deal with his own stellar yet tragic WW II and post war career. The  insights of the average person living in Germany are of great importance to  both social and military historians alike. Steinhoff offered this  collective testament as a warning to all of us regarding war and the rise  of a dictator. As Johannes said in an interview, &quot;It is always the  civilians who suffer the most, yet are remembered the least.&quot\n",
      "\n",
      "A Negative Training Review: \n",
      "\n",
      " I got to page 26 and gave up.  Lockes writings lack focus and are void of humour.  I read as much as I could with patience until it became clear this book was simply someone rambling on about nothing.  Save your money for something worth reading\n",
      "\n"
     ]
    }
   ],
   "source": [
    "# print some training reviews\n",
    "print('A Positive Training Review: \\n\\n', review_train.iloc[0]['review'])\n",
    "print('A Negative Training Review: \\n\\n', review_train.iloc[-1]['review'])"
   ]
  },
  {
   "cell_type": "markdown",
   "metadata": {},
   "source": [
    "### Create Word Embeddings from our Data Set"
   ]
  },
  {
   "cell_type": "markdown",
   "metadata": {},
   "source": [
    "We wll create a featurizer to convert the input text to feature vectors. We will use a function from <code>sklearn</code> called <code>CountVectorizer</code> that creates word embeddings for us. It creates a featurizer that takes in a vocabulary and return a **bag of words featurizer** based on the vocabulary. Using the returned featurizer, you can convert a sentence into a bag of words feature vector. See the code cell below for an example on how to use the <code>CountVectorizer</code>:"
   ]
  },
  {
   "cell_type": "code",
   "execution_count": 116,
   "metadata": {},
   "outputs": [
    {
     "name": "stdout",
     "output_type": "stream",
     "text": [
      "[[2 2 1 1]]\n"
     ]
    }
   ],
   "source": [
    "# Create a simple vocabulary\n",
    "simple_vocab = {'learn': 0, 'machine': 1, 'learning': 2, 'teach': 3}\n",
    "\n",
    "# Create a simple sentence that will be converted into bag of words features\n",
    "simple_sentence = ' I learn machine learning to teach machine how to learn.'\n",
    "\n",
    "# Create a featurizer by passing in the vocabulary to CountVectorizer\n",
    "simple_featurizer = CountVectorizer(vocabulary = simple_vocab)\n",
    "\n",
    "# Call simple_featurizer.transform to transform the sentence to its bag of word features\n",
    "output = simple_featurizer.transform([simple_sentence]).toarray()\n",
    "print(output)"
   ]
  },
  {
   "cell_type": "markdown",
   "metadata": {},
   "source": [
    "You should have gotten the array `[[2, 2, 1, 1]]` as output.\n",
    "This means that the sentence has 2 occurences of 'learn', 2 occurences of 'machine', \n",
    "1 occurence of 'learning' and 1 occurence of 'teach'"
   ]
  },
  {
   "cell_type": "markdown",
   "metadata": {},
   "source": [
    "In the code cell below, we will use <code>CountVectorizer</code> to generate a featurizer based on the vocabulary we provided in the `vocab` dictionary."
   ]
  },
  {
   "cell_type": "code",
   "execution_count": 117,
   "metadata": {},
   "outputs": [],
   "source": [
    "# Use the given vocab to generate bag of words featurizer\n",
    "bow_featurizer = CountVectorizer(vocabulary = vocab)"
   ]
  },
  {
   "cell_type": "markdown",
   "metadata": {},
   "source": [
    "### Create Training and Test Sets"
   ]
  },
  {
   "cell_type": "markdown",
   "metadata": {},
   "source": [
    "In the code cell below, we will use the featurizer to convert the training reviews and test reviews into bag of word representations that we can use to train and test our model."
   ]
  },
  {
   "cell_type": "code",
   "execution_count": 118,
   "metadata": {},
   "outputs": [],
   "source": [
    "# convert the reviews to bow representation and tf Tensor\n",
    "x_train = bow_featurizer.transform(review_train['review'].values).toarray() \n",
    "y_train = review_train['label'].values.flatten()\n",
    "x_test = bow_featurizer.transform(review_test['review'].values).toarray()\n",
    "y_test = review_test['label'].values.flatten()"
   ]
  },
  {
   "cell_type": "markdown",
   "metadata": {},
   "source": [
    "### Step 1.  Define Model Structure\n",
    "\n",
    "Like we did in the previous projects, we will use the `Sequential` class to create our neural network structure. But performing the averaging step is tricky in Keras, as it does not give us control over how forward propagation is performed. The solution to this problem is to define our own averaging layer in Tensorflow and Keras, which can be included in `Sequential` when creating the model. We will do this by creating a class `KerasAveragingLayer` in the code cell below. Make sure to execute the cell below in order to use the class in subsequent cells."
   ]
  },
  {
   "cell_type": "code",
   "execution_count": 119,
   "metadata": {},
   "outputs": [],
   "source": [
    "# Define our own averaging layer class in Keras\n",
    "class KerasAveragingLayer(keras.layers.Layer):\n",
    "    def __init__(self, vocab_size, embedding_size=32):\n",
    "        super().__init__()\n",
    "        self.embeds = self.add_weight(\n",
    "            'embeds', shape=[vocab_size, embedding_size]\n",
    "        )\n",
    "\n",
    "    def call(self, x):\n",
    "        return tf.matmul(x, self.embeds) / tf.reduce_sum(x, axis=1, keepdims=True)\n",
    "    "
   ]
  },
  {
   "cell_type": "markdown",
   "metadata": {},
   "source": [
    "In the code cell below we define the model structure using the `Sequential` class and our custom `KerasAveragingLayer` class."
   ]
  },
  {
   "cell_type": "code",
   "execution_count": 120,
   "metadata": {},
   "outputs": [],
   "source": [
    "model = keras.Sequential()\n",
    "\n",
    "input_layer = keras.layers.InputLayer(len(vocab)) # define input layer\n",
    "model.add(input_layer)\n",
    "averaging_layer = KerasAveragingLayer(len(vocab), embedding_size=32)\n",
    "model.add(averaging_layer)\n",
    "output_layer = keras.layers.Dense(2, activation=None)\n",
    "model.add(output_layer)"
   ]
  },
  {
   "cell_type": "markdown",
   "metadata": {},
   "source": [
    "### Step 2. Define the Optimization Function\n",
    "\n",
    "In the code cell below, create a stochastic gradient descent `SGD` optimizer with a learning rate of 5 and assign the result to a variable called `optimizer`."
   ]
  },
  {
   "cell_type": "markdown",
   "metadata": {},
   "source": [
    "### Graded Cell"
   ]
  },
  {
   "cell_type": "code",
   "execution_count": 121,
   "metadata": {},
   "outputs": [],
   "source": [
    "optimizer = keras.optimizers.SGD(learning_rate=5)"
   ]
  },
  {
   "cell_type": "markdown",
   "metadata": {},
   "source": [
    "### Self-Check\n",
    "Run the cell below to test the correctness of your code above before submitting for grading."
   ]
  },
  {
   "cell_type": "code",
   "execution_count": 122,
   "metadata": {},
   "outputs": [
    {
     "name": "stdout",
     "output_type": "stream",
     "text": [
      "Correct!\n"
     ]
    }
   ],
   "source": [
    "# Run this self-test cell to check your code; do not add code or delete code in this cell\n",
    "from jn import testoptimizer\n",
    "try:\n",
    "    print(testoptimizer(optimizer))\n",
    "except Exception as e:\n",
    "    print(\"Error!\\n\" + str(e))\n"
   ]
  },
  {
   "cell_type": "markdown",
   "metadata": {},
   "source": [
    "### Step 3. Define the loss function\n",
    "\n",
    "In the code cell below, create a `SparseCategoricalCrossentropy` loss function with the argument `from_logits=True`, and assign the result to a variable called `loss_fn`."
   ]
  },
  {
   "cell_type": "markdown",
   "metadata": {},
   "source": [
    "### Graded Cell"
   ]
  },
  {
   "cell_type": "code",
   "execution_count": 123,
   "metadata": {},
   "outputs": [],
   "source": [
    "loss_fn = keras.losses.SparseCategoricalCrossentropy(from_logits=True)"
   ]
  },
  {
   "cell_type": "markdown",
   "metadata": {},
   "source": [
    "### Self-Check\n",
    "Run the cell below to test the correctness of your code above before submitting for grading."
   ]
  },
  {
   "cell_type": "code",
   "execution_count": 124,
   "metadata": {},
   "outputs": [
    {
     "name": "stdout",
     "output_type": "stream",
     "text": [
      "Correct!\n"
     ]
    }
   ],
   "source": [
    "# Run this self-test cell to check your code; do not add code or delete code in this cell\n",
    "from jn import testlossfn\n",
    "try:\n",
    "    print(testlossfn(loss_fn))\n",
    "except Exception as e:\n",
    "    print(\"Error!\\n\" + str(e))\n"
   ]
  },
  {
   "cell_type": "markdown",
   "metadata": {},
   "source": [
    "### Step 4. Compile the Model\n",
    "\n",
    "In the code cell below, package the network architecture with the optimizer and the loss function using the `.compile()` method. Include the `metrics` parameter with the value `accuracy`."
   ]
  },
  {
   "cell_type": "markdown",
   "metadata": {},
   "source": [
    "### Graded Cell"
   ]
  },
  {
   "cell_type": "code",
   "execution_count": 125,
   "metadata": {},
   "outputs": [],
   "source": [
    "model.compile(optimizer=optimizer, loss=loss_fn, metrics=['accuracy'])"
   ]
  },
  {
   "cell_type": "markdown",
   "metadata": {},
   "source": [
    "### Self-Check\n",
    "Run the cell below to test the correctness of your code above before submitting for grading."
   ]
  },
  {
   "cell_type": "code",
   "execution_count": 126,
   "metadata": {},
   "outputs": [
    {
     "name": "stdout",
     "output_type": "stream",
     "text": [
      "Correct!\n"
     ]
    }
   ],
   "source": [
    "# Run this self-test cell to check your code; do not add code or delete code in this cell\n",
    "from jn import testmodel\n",
    "try:\n",
    "    print(testmodel(model))\n",
    "except Exception as e:\n",
    "    print(\"Error!\\n\" + str(e))\n"
   ]
  },
  {
   "cell_type": "markdown",
   "metadata": {},
   "source": [
    "### Step 5. Train the Model"
   ]
  },
  {
   "cell_type": "markdown",
   "metadata": {},
   "source": [
    "As before, we will define our own callback class to output information from our model while it is training. Make sure you execute the code cell below so that it can be used in subsequent cells."
   ]
  },
  {
   "cell_type": "code",
   "execution_count": 127,
   "metadata": {},
   "outputs": [],
   "source": [
    "class ProgBarLoggerNEpochs(tf.keras.callbacks.Callback):\n",
    "    \n",
    "    def __init__(self, num_epochs: int, every_n: int = 50):\n",
    "        self.num_epochs = num_epochs\n",
    "        self.every_n = every_n\n",
    "    \n",
    "    def on_epoch_end(self, epoch, logs=None):\n",
    "        if (epoch + 1) % self.every_n == 0:\n",
    "            s = 'Epoch [{}/ {}]'.format(epoch + 1, self.num_epochs)\n",
    "            logs_s = ['{}: {:.4f}'.format(k.capitalize(), v)\n",
    "                      for k, v in logs.items()]\n",
    "            s_list = [s] + logs_s\n",
    "            print(', '.join(s_list))"
   ]
  },
  {
   "cell_type": "markdown",
   "metadata": {},
   "source": [
    "\n",
    "In the code cell below, run the `.fit()` method on the model to learn parameters from the training data and save the output to variable `history`. In addition to passing in the training data `x_train` and `y_train` as arguments, specify the following parameters:\n",
    "\n",
    "* set `epochs` to equal M\n",
    "* set `steps_per_epoch` to equal 5\n",
    "* set `batch_size` to equal 128\n",
    "* set `verbose` to 0\n",
    "* set `callbacks` to a list containing our logger function`ProgBarLoggerNEpochs(M, every_n=100)`  \n"
   ]
  },
  {
   "cell_type": "markdown",
   "metadata": {},
   "source": [
    "### Graded Cell\n",
    "\n",
    "<i>Note: a self-check will not accompany this exercise</i>"
   ]
  },
  {
   "cell_type": "code",
   "execution_count": 128,
   "metadata": {},
   "outputs": [
    {
     "name": "stdout",
     "output_type": "stream",
     "text": [
      "Epoch [100/ 1000], Loss: 0.5441, Accuracy: 0.7234\n",
      "Epoch [200/ 1000], Loss: 0.2345, Accuracy: 0.9203\n",
      "Epoch [300/ 1000], Loss: 0.1033, Accuracy: 0.9669\n",
      "Epoch [400/ 1000], Loss: 0.0840, Accuracy: 0.9734\n",
      "Epoch [500/ 1000], Loss: 0.0285, Accuracy: 0.9969\n",
      "Epoch [600/ 1000], Loss: 0.0129, Accuracy: 1.0000\n",
      "Epoch [700/ 1000], Loss: 0.0088, Accuracy: 1.0000\n",
      "Epoch [800/ 1000], Loss: 0.0066, Accuracy: 1.0000\n",
      "Epoch [900/ 1000], Loss: 0.0040, Accuracy: 1.0000\n",
      "Epoch [1000/ 1000], Loss: 0.0040, Accuracy: 1.0000\n"
     ]
    }
   ],
   "source": [
    "M = 1000 # number of epochs\n",
    "\n",
    "history = model.fit(\n",
    "    x_train,\n",
    "    y_train,\n",
    "    steps_per_epoch = 5,\n",
    "    batch_size = 128,\n",
    "    epochs=M,\n",
    "    verbose=0, # disable the default progress bar\n",
    "    callbacks=[ProgBarLoggerNEpochs(M, every_n=100)],\n",
    ")"
   ]
  },
  {
   "cell_type": "markdown",
   "metadata": {},
   "source": [
    "The model will likely train quickly, reaching 100% accuracy in a few-hundred epochs. We can plot the training losses to check."
   ]
  },
  {
   "cell_type": "code",
   "execution_count": 129,
   "metadata": {},
   "outputs": [
    {
     "data": {
      "image/png": "[encoded data removed]",
      "text/plain": [
       "<Figure size 432x288 with 1 Axes>"
      ]
     },
     "metadata": {
      "needs_background": "light"
     },
     "output_type": "display_data"
    }
   ],
   "source": [
    "plt.plot(np.arange(M) + 1, history.history['loss'])\n",
    "plt.xlabel('epoch')\n",
    "plt.ylabel('training loss')\n",
    "plt.show()"
   ]
  },
  {
   "cell_type": "markdown",
   "metadata": {},
   "source": [
    "### Step 6. Evaluate the Model"
   ]
  },
  {
   "cell_type": "markdown",
   "metadata": {},
   "source": [
    "In the code cell below, use the `.evaluate()` method on the test set (`x_test` and `y_test`) to get a sense of how our model will generalize to new data. The `.evaluate()` method returns two values: the first is loss and the second is accuracy. Save the results to variables `loss` and `accuracy` and print these results."
   ]
  },
  {
   "cell_type": "markdown",
   "metadata": {},
   "source": [
    "### Graded Cell"
   ]
  },
  {
   "cell_type": "code",
   "execution_count": 130,
   "metadata": {},
   "outputs": [
    {
     "name": "stdout",
     "output_type": "stream",
     "text": [
      "Loss:  0.6159882545471191 Accuracy:  0.9049999713897705\n"
     ]
    }
   ],
   "source": [
    "loss, accuracy = model.evaluate(x_test, y_test, verbose=0)\n",
    "print('Loss: ', str(loss) , 'Accuracy: ', str(accuracy))"
   ]
  },
  {
   "cell_type": "markdown",
   "metadata": {},
   "source": [
    "### Self-Check\n",
    "Run the cell below to test the correctness of your code above before submitting for grading."
   ]
  },
  {
   "cell_type": "code",
   "execution_count": 131,
   "metadata": {},
   "outputs": [
    {
     "name": "stdout",
     "output_type": "stream",
     "text": [
      "Correct!\n"
     ]
    }
   ],
   "source": [
    "# Run this self-test cell to check your code; do not add code or delete code in this cell\n",
    "from jn import testlossacc\n",
    "try:\n",
    "    print(testlossacc(model, x_test, y_test, loss, accuracy))\n",
    "except Exception as e:\n",
    "    print(\"Error!\\n\" + str(e))\n"
   ]
  },
  {
   "cell_type": "markdown",
   "metadata": {},
   "source": [
    "In the code cell below, make a prediction on our test data. We will later analyze for ourselves whether the prediction is accurate.\n",
    "\n",
    "1. Use the `.predict()` method to make a prediction on `x_test` and save the results to variable `1ogits`.\n",
    "\n",
    "2. Next, use method `.argmax(axis=1)` to convert `logits` to predicted labels, and save the results to variable `pred`."
   ]
  },
  {
   "cell_type": "markdown",
   "metadata": {},
   "source": [
    "### Graded Cell"
   ]
  },
  {
   "cell_type": "code",
   "execution_count": 132,
   "metadata": {},
   "outputs": [
    {
     "name": "stdout",
     "output_type": "stream",
     "text": [
      "Predictions for the first 5 data points:\n",
      "Logits\t\t\tClass\n",
      "[-7.282077   7.2656555]\t1\n",
      "[-3.1004603  3.0962598]\t1\n",
      "[-4.815721  4.804714]\t1\n",
      "[-1.1063694  1.0996342]\t1\n",
      "[-7.725144  7.719185]\t1\n"
     ]
    }
   ],
   "source": [
    "# Evaluate the network\n",
    "# Make predictions on the test set\n",
    "logits = model.predict(x_test)\n",
    "pred = logits.argmax(axis = 1)\n",
    "\n",
    "print(\"Predictions for the first 5 data points:\")\n",
    "print(\"Logits\\t\\t\\tClass\")\n",
    "for i in range(0,5):\n",
    "    print(str(logits[i]) + \"\\t\" + str(pred[i]))"
   ]
  },
  {
   "cell_type": "markdown",
   "metadata": {},
   "source": [
    "### Self-Check\n",
    "Run the cell below to test the correctness of your code above before submitting for grading."
   ]
  },
  {
   "cell_type": "code",
   "execution_count": 133,
   "metadata": {},
   "outputs": [
    {
     "name": "stdout",
     "output_type": "stream",
     "text": [
      "Correct!\n"
     ]
    }
   ],
   "source": [
    "# Run this self-test cell to check your code; do not add code or delete code in this cell\n",
    "from jn import testpred\n",
    "try:\n",
    "    print(testpred(model, x_test, logits, pred))\n",
    "except Exception as e:\n",
    "    print(\"Error!\\n\" + str(e))\n"
   ]
  },
  {
   "cell_type": "markdown",
   "metadata": {},
   "source": [
    "To examine an individual test case we can print out the 20th row of the test data set and see how our model classified it. Remember that label 1 refers to a positive review and label 0 to a negative review. The code cell below prints out the review and the predicted lablel. How did we do on this one?"
   ]
  },
  {
   "cell_type": "code",
   "execution_count": 134,
   "metadata": {},
   "outputs": [
    {
     "name": "stdout",
     "output_type": "stream",
     "text": [
      "Input: \n",
      "\n",
      "  I'm almost finished reading this book, and what a long, fun ride it's been.  Wordy, and a little confusing, this book has to be taken in the right mood, or else you'll miss the humor.\n",
      "\n",
      "The places that the main character travels to are memorable and exciting, and I found myself getting through a hefty portion, without thinking that I had ever started.\n",
      "\n",
      "Some....no, more like most of the satire is cryptic, and hard to find.  However, I read up on the book, and it immediately popped out at me, and made alot more sense.\n",
      "\n",
      "This is an excellent book, that I'm sure you will enjoy.  It might even suit as a read-aloud story for younger children\n",
      "\n",
      "\n",
      "Model prediction: \n",
      "Positive\n"
     ]
    }
   ],
   "source": [
    "print('Input: \\n\\n ',review_test.iloc[20]['review'])\n",
    "\n",
    "label = pred[20]\n",
    "print('\\nModel prediction: ')\n",
    "if label == 1:\n",
    "    print('Positive')\n",
    "else:\n",
    "    print('Negative')"
   ]
  }
 ],
 "metadata": {
  "kernelspec": {
   "display_name": "Python 3",
   "language": "python",
   "name": "python3"
  },
  "language_info": {
   "codemirror_mode": {
    "name": "ipython",
    "version": 3
   },
   "file_extension": ".py",
   "mimetype": "text/x-python",
   "name": "python",
   "nbconvert_exporter": "python",
   "pygments_lexer": "ipython3",
   "version": "3.6.8"
  }
 },
 "nbformat": 4,
 "nbformat_minor": 4
}
