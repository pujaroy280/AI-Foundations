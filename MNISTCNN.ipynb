{
 "cells": [
  {
   "cell_type": "markdown",
   "metadata": {},
   "source": [
    "## Training a Convolutional Neural Network Model with Keras in Tensorflow\n",
    "\n",
    "In this exercise, we will implement a convolutional neural network used for image classification with four hidden layers, using stochastic gradient descent. We will once again work with the MNIST data set, a famous collection of images used for handwriting recognition. It contains labelled images of handwritten numbers from 0 to 9. Using Keras, we will fit a CNN to classify these images. We will carry out the following steps: \n",
    "\n",
    "1. Import and clean the data\n",
    "2. Construct the convolutional neural network\n",
    "3. Train the model\n",
    "4. Evaluate the model\n",
    "\n",
    "To get started, let us import the libraries we need.\n"
   ]
  },
  {
   "cell_type": "code",
   "execution_count": 1,
   "metadata": {},
   "outputs": [],
   "source": [
    "import tensorflow.keras as keras\n",
    "import math\n",
    "import time\n",
    "import numpy as np\n",
    "import matplotlib.pyplot as plt"
   ]
  },
  {
   "cell_type": "markdown",
   "metadata": {},
   "source": [
    "### Import the Data Set and Create Training and Test Sets"
   ]
  },
  {
   "cell_type": "markdown",
   "metadata": {},
   "source": [
    "The mnist data set comes preloaded in Keras. The `load_data()` function returns the data set split into training and test subsets. The cell below loads the data set and contains training and test data."
   ]
  },
  {
   "cell_type": "code",
   "execution_count": 2,
   "metadata": {},
   "outputs": [
    {
     "name": "stdout",
     "output_type": "stream",
     "text": [
      "Downloading data from https://storage.googleapis.com/tensorflow/tf-keras-datasets/mnist.npz\n",
      "11493376/11490434 [==============================] - 0s 0us/step\n"
     ]
    }
   ],
   "source": [
    "# The mnist data set comes preloaded in Tensorflow    \n",
    "mnist = keras.datasets.mnist\n",
    "\n",
    "# Create training and test sets\n",
    "(x_train, y_train),(x_test, y_test) = mnist.load_data()"
   ]
  },
  {
   "cell_type": "markdown",
   "metadata": {},
   "source": [
    "We've created a function `plot_imgs` to help us visualize the training data. Execute the two code cells below."
   ]
  },
  {
   "cell_type": "code",
   "execution_count": 3,
   "metadata": {},
   "outputs": [],
   "source": [
    "# Function to visualize the training data\n",
    "def plot_imgs(images, labels=None):\n",
    "    subplots_x = int(math.ceil(len(images) / 5))\n",
    "    plt.figure(figsize=(10,2*subplots_x))\n",
    "    for i in range(min(len(images), subplots_x*5)):\n",
    "        plt.subplot(subplots_x,5,i+1)\n",
    "        plt.xticks([])\n",
    "        plt.yticks([])\n",
    "        plt.grid(False)\n",
    "        plt.imshow(images[i], cmap=plt.cm.binary)\n",
    "        if labels is not None:\n",
    "            plt.xlabel(labels[i])\n",
    "    plt.show()\n",
    "    "
   ]
  },
  {
   "cell_type": "code",
   "execution_count": 4,
   "metadata": {},
   "outputs": [
    {
     "data": {
      "image/png": "[encoded data removed]",
      "text/plain": [
       "<Figure size 720x144 with 5 Axes>"
      ]
     },
     "metadata": {},
     "output_type": "display_data"
    }
   ],
   "source": [
    "# Visualize some example training images\n",
    "plot_imgs(x_train[:5], y_train[:5])"
   ]
  },
  {
   "cell_type": "code",
   "execution_count": 5,
   "metadata": {},
   "outputs": [
    {
     "name": "stdout",
     "output_type": "stream",
     "text": [
      "Number training points: 60000 \n",
      "Number testing points : 10000\n"
     ]
    }
   ],
   "source": [
    "print('Number training points:',len(x_train), '\\nNumber testing points :',len(x_test))"
   ]
  },
  {
   "cell_type": "markdown",
   "metadata": {},
   "source": [
    "Keras downloads the images raw with pixel values between 0 and 255. We must normalize them to be between 0 and 1."
   ]
  },
  {
   "cell_type": "code",
   "execution_count": 6,
   "metadata": {},
   "outputs": [],
   "source": [
    "# Normalize pixel values\n",
    "x_train, x_test = x_train / 255.0, x_test / 255.0\n",
    "\n",
    "# Converting datasets of shape (num_points, 28, 28) to (num_points, 28, 28, 1)\n",
    "x_train, x_test = x_train[..., np.newaxis], x_test[..., np.newaxis]"
   ]
  },
  {
   "cell_type": "markdown",
   "metadata": {},
   "source": [
    "### Step 1. Define Model Structure\n",
    "\n",
    "Constructing a hidden layer in a convolutional neural network requires composing a 2D convolution, followed by a batch normalization and then followed by a transition function. The code cell below uses the `Sequential` class to create a CNN with four hidden layers."
   ]
  },
  {
   "cell_type": "code",
   "execution_count": 7,
   "metadata": {},
   "outputs": [
    {
     "name": "stdout",
     "output_type": "stream",
     "text": [
      "Model: \"sequential\"\n",
      "_________________________________________________________________\n",
      "Layer (type)                 Output Shape              Param #   \n",
      "=================================================================\n",
      "conv2d (Conv2D)              (None, 26, 26, 16)        160       \n",
      "_________________________________________________________________\n",
      "batch_normalization (BatchNo (None, 26, 26, 16)        64        \n",
      "_________________________________________________________________\n",
      "re_lu (ReLU)                 (None, 26, 26, 16)        0         \n",
      "_________________________________________________________________\n",
      "conv2d_1 (Conv2D)            (None, 24, 24, 32)        4640      \n",
      "_________________________________________________________________\n",
      "batch_normalization_1 (Batch (None, 24, 24, 32)        128       \n",
      "_________________________________________________________________\n",
      "re_lu_1 (ReLU)               (None, 24, 24, 32)        0         \n",
      "_________________________________________________________________\n",
      "conv2d_2 (Conv2D)            (None, 22, 22, 64)        18496     \n",
      "_________________________________________________________________\n",
      "batch_normalization_2 (Batch (None, 22, 22, 64)        256       \n",
      "_________________________________________________________________\n",
      "re_lu_2 (ReLU)               (None, 22, 22, 64)        0         \n",
      "_________________________________________________________________\n",
      "conv2d_3 (Conv2D)            (None, 20, 20, 128)       73856     \n",
      "_________________________________________________________________\n",
      "batch_normalization_3 (Batch (None, 20, 20, 128)       512       \n",
      "_________________________________________________________________\n",
      "re_lu_3 (ReLU)               (None, 20, 20, 128)       0         \n",
      "_________________________________________________________________\n",
      "global_average_pooling2d (Gl (None, 128)               0         \n",
      "_________________________________________________________________\n",
      "dense (Dense)                (None, 10)                1290      \n",
      "=================================================================\n",
      "Total params: 99,402\n",
      "Trainable params: 98,922\n",
      "Non-trainable params: 480\n",
      "_________________________________________________________________\n"
     ]
    }
   ],
   "source": [
    "model = keras.models.Sequential()\n",
    "\n",
    "# layer 1 (specifies initial input layer as well):\n",
    "conv_1= keras.layers.Conv2D(16, 3, strides=(1, 1), input_shape=(28, 28, 1), activation=None)\n",
    "batchNorm_1 =  keras.layers.BatchNormalization()\n",
    "relu_1 = keras.layers.ReLU()                             \n",
    "model.add(conv_1)\n",
    "model.add(batchNorm_1)\n",
    "model.add(relu_1)\n",
    "\n",
    "# layer 2:\n",
    "conv_2= keras.layers.Conv2D(32, 3, strides=(1, 1), activation=None)\n",
    "batchNorm_2 =  keras.layers.BatchNormalization()\n",
    "relu_2 = keras.layers.ReLU()\n",
    "model.add(conv_2)\n",
    "model.add(batchNorm_2)\n",
    "model.add(relu_2)\n",
    "\n",
    "# layer 3:\n",
    "conv_3= keras.layers.Conv2D(64, 3, strides=(1, 1), activation=None)\n",
    "batchNorm_3 = keras.layers.BatchNormalization()\n",
    "relu_3 = keras.layers.ReLU()\n",
    "model.add(conv_3)\n",
    "model.add(batchNorm_3)\n",
    "model.add(relu_3)\n",
    "\n",
    "# layer 4:\n",
    "conv_4= keras.layers.Conv2D(128, 3, strides=(1, 1), activation=None)\n",
    "batchNorm_4 =  keras.layers.BatchNormalization()\n",
    "relu_4 = keras.layers.ReLU()\n",
    "model.add(conv_4)\n",
    "model.add(batchNorm_4)\n",
    "model.add(relu_4)\n",
    "\n",
    "# pooling layer\n",
    "pooling_layer = keras.layers.GlobalAveragePooling2D()\n",
    "model.add(pooling_layer)\n",
    "\n",
    "# output layer\n",
    "output_layer = keras.layers.Dense(10, activation=None)\n",
    "model.add(output_layer)\n",
    "\n",
    "model.summary()"
   ]
  },
  {
   "cell_type": "markdown",
   "metadata": {},
   "source": [
    "### Step 2. Define the Optimization Function"
   ]
  },
  {
   "cell_type": "code",
   "execution_count": 8,
   "metadata": {},
   "outputs": [],
   "source": [
    "optimizer = keras.optimizers.SGD(learning_rate=0.1)"
   ]
  },
  {
   "cell_type": "markdown",
   "metadata": {},
   "source": [
    "### Step 3. Define the loss function"
   ]
  },
  {
   "cell_type": "code",
   "execution_count": 9,
   "metadata": {},
   "outputs": [],
   "source": [
    "loss_fn = keras.losses.SparseCategoricalCrossentropy(from_logits=True)"
   ]
  },
  {
   "cell_type": "markdown",
   "metadata": {},
   "source": [
    "### Step 4. Compile the model"
   ]
  },
  {
   "cell_type": "code",
   "execution_count": 10,
   "metadata": {},
   "outputs": [],
   "source": [
    "model.compile(optimizer=optimizer, loss=loss_fn, metrics=['accuracy'])"
   ]
  },
  {
   "cell_type": "markdown",
   "metadata": {},
   "source": [
    "### Step 5. Train the Model\n",
    "\n",
    "We can fit the model on the training data. Since there are 60,000 training data points and nearly 100,000 parameters to fit, this may take a while to run even though we are only choosing to use 10 epochs."
   ]
  },
  {
   "cell_type": "code",
   "execution_count": 11,
   "metadata": {},
   "outputs": [
    {
     "name": "stdout",
     "output_type": "stream",
     "text": [
      "Epoch 1/10\n",
      "1875/1875 [==============================] - 145s 77ms/step - loss: 0.3367 - accuracy: 0.9179\n",
      "Epoch 2/10\n",
      "1875/1875 [==============================] - 143s 76ms/step - loss: 0.0992 - accuracy: 0.9731\n",
      "Epoch 3/10\n",
      "1875/1875 [==============================] - 143s 76ms/step - loss: 0.0752 - accuracy: 0.9784\n",
      "Epoch 4/10\n",
      "1875/1875 [==============================] - 144s 77ms/step - loss: 0.0621 - accuracy: 0.9820\n",
      "Epoch 5/10\n",
      "1875/1875 [==============================] - 142s 76ms/step - loss: 0.0548 - accuracy: 0.9838\n",
      "Epoch 6/10\n",
      "1875/1875 [==============================] - 143s 76ms/step - loss: 0.0497 - accuracy: 0.9851\n",
      "Epoch 7/10\n",
      "1875/1875 [==============================] - 143s 76ms/step - loss: 0.0469 - accuracy: 0.9859\n",
      "Epoch 8/10\n",
      "1875/1875 [==============================] - 143s 76ms/step - loss: 0.0433 - accuracy: 0.9869\n",
      "Epoch 9/10\n",
      "1875/1875 [==============================] - 143s 76ms/step - loss: 0.0397 - accuracy: 0.9880\n",
      "Epoch 10/10\n",
      "1875/1875 [==============================] - 143s 76ms/step - loss: 0.0379 - accuracy: 0.9882\n",
      "Elapsed time: 1432.83s\n"
     ]
    }
   ],
   "source": [
    "M = 10 # Number of epochs\n",
    "\n",
    "t0 = time.time() # start time\n",
    "\n",
    "history = model.fit(x_train, y_train, epochs=M)\n",
    "\n",
    "t1 = time.time() # stop time\n",
    "\n",
    "print('Elapsed time: %.2fs' % (t1-t0))"
   ]
  },
  {
   "cell_type": "markdown",
   "metadata": {},
   "source": [
    "### Step 6. Evaluate the Network\n",
    "\n",
    "After all that training, let's see how we did. To do this, we'll compute the model's loss and accuracy on the hold out test set. "
   ]
  },
  {
   "cell_type": "code",
   "execution_count": 12,
   "metadata": {},
   "outputs": [
    {
     "name": "stdout",
     "output_type": "stream",
     "text": [
      "Loss:  0.0677681490778923 Accuracy:  0.9799000024795532\n"
     ]
    }
   ],
   "source": [
    "loss, accuracy = model.evaluate(x_test, y_test, verbose=0)\n",
    "print('Loss: ', str(loss) , 'Accuracy: ', str(accuracy))"
   ]
  },
  {
   "cell_type": "markdown",
   "metadata": {},
   "source": [
    "Next we'll make some predictions on the test set and see for ourselves how accurate they are. The code cell below will display the first 5 images in the test set `x_test`, and below each image, it will print the predicted digit. How well did we do?"
   ]
  },
  {
   "cell_type": "code",
   "execution_count": 13,
   "metadata": {},
   "outputs": [
    {
     "name": "stdout",
     "output_type": "stream",
     "text": [
      "Predictions on first 5 test images:\n"
     ]
    },
    {
     "data": {
      "image/png": "[encoded data removed]",
      "text/plain": [
       "<Figure size 720x144 with 5 Axes>"
      ]
     },
     "metadata": {},
     "output_type": "display_data"
    }
   ],
   "source": [
    "# Make predictions on the test set\n",
    "logits = model.predict(x_test)\n",
    "predictions = logits.argmax(axis = 1)\n",
    "\n",
    "# Examine individual predictions\n",
    "print('Predictions on first 5 test images:')\n",
    "plot_imgs(np.squeeze(x_test * 255, axis=-1)[:5], predictions[:5])"
   ]
  }
 ],
 "metadata": {
  "kernelspec": {
   "display_name": "Python 3",
   "language": "python",
   "name": "python3"
  },
  "language_info": {
   "codemirror_mode": {
    "name": "ipython",
    "version": 3
   },
   "file_extension": ".py",
   "mimetype": "text/x-python",
   "name": "python",
   "nbconvert_exporter": "python",
   "pygments_lexer": "ipython3",
   "version": "3.6.8"
  }
 },
 "nbformat": 4,
 "nbformat_minor": 4
}
